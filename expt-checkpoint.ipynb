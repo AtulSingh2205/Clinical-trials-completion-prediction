{
 "cells": [
  {
   "cell_type": "code",
   "execution_count": 2,
   "id": "567ceb4b-5f0a-4a59-a2f1-4d930ac6d3fd",
   "metadata": {},
   "outputs": [],
   "source": [
    "import pandas as pd"
   ]
  },
  {
   "cell_type": "code",
   "execution_count": 151,
   "id": "ccf3baff-0b2f-45e0-b361-506348164f9e",
   "metadata": {},
   "outputs": [],
   "source": [
    "import numpy as np"
   ]
  },
  {
   "cell_type": "markdown",
   "id": "b62b0b1a-21e7-4f37-9d2e-f54f6b1860e0",
   "metadata": {},
   "source": [
    "# Merging the required data provided in usecase_3, withdrwals.txt and eligibilities.txt\n"
   ]
  },
  {
   "cell_type": "markdown",
   "id": "2a91dde5-0c8e-46df-a68a-f45b7116476b",
   "metadata": {},
   "source": [
    "<span style=\"color: blue;\"> We integrated relevant data points extracted from 'usecase.csv', 'eligibilities.txt', and 'withdrawls.txt' files.\n",
    "Firstly we converted the 'eligibilities.txt' and 'withdrawls.txt' files into either CSV or Excel format for compatibility.</span>"
   ]
  },
  {
   "cell_type": "code",
   "execution_count": 287,
   "id": "2f900f03-3d1a-4cbf-895e-57d7b4169334",
   "metadata": {},
   "outputs": [],
   "source": [
    "df= pd.read_csv('usecase_3_.csv')"
   ]
  },
  {
   "cell_type": "code",
   "execution_count": 4,
   "id": "276833b8-c3dd-471c-b031-40bc3067e285",
   "metadata": {},
   "outputs": [],
   "source": [
    "df_2=pd.read_excel('withdrawls.xlsx')"
   ]
  },
  {
   "cell_type": "code",
   "execution_count": 5,
   "id": "7bd6f2d0-f1dc-48af-936a-addc7419b8a7",
   "metadata": {},
   "outputs": [],
   "source": [
    "df_4=pd.read_excel('elgb.xlsx')"
   ]
  },
  {
   "cell_type": "code",
   "execution_count": 6,
   "id": "eab60c8f-857e-4d09-b4a8-660c73d1ddc1",
   "metadata": {},
   "outputs": [],
   "source": [
    "df_renamed = df_2.rename(columns={'nct_id': 'NCT Number'})"
   ]
  },
  {
   "cell_type": "code",
   "execution_count": 7,
   "id": "e5bd2140-b867-45ab-b116-b59d7bf53352",
   "metadata": {},
   "outputs": [],
   "source": [
    "df_renamed.drop(['ctgov_group_code','period'],axis=1,inplace=True)"
   ]
  },
  {
   "cell_type": "code",
   "execution_count": 8,
   "id": "8587f9f7-b278-4fd0-9ce4-f70fb43b589a",
   "metadata": {},
   "outputs": [],
   "source": [
    "df_3=df_renamed.drop(['drop_withdraw_comment','reason_comment','count_units'],axis=1)"
   ]
  },
  {
   "cell_type": "code",
   "execution_count": 9,
   "id": "1eb1620b-6872-43d1-8786-53aa6db103fb",
   "metadata": {},
   "outputs": [],
   "source": [
    "df_3.drop(['id','result_group_id','reason'],axis=1,inplace=True)"
   ]
  },
  {
   "cell_type": "raw",
   "id": "3922fe79-44d2-46cd-8503-9b404edaaf65",
   "metadata": {},
   "source": [
    "merging the dataframes based on the NCT Number to create a final DataFrame.\n",
    "By using left joins, the code ensures that no data from the initial usecase_3.csv DataFrame is lost during the merging process"
   ]
  },
  {
   "cell_type": "code",
   "execution_count": 10,
   "id": "4fcc4a67-79f9-4db7-9343-7b57f94d4823",
   "metadata": {},
   "outputs": [],
   "source": [
    "df_grouped = df_renamed.groupby('NCT Number')['reason'].apply(lambda x: ', '.join(x)).reset_index()\n",
    "\n",
    "df_merged = pd.merge(df_grouped, df_renamed.groupby('NCT Number')['count'].sum().reset_index(), on='NCT Number')"
   ]
  },
  {
   "cell_type": "code",
   "execution_count": 288,
   "id": "f307f607-550a-4d97-a016-2ada89f56887",
   "metadata": {},
   "outputs": [],
   "source": [
    "merged_dff = pd.merge(df, df_merged, on='NCT Number', how='left')"
   ]
  },
  {
   "cell_type": "code",
   "execution_count": 268,
   "id": "26dffb9e-f9dd-469c-b888-5feea160af07",
   "metadata": {},
   "outputs": [],
   "source": [
    "df_4 = df_4.rename(columns={'nct_id': 'NCT Number'})"
   ]
  },
  {
   "cell_type": "code",
   "execution_count": null,
   "id": "beb7764d-754b-47a9-a767-fbbe92128561",
   "metadata": {},
   "outputs": [],
   "source": [
    "df_4.drop(['id','sampling_method','gender','minimum_age','maximum_age','population','gender_description','gender_based'],axis=1,inplace=True)"
   ]
  },
  {
   "cell_type": "code",
   "execution_count": 289,
   "id": "a779b5fe-3e12-4ff0-b5e6-02ce71420bf8",
   "metadata": {},
   "outputs": [],
   "source": [
    "final_df = pd.merge(merged_dff, df_4 , on='NCT Number', how='left')"
   ]
  },
  {
   "cell_type": "code",
   "execution_count": 290,
   "id": "31795265-477b-487b-888b-d9b9105a7e1a",
   "metadata": {},
   "outputs": [],
   "source": [
    "df_lda=final_df.copy()"
   ]
  },
  {
   "cell_type": "code",
   "execution_count": null,
   "id": "83fc455c-f1c4-4ebd-a19a-9aadfa86824f",
   "metadata": {},
   "outputs": [],
   "source": []
  },
  {
   "cell_type": "markdown",
   "id": "309d34db-22f8-4e92-862e-d7fe0a202442",
   "metadata": {},
   "source": [
    "## We pruned the dataset to include only the essential features"
   ]
  },
  {
   "cell_type": "code",
   "execution_count": 291,
   "id": "f8a96323-b055-4da6-a177-f4df967d3040",
   "metadata": {},
   "outputs": [],
   "source": [
    "df_lda.drop(['Brief Summary','Acronym','Study URL', 'Unnamed: 0', 'Unnamed: 0.1'],axis =1,inplace=True )"
   ]
  },
  {
   "cell_type": "code",
   "execution_count": 292,
   "id": "8fc08475-66ae-4f39-a67d-a5cb3453209e",
   "metadata": {},
   "outputs": [],
   "source": [
    "df_lda.drop(['Primary Completion Date'],axis =1,inplace=True )"
   ]
  },
  {
   "cell_type": "code",
   "execution_count": 293,
   "id": "9f0db60d-21c3-45ee-81c0-c57555391a4a",
   "metadata": {},
   "outputs": [],
   "source": [
    "df_lda.drop(['Other IDs','First Posted','reason','criteria',\n",
    "       'Results First Posted', 'Last Update Posted', 'Locations',\n",
    "       'Study Documents','Funder Type','Other Outcome Measures', 'Sponsor',\n",
    "       'Collaborators','Age','Primary Outcome Measures','Secondary Outcome Measures','Phases'],axis =1,inplace=True )"
   ]
  },
  {
   "cell_type": "code",
   "execution_count": 294,
   "id": "ac70e6ad-9632-4b1a-8c1c-507a865428c6",
   "metadata": {},
   "outputs": [
    {
     "name": "stdout",
     "output_type": "stream",
     "text": [
      "<class 'pandas.core.frame.DataFrame'>\n",
      "RangeIndex: 257577 entries, 0 to 257576\n",
      "Data columns (total 17 columns):\n",
      " #   Column              Non-Null Count   Dtype  \n",
      "---  ------              --------------   -----  \n",
      " 0   NCT Number          257577 non-null  object \n",
      " 1   Study Title         257577 non-null  object \n",
      " 2   Study Status        257577 non-null  object \n",
      " 3   Study Results       257577 non-null  object \n",
      " 4   Conditions          257577 non-null  object \n",
      " 5   Interventions       234064 non-null  object \n",
      " 6   Sex                 257317 non-null  object \n",
      " 7   Enrollment          254205 non-null  float64\n",
      " 8   Study Type          257577 non-null  object \n",
      " 9   Study Design        257577 non-null  object \n",
      " 10  Start Date          255245 non-null  object \n",
      " 11  Completion Date     249686 non-null  object \n",
      " 12  count               31108 non-null   float64\n",
      " 13  healthy_volunteers  252640 non-null  object \n",
      " 14  adult               257154 non-null  object \n",
      " 15  child               257154 non-null  object \n",
      " 16  older_adult         257154 non-null  object \n",
      "dtypes: float64(2), object(15)\n",
      "memory usage: 33.4+ MB\n"
     ]
    }
   ],
   "source": [
    "df_lda.info()"
   ]
  },
  {
   "cell_type": "code",
   "execution_count": null,
   "id": "cb4162ca-db26-4bf1-ae21-8f838b918768",
   "metadata": {},
   "outputs": [],
   "source": []
  },
  {
   "cell_type": "code",
   "execution_count": 295,
   "id": "88968901-796d-4842-8aea-07f30f62044d",
   "metadata": {},
   "outputs": [],
   "source": [
    "def convert_date_format(date_str):\n",
    "    try:\n",
    "        if len(str(date_str)) == 7:\n",
    "            return f'{str(date_str)}-01' \n",
    "        else:\n",
    "            return str(date_str)\n",
    "    except (TypeError, ValueError):\n",
    "        return None  "
   ]
  },
  {
   "cell_type": "code",
   "execution_count": 296,
   "id": "1a1bc230-20b5-4fc5-bab0-6091b0d02ffe",
   "metadata": {},
   "outputs": [],
   "source": [
    "df_lda['Completion Date'] =df_lda['Completion Date'].apply(convert_date_format)"
   ]
  },
  {
   "cell_type": "code",
   "execution_count": 297,
   "id": "7ea15a5a-7ed5-49ee-87ba-d4dbd78e002b",
   "metadata": {},
   "outputs": [],
   "source": [
    "df_lda['Start Date'] =df_lda['Start Date'].apply(convert_date_format)"
   ]
  },
  {
   "cell_type": "code",
   "execution_count": 298,
   "id": "141a38fb-8941-4b19-a0ba-228ed990a33d",
   "metadata": {},
   "outputs": [],
   "source": [
    "df_lda['Start Date'] = pd.to_datetime(df_lda['Start Date'])\n",
    "df_lda['Completion Date'] = pd.to_datetime(df_lda['Completion Date'])\n",
    "\n",
    "df_lda['Duration_Days'] = (df_lda['Completion Date'] - df_lda['Start Date']).dt.days"
   ]
  },
  {
   "cell_type": "code",
   "execution_count": 299,
   "id": "4dc2e32c-f465-43c0-9d9a-0143c2800d2a",
   "metadata": {},
   "outputs": [],
   "source": [
    "df_lda.drop(['Start Date','Completion Date'],axis=1,inplace=True)"
   ]
  },
  {
   "cell_type": "code",
   "execution_count": 300,
   "id": "e7694945-403c-42d4-a23d-4c7f12373a9a",
   "metadata": {},
   "outputs": [],
   "source": [
    "df=df_lda.copy()"
   ]
  },
  {
   "cell_type": "markdown",
   "id": "f7269ac0-78ec-462f-bc45-872332d1e2a0",
   "metadata": {},
   "source": [
    "# Minimizing information loss"
   ]
  },
  {
   "cell_type": "markdown",
   "id": "353f1303-a88b-48aa-a3b2-463e662daa10",
   "metadata": {},
   "source": [
    "<span style=\"color: blue;\">To minimize information loss, three of the four selected textual columns (Condition, Interventions, Study Design) were transformed into a set of categorical features. Subsequently, the 'Study Title' column was filtered using these newly created categorical features to effectively extract the objectives of the clinical trials. Study title feature was then preprocessed for word embedding</span>"
   ]
  },
  {
   "cell_type": "markdown",
   "id": "14f99ac7-e61b-40c8-9e21-1aeb4531c792",
   "metadata": {},
   "source": [
    "# For Conditions column"
   ]
  },
  {
   "cell_type": "code",
   "execution_count": 302,
   "id": "e07fb5a6-448a-4766-8a45-eebc24f49239",
   "metadata": {},
   "outputs": [],
   "source": [
    "\n",
    "df['Conditions'] = df['Conditions'].str.replace('|', ',')\n",
    "\n",
    "# Split and create a list of new column names\n",
    "new_column_names = [f'condition_{i+1}' for i in range(df['Conditions'].str.split(',').str.len().max())]\n",
    "\n",
    "# Split 'Conditions' and create a list of lists\n",
    "conditions_list = df['Conditions'].str.split(',').tolist()\n",
    "\n",
    "# Create a new DataFrame with the split values\n",
    "new_df = pd.DataFrame(conditions_list, columns=new_column_names)\n",
    "\n",
    "# Concatenate the original DataFrame with the new one\n",
    "df = pd.concat([df, new_df], axis=1)\n",
    "\n",
    "# Drop the original 'Conditions' column\n",
    "df = df.drop('Conditions', axis=1)"
   ]
  },
  {
   "cell_type": "code",
   "execution_count": 303,
   "id": "4d8003bf-6f61-4658-94e5-036e36a3b86c",
   "metadata": {},
   "outputs": [],
   "source": [
    "df_lda=df.copy()"
   ]
  },
  {
   "cell_type": "code",
   "execution_count": 304,
   "id": "96ed0d5b-6e00-417e-8193-857b49c95e5d",
   "metadata": {},
   "outputs": [],
   "source": [
    "start_col = 35\n",
    "end_col = 175\n",
    "\n",
    "# Drop columns using integer-based indexing\n",
    "df_lda = df_lda.drop(df_lda.columns[start_col-1:end_col], axis=1) "
   ]
  },
  {
   "cell_type": "code",
   "execution_count": 305,
   "id": "9623aaa5-0e34-4558-96e2-6991fcf7205b",
   "metadata": {},
   "outputs": [],
   "source": [
    "start_col = 22\n",
    "end_col = 57\n",
    "\n",
    "# Drop columns using integer-based indexing\n",
    "df_lda = df_lda.drop(df_lda.columns[start_col-1:end_col], axis=1) "
   ]
  },
  {
   "cell_type": "code",
   "execution_count": 307,
   "id": "f315b666-aa7b-4db8-b9a9-4a3af9220e10",
   "metadata": {},
   "outputs": [],
   "source": [
    "df=df_lda.copy()"
   ]
  },
  {
   "cell_type": "markdown",
   "id": "485d79eb-960f-420e-ab81-37e59fb1b4a4",
   "metadata": {},
   "source": [
    "# For Interventions column"
   ]
  },
  {
   "cell_type": "code",
   "execution_count": 308,
   "id": "c068bbfc-ab18-4a91-9f67-273a36a2c6e6",
   "metadata": {},
   "outputs": [],
   "source": [
    "df['Interventions'] = df['Interventions'].astype(str) "
   ]
  },
  {
   "cell_type": "code",
   "execution_count": 309,
   "id": "86e49283-5b2e-4a33-805d-8cbd402aa633",
   "metadata": {},
   "outputs": [],
   "source": [
    "def extract_device_procedure(text):\n",
    "    DEVICE=[]\n",
    "    DRUG=[]\n",
    "    PROCEDURE=[]\n",
    "    BIOLOGICAL=[]\n",
    "    OTHER=[]\n",
    "    RADIATION=[]\n",
    "    device = None\n",
    "    procedure = None\n",
    "    drug = None\n",
    "    biological = None\n",
    "    other = None\n",
    "    radiation = None\n",
    "    if isinstance(text, str):\n",
    "        for item in text.split('|'):\n",
    "            item = item.strip()\n",
    "            if item.startswith('DEVICE:'):\n",
    "                device = item[len('DEVICE:'):]\n",
    "                DEVICE.append(device)\n",
    "            elif item.startswith('PROCEDURE:'):\n",
    "                procedure = item[len('PROCEDURE:'):]\n",
    "                PROCEDURE.append(procedure)\n",
    "            elif item.startswith('BIOLOGICAL:'):\n",
    "                biological = item[len('BIOLOGICAL:'):]\n",
    "                BIOLOGICAL.append(biological)\n",
    "            elif item.startswith('OTHER:'):\n",
    "                other = item[len('OTHER:'):]\n",
    "                OTHER.append(other)\n",
    "            elif item.startswith('DRUG:'):\n",
    "                drug = item[len('DRUG:'):]\n",
    "                DRUG.append(drug)\n",
    "            elif item.startswith('RADIATION:'):\n",
    "                radiation = item[len('RADIATION:'):]\n",
    "                RADIATION.append(radiation)\n",
    "    return {'DEVICE': DEVICE, 'PROCEDURE': PROCEDURE,'RADIATION':RADIATION,'DRUG':DRUG,'OTHER':OTHER,'BIOLOGICAL':BIOLOGICAL}"
   ]
  },
  {
   "cell_type": "code",
   "execution_count": 310,
   "id": "90a4acc7-ba83-456c-9f05-b05f44efa38a",
   "metadata": {},
   "outputs": [],
   "source": [
    "df[['DEVICE', 'PROCEDURE','RADIATION','DRUG','BIOLOGICAL','OTHER']] = df['Interventions'].apply(extract_device_procedure).apply(pd.Series)"
   ]
  },
  {
   "cell_type": "code",
   "execution_count": 312,
   "id": "a14da40d-ce64-45ca-bf18-dc3c9eee4c64",
   "metadata": {},
   "outputs": [],
   "source": [
    "df_lda=df.copy()"
   ]
  },
  {
   "cell_type": "markdown",
   "id": "d7facb8b-e0fa-4825-968b-5bba9aaa77ae",
   "metadata": {},
   "source": [
    "# For Study Design column"
   ]
  },
  {
   "cell_type": "code",
   "execution_count": 313,
   "id": "93963985-c1c5-44cf-b680-bd3ed35166c5",
   "metadata": {},
   "outputs": [],
   "source": [
    "def extract_study_design_components(text):\n",
    "    \"\"\"\n",
    "    Extracts components from the study design string.\n",
    "\n",
    "    Args:\n",
    "        text: The input string describing the study design.\n",
    "\n",
    "    Returns:\n",
    "        A dictionary containing extracted components.\n",
    "    \"\"\"\n",
    "    components = {}\n",
    "    if isinstance(text, str):\n",
    "        parts = text.split('|')\n",
    "        for part in parts:\n",
    "            if part.startswith('Allocation:'):\n",
    "                components['Allocation'] = part.split(':')[1].strip()\n",
    "            elif part.startswith('Intervention Model:'):\n",
    "                components['Intervention Model'] = part.split(':')[1].strip()\n",
    "            elif part.startswith('Masking:'):\n",
    "                components['Masking'] = part.split(':')[1].strip()\n",
    "            elif part.startswith('Primary Purpose:'):\n",
    "                components['Primary Purpose'] = part.split(':')[1].strip()\n",
    "            elif part.startswith('Observational Model:'):\n",
    "                components['Observational Model'] = part.split(':')[0].strip()\n",
    "    return components"
   ]
  },
  {
   "cell_type": "code",
   "execution_count": 314,
   "id": "150300d6-892d-478b-a55e-f09330ee1752",
   "metadata": {},
   "outputs": [],
   "source": [
    "df_lda[['Allocation', 'Intervention Model', 'Masking', 'Primary Purpose', 'Observational Model']] = \\\n",
    "    df_lda['Study Design'].apply(extract_study_design_components).apply(pd.Series)"
   ]
  },
  {
   "cell_type": "code",
   "execution_count": 315,
   "id": "9b5e58c6-91e6-487a-8105-2aa7ced9270a",
   "metadata": {},
   "outputs": [],
   "source": [
    "df_lda['Masking'] = df_lda['Masking'].apply(lambda x: str(x)[0:].replace(',', ' '))"
   ]
  },
  {
   "cell_type": "code",
   "execution_count": 317,
   "id": "ed609055-4b4e-46fc-974c-a7d5c6d1eee2",
   "metadata": {},
   "outputs": [],
   "source": [
    "df=df_lda.copy()"
   ]
  },
  {
   "cell_type": "markdown",
   "id": "eafcc675-80f5-4c9c-91bf-1663cdab1d1d",
   "metadata": {},
   "source": [
    "<span style=\"color: blue;\">'Study Title' column was filtered using these newly created categorical features to effectively extract the objectives of the clinical trials.</span>"
   ]
  },
  {
   "cell_type": "code",
   "execution_count": 318,
   "id": "e02cc8b1-2158-4030-8c6e-cb40958c9ea0",
   "metadata": {},
   "outputs": [],
   "source": [
    "df['DEVICE'] = df['DEVICE'].astype(str)\n",
    "df['PROCEDURE'] = df['PROCEDURE'].astype(str)\n",
    "df['DRUG'] = df['DRUG'].astype(str)\n",
    "df['RADIATION'] = df['RADIATION'].astype(str)\n",
    "df['OTHER'] = df['OTHER'].astype(str)\n",
    "df['BIOLOGICAL'] = df['BIOLOGICAL'].astype(str)"
   ]
  },
  {
   "cell_type": "code",
   "execution_count": 319,
   "id": "ec01f354-0388-4f2e-b334-5d54346d5d25",
   "metadata": {},
   "outputs": [],
   "source": [
    "import re"
   ]
  },
  {
   "cell_type": "code",
   "execution_count": 320,
   "id": "54979a8e-d7d3-4dd9-86a8-2106a74031b8",
   "metadata": {},
   "outputs": [],
   "source": [
    "def remove_symbols(text):\n",
    "    text = re.sub(r'[^\\w\\s\\d]', '',text)\n",
    "    return text"
   ]
  },
  {
   "cell_type": "code",
   "execution_count": 321,
   "id": "d2fd9ff0-2248-4209-9843-6a7d15136dd7",
   "metadata": {},
   "outputs": [],
   "source": [
    "df['DEVICE'] = df['DEVICE'].apply(remove_symbols)\n",
    "df['PROCEDURE'] = df['PROCEDURE'].apply(remove_symbols)\n",
    "df['DRUG'] = df['DRUG'].apply(remove_symbols)\n",
    "df['RADIATION'] = df['RADIATION'].apply(remove_symbols)\n",
    "df['OTHER'] = df['OTHER'].apply(remove_symbols)\n",
    "df['BIOLOGICAL'] = df['BIOLOGICAL'].apply(remove_symbols)"
   ]
  },
  {
   "cell_type": "code",
   "execution_count": null,
   "id": "a570a59f-ecf7-4871-99a5-e65ebdd36b0f",
   "metadata": {},
   "outputs": [],
   "source": []
  },
  {
   "cell_type": "code",
   "execution_count": 322,
   "id": "e87d2e57-4d11-46b0-9be0-205d85fc9659",
   "metadata": {},
   "outputs": [],
   "source": [
    "df['Study Title'] = df['Study Title'].str.lower()\n",
    "df['condition_1'] = df['condition_1'].str.lower()\n",
    "df['condition_2'] = df['condition_2'].str.lower()\n",
    "df['condition_3'] = df['condition_3'].str.lower()\n",
    "df['condition_4'] = df['condition_4'].str.lower()\n",
    "df['condition_5'] = df['condition_5'].str.lower()\n",
    "df['condition_6'] = df['condition_6'].str.lower()\n"
   ]
  },
  {
   "cell_type": "code",
   "execution_count": 323,
   "id": "2e789a59-5859-41b6-b34c-d86168a019fe",
   "metadata": {},
   "outputs": [],
   "source": [
    "df['DEVICE'] = df['DEVICE'].str.lower()\n",
    "df['PROCEDURE'] = df['PROCEDURE'].str.lower()\n",
    "df['DRUG'] = df['DRUG'].str.lower()\n",
    "df['RADIATION'] = df['RADIATION'].str.lower()\n",
    "df['OTHER'] = df['OTHER'].str.lower()\n",
    "df['BIOLOGICAL'] = df['BIOLOGICAL'].str.lower()"
   ]
  },
  {
   "cell_type": "code",
   "execution_count": 324,
   "id": "dab9ae59-c75c-4578-aeb5-7d51868c95b8",
   "metadata": {},
   "outputs": [],
   "source": [
    "import pandas as pd\n",
    "\n",
    "def remove_shared_words(df, target_col, other_cols):\n",
    "\n",
    "    def remove_shared_words_from_row(row):\n",
    "        target_words = set(row[target_col].split())\n",
    "        other_words = set()\n",
    "        for col in other_cols:\n",
    "            other_words.update(row[col].split())\n",
    "        words_to_keep = target_words - other_words\n",
    "        return ' '.join(words_to_keep)\n",
    "\n",
    "    df[target_col] = df.apply(remove_shared_words_from_row, axis=1)\n",
    "    return df\n"
   ]
  },
  {
   "cell_type": "code",
   "execution_count": 325,
   "id": "a1788a81-02df-40c3-8de2-acdbba0e4b78",
   "metadata": {},
   "outputs": [],
   "source": [
    "df[\"OTHER\"]=df[\"OTHER\"].astype(str)"
   ]
  },
  {
   "cell_type": "code",
   "execution_count": 326,
   "id": "2eac6821-5c9a-4bf8-990c-3317df1b5067",
   "metadata": {},
   "outputs": [],
   "source": [
    "df['condition_2'] = df['condition_2'].fillna('')\n",
    "df['condition_3'] = df['condition_3'].fillna('')\n",
    "df['condition_4'] = df['condition_4'].fillna('')\n",
    "df['condition_5'] = df['condition_5'].fillna('')\n",
    "df['condition_6'] = df['condition_6'].fillna('')"
   ]
  },
  {
   "cell_type": "code",
   "execution_count": 327,
   "id": "48bfcee2-be0c-4db0-b9e4-6a5c1a2d63e5",
   "metadata": {},
   "outputs": [],
   "source": [
    "df = remove_shared_words(df, 'Study Title', ['DEVICE','RADIATION','PROCEDURE','DRUG','BIOLOGICAL','OTHER','condition_1', 'condition_2', 'condition_3', 'condition_4', 'condition_5','condition_6'])"
   ]
  },
  {
   "cell_type": "markdown",
   "id": "e354c78e-5287-4871-8763-c2bfa75feefd",
   "metadata": {},
   "source": [
    "# WORD EMBEDDING"
   ]
  },
  {
   "cell_type": "raw",
   "id": "caef74c3-edc5-4623-b0f2-aeebf7aae2c8",
   "metadata": {},
   "source": [
    "We transformed the data into a numerical representation suitable for machine learning models\n",
    "using BioWordVec Embeddings extrinsic\n",
    "BioWordVec embeddings are specifically designed for biomedical text. Extrinsic evaluation assesses their performance on downstream tasks\n"
   ]
  },
  {
   "cell_type": "code",
   "execution_count": 328,
   "id": "72ef0e7f-2e31-4a2a-8283-d73fbdbfb8d2",
   "metadata": {},
   "outputs": [],
   "source": [
    "def preprocess_text(text):\n",
    "    text = text.lower()  # Convert to lowercase\n",
    "    text = text.translate(str.maketrans('', '', string.punctuation))  # Remove punctuation\n",
    "    words = word_tokenize(text) \n",
    "    stop_words = set(stopwords.words('english')) \n",
    "    filtered_words = [word for word in words if word not in stop_words] \n",
    "    return filtered_words "
   ]
  },
  {
   "cell_type": "code",
   "execution_count": 329,
   "id": "a546ea72-4333-4853-8bec-4e341ab5bf60",
   "metadata": {},
   "outputs": [],
   "source": [
    "import pandas as pd\n",
    "from nltk.tokenize import word_tokenize \n",
    "from nltk.corpus import stopwords\n",
    "import string"
   ]
  },
  {
   "cell_type": "code",
   "execution_count": 330,
   "id": "01b834f7-96c6-4377-b511-352e1a51c771",
   "metadata": {},
   "outputs": [],
   "source": [
    "df['Study Title'] = df['Study Title'].fillna('')"
   ]
  },
  {
   "cell_type": "code",
   "execution_count": 331,
   "id": "765fc4cd-30ac-4657-bc09-aa40252b9329",
   "metadata": {},
   "outputs": [],
   "source": [
    "df['Study Title'] = df['Study Title'].apply(preprocess_text)"
   ]
  },
  {
   "cell_type": "code",
   "execution_count": 332,
   "id": "1c1428bb-4765-4e54-ba6e-dd05c21204a3",
   "metadata": {},
   "outputs": [],
   "source": [
    "df['Study Title'] = df['Study Title'].apply(lambda x: str(x)[1:-1].replace(',', ' '))"
   ]
  },
  {
   "cell_type": "code",
   "execution_count": 333,
   "id": "1dc20a37-a647-4b96-88e5-e14d1c832cb5",
   "metadata": {},
   "outputs": [],
   "source": [
    "df['Study Title'] = df['Study Title'].apply(remove_symbols)"
   ]
  },
  {
   "cell_type": "markdown",
   "id": "d364af40-0f7f-4e5f-aacc-a212edb4c84b",
   "metadata": {},
   "source": [
    "## Data preprocessing for word embedding"
   ]
  },
  {
   "cell_type": "code",
   "execution_count": 334,
   "id": "a6d44b4a-8664-4011-950c-da27f4f6c2d4",
   "metadata": {},
   "outputs": [],
   "source": [
    "df_lda=df.copy()"
   ]
  },
  {
   "cell_type": "code",
   "execution_count": 335,
   "id": "2aba020e-61c9-4c0b-9953-0f2c4e50bd68",
   "metadata": {},
   "outputs": [],
   "source": [
    "df_lda = df_lda.replace('nan', np.nan)"
   ]
  },
  {
   "cell_type": "code",
   "execution_count": 336,
   "id": "6ba33869-7dd6-419c-868e-b8a822231741",
   "metadata": {},
   "outputs": [],
   "source": [
    "df_lda['Study Title'] = df_lda['Study Title'].astype(str)"
   ]
  },
  {
   "cell_type": "code",
   "execution_count": 337,
   "id": "574fdfcf-ce6e-42be-a196-8ec771887b40",
   "metadata": {},
   "outputs": [],
   "source": [
    "df_lda['Allocation']=df_lda['Allocation'].fillna('')\n",
    "df_lda['Intervention Model']=df_lda['Intervention Model'].fillna('')\n",
    "df_lda['Masking']=df_lda['Masking'].fillna('')\n",
    "df_lda['Primary Purpose']=df_lda['Primary Purpose'].fillna('')\n",
    "df_lda['Observational Model']=df_lda['Observational Model'].fillna('')"
   ]
  },
  {
   "cell_type": "code",
   "execution_count": 338,
   "id": "adcaf175-8f49-4628-9c32-8dc5719e680b",
   "metadata": {},
   "outputs": [],
   "source": [
    "df_lda['Allocation'] = df_lda['Allocation'].astype(str)\n",
    "df_lda['Intervention Model'] = df_lda['Intervention Model'].astype(str)\n",
    "df_lda['Masking'] = df_lda['Masking'].astype(str)\n",
    "df_lda['Primary Purpose'] = df_lda['Primary Purpose'].astype(str)\n",
    "df_lda['Observational Model'] = df_lda['Observational Model'].astype(str)"
   ]
  },
  {
   "cell_type": "code",
   "execution_count": 339,
   "id": "ffff5406-7e29-41d7-88ef-0f432a4f7885",
   "metadata": {},
   "outputs": [],
   "source": [
    "df_lda['Allocation'] = df_lda['Allocation'].str.lower()\n",
    "df_lda['Intervention Model'] = df_lda['Intervention Model'].str.lower()\n",
    "df_lda['Masking'] = df_lda['Masking'].str.lower()\n",
    "df_lda['Primary Purpose'] = df_lda['Primary Purpose'].str.lower()\n",
    "df_lda['Observational Model'] = df_lda['Observational Model'].str.lower()"
   ]
  },
  {
   "cell_type": "code",
   "execution_count": 340,
   "id": "d90cd1c2-bcca-4471-8d49-113de122b27d",
   "metadata": {},
   "outputs": [],
   "source": [
    "df_lda['Allocation'] = df_lda['Allocation'].str.replace(\"_\", \" \")\n",
    "df_lda['Intervention Model'] = df_lda['Intervention Model'].str.replace(\"_\", \" \")\n",
    "df_lda['Masking'] = df_lda['Masking'].str.replace(\"_\", \" \")\n",
    "df_lda['Primary Purpose'] = df_lda['Primary Purpose'].str.replace(\"_\", \" \")\n",
    "df_lda['Observational Model'] = df_lda['Observational Model'].str.replace(\"_\", \" \")"
   ]
  },
  {
   "cell_type": "code",
   "execution_count": null,
   "id": "2ebe080a-328c-4072-aebe-958992d939a8",
   "metadata": {},
   "outputs": [],
   "source": []
  },
  {
   "cell_type": "code",
   "execution_count": 341,
   "id": "e526a665-d683-4596-addd-68c91c09519a",
   "metadata": {},
   "outputs": [],
   "source": [
    "df_lda['DEVICE'] = df_lda['DEVICE'].fillna('') \n",
    "df_lda['PROCEDURE'] = df_lda['PROCEDURE'].fillna('') \n",
    "df_lda['RADIATION'] = df_lda['RADIATION'].fillna('') \n",
    "df_lda['DRUG'] = df_lda['DRUG'].fillna('') \n",
    "df_lda['BIOLOGICAL'] = df_lda['BIOLOGICAL'].fillna('') \n",
    "df_lda['OTHER'] = df_lda['OTHER'].fillna('') "
   ]
  },
  {
   "cell_type": "code",
   "execution_count": 342,
   "id": "e1c78824-b8ee-4ff1-b58b-136721ac2ddf",
   "metadata": {},
   "outputs": [],
   "source": [
    "df_lda['condition_2'] = df_lda['condition_2'].fillna('')\n",
    "df_lda['condition_3'] = df_lda['condition_3'].fillna('')\n",
    "df_lda['condition_4'] = df_lda['condition_4'].fillna('')\n",
    "df_lda['condition_5'] = df_lda['condition_5'].fillna('')\n",
    "df_lda['condition_6'] = df_lda['condition_6'].fillna('')"
   ]
  },
  {
   "cell_type": "code",
   "execution_count": 343,
   "id": "e2d0116b-f180-4a63-9a2d-bb4106528c77",
   "metadata": {},
   "outputs": [],
   "source": [
    "df_lda['condition_2'] = df_lda['condition_2'].astype(str)\n",
    "df_lda['condition_3'] = df_lda['condition_3'].astype(str)\n",
    "df_lda['condition_4'] = df_lda['condition_4'].astype(str)\n",
    "df_lda['condition_5'] = df_lda['condition_5'].astype(str)\n",
    "df_lda['condition_6'] = df_lda['condition_6'].astype(str)"
   ]
  },
  {
   "cell_type": "code",
   "execution_count": 344,
   "id": "17de2d12-877f-4483-9e53-97fee06ac8fb",
   "metadata": {},
   "outputs": [],
   "source": [
    "dfw=df_lda.copy()"
   ]
  },
  {
   "cell_type": "code",
   "execution_count": 394,
   "id": "a073043a-43ed-4710-b442-a0120fe85bbb",
   "metadata": {},
   "outputs": [],
   "source": [
    "df_lda=dfw.copy()"
   ]
  },
  {
   "cell_type": "markdown",
   "id": "b36d8dcb-2142-4113-afd4-3147f2447f5b",
   "metadata": {},
   "source": [
    "## Getting the Vectors"
   ]
  },
  {
   "cell_type": "code",
   "execution_count": 345,
   "id": "72858faf-c1ae-4054-b8b9-eaf4a0383f69",
   "metadata": {},
   "outputs": [],
   "source": [
    "from gensim.models import KeyedVectors\n",
    "import pandas as pd"
   ]
  },
  {
   "cell_type": "code",
   "execution_count": 346,
   "id": "231c022d-e26e-4516-9617-5551a24a6fba",
   "metadata": {},
   "outputs": [],
   "source": [
    "model_path = \"bio_embedding_extrinsic\""
   ]
  },
  {
   "cell_type": "code",
   "execution_count": 347,
   "id": "93457edb-a1f8-4301-856b-7ea8d85db1c6",
   "metadata": {},
   "outputs": [],
   "source": [
    "model = KeyedVectors.load_word2vec_format(model_path, binary=True, encoding='utf-8')"
   ]
  },
  {
   "cell_type": "code",
   "execution_count": 348,
   "id": "058839c5-c715-4a13-a1b3-ee4697ea6ce9",
   "metadata": {},
   "outputs": [],
   "source": [
    "def get_sentence_vector(sentence):\n",
    "    words = sentence.split()\n",
    "    word_vectors = [model[word] for word in words if word in model.key_to_index]\n",
    "    if word_vectors:\n",
    "        return np.mean(word_vectors, axis=0)\n",
    "    else:\n",
    "        return np.zeros(model.vector_size)"
   ]
  },
  {
   "cell_type": "code",
   "execution_count": 349,
   "id": "da07ea9b-1df1-40f6-b891-93b0ff0e989b",
   "metadata": {},
   "outputs": [],
   "source": [
    "df_lda['Study Title_vectors'] = df_lda['Study Title'].apply(get_sentence_vector)"
   ]
  },
  {
   "cell_type": "code",
   "execution_count": 350,
   "id": "081d1a95-2c8e-4908-82d8-dedc602e196e",
   "metadata": {},
   "outputs": [],
   "source": [
    "dfc=df_lda.copy()"
   ]
  },
  {
   "cell_type": "code",
   "execution_count": 351,
   "id": "84c1f5aa-c1cb-4a7f-8797-40491d3bb7da",
   "metadata": {},
   "outputs": [],
   "source": [
    "df_lda=dfc.copy()"
   ]
  },
  {
   "cell_type": "code",
   "execution_count": 352,
   "id": "04c65ad0-7806-46a1-9556-9dc1176f4191",
   "metadata": {},
   "outputs": [],
   "source": [
    "df_lda['condition_1'] = df_lda['condition_1'].apply(get_sentence_vector)\n",
    "df_lda['condition_2'] = df_lda['condition_2'].apply(get_sentence_vector)\n",
    "df_lda['condition_3'] = df_lda['condition_3'].apply(get_sentence_vector)\n",
    "df_lda['condition_4'] = df_lda['condition_4'].apply(get_sentence_vector)\n",
    "df_lda['condition_5'] = df_lda['condition_5'].apply(get_sentence_vector)\n",
    "df_lda['condition_6'] = df_lda['condition_6'].apply(get_sentence_vector)"
   ]
  },
  {
   "cell_type": "code",
   "execution_count": 353,
   "id": "e25d6dfd-7b1f-4e45-b070-5384eb55d68c",
   "metadata": {},
   "outputs": [],
   "source": [
    "df_lda['DEVICE'] = df_lda['DEVICE'].apply(get_sentence_vector)\n",
    "df_lda['PROCEDURE'] = df_lda['PROCEDURE'].apply(get_sentence_vector)\n",
    "df_lda['RADIATION'] = df_lda['RADIATION'].apply(get_sentence_vector)\n",
    "df_lda['DRUG'] = df_lda['DRUG'].apply(get_sentence_vector)\n",
    "df_lda['BIOLOGICAL'] = df_lda['BIOLOGICAL'].apply(get_sentence_vector)\n",
    "df_lda['OTHER'] = df_lda['OTHER'].apply(get_sentence_vector)"
   ]
  },
  {
   "cell_type": "code",
   "execution_count": 354,
   "id": "3ec572cd-ebcf-4d49-937d-aeddfd19ebce",
   "metadata": {},
   "outputs": [],
   "source": [
    "df_lda['Allocation'] = df_lda['Allocation'].apply(get_sentence_vector)\n",
    "df_lda['Intervention Model'] = df_lda['Intervention Model'].apply(get_sentence_vector)\n",
    "df_lda['Masking'] = df_lda['Masking'].apply(get_sentence_vector)\n",
    "df_lda['Primary Purpose'] = df_lda['Primary Purpose'].apply(get_sentence_vector)\n",
    "df_lda['Observational Model'] = df_lda['Observational Model'].apply(get_sentence_vector)"
   ]
  },
  {
   "cell_type": "code",
   "execution_count": 355,
   "id": "be61cf00-6193-45e7-bf0f-50a44466e125",
   "metadata": {},
   "outputs": [],
   "source": [
    "df_lda['DEVICE'] = df_lda['DEVICE'].apply(np.mean)\n",
    "df_lda['PROCEDURE'] = df_lda['PROCEDURE'].apply(np.mean)\n",
    "df_lda['RADIATION'] = df_lda['RADIATION'].apply(np.mean)\n",
    "df_lda['DRUG'] = df_lda['DRUG'].apply(np.mean)\n",
    "df_lda['BIOLOGICAL'] = df_lda['BIOLOGICAL'].apply(np.mean)\n",
    "df_lda['OTHER'] = df_lda['OTHER'].apply(np.mean)"
   ]
  },
  {
   "cell_type": "code",
   "execution_count": 356,
   "id": "7fa7ee76-2eeb-4352-8996-a58e65c4c7cc",
   "metadata": {},
   "outputs": [],
   "source": [
    "df_lda['Allocation'] = df_lda['Allocation'].apply(np.mean)\n",
    "df_lda['Intervention Model'] = df_lda['Intervention Model'].apply(np.mean)\n",
    "df_lda['Masking'] = df_lda['Masking'].apply(np.mean)\n",
    "df_lda['Primary Purpose'] = df_lda['Primary Purpose'].apply(np.mean)\n",
    "df_lda['Observational Model'] = df_lda['Observational Model'].apply(np.mean)"
   ]
  },
  {
   "cell_type": "code",
   "execution_count": 357,
   "id": "ca9b4750-a8ef-44b0-be57-bb8a6d156878",
   "metadata": {},
   "outputs": [],
   "source": [
    "df_lda['condition_2'] = df_lda['condition_2'].apply(np.mean)\n",
    "df_lda['condition_3'] = df_lda['condition_3'].apply(np.mean)\n",
    "df_lda['condition_4'] = df_lda['condition_4'].apply(np.mean)\n",
    "df_lda['condition_1'] = df_lda['condition_1'].apply(np.mean)\n",
    "df_lda['condition_5'] = df_lda['condition_5'].apply(np.mean)\n",
    "df_lda['condition_6'] = df_lda['condition_6'].apply(np.mean)"
   ]
  },
  {
   "cell_type": "code",
   "execution_count": 358,
   "id": "66ba1bd2-241a-4090-9324-0d45f2a1e648",
   "metadata": {},
   "outputs": [],
   "source": [
    "df_lda['Study Title_vectors'] = df_lda['Study Title_vectors'].apply(np.mean)"
   ]
  },
  {
   "cell_type": "markdown",
   "id": "2e007648-1dc5-4e9e-abbb-cf43786c36b0",
   "metadata": {},
   "source": [
    "# Handling the missing values"
   ]
  },
  {
   "cell_type": "code",
   "execution_count": 395,
   "id": "ffab0cb8-b7b1-4c36-90c2-5deadce62f89",
   "metadata": {},
   "outputs": [],
   "source": [
    "df_lda.drop(['Interventions'],axis=1,inplace=True)"
   ]
  },
  {
   "cell_type": "code",
   "execution_count": 396,
   "id": "92f3fc13-71da-499b-9252-9cf30b2a5934",
   "metadata": {},
   "outputs": [],
   "source": [
    "column_mode = df_lda['Sex'].mode()[0]\n",
    "df_lda['Sex'].fillna(column_mode, inplace=True)"
   ]
  },
  {
   "cell_type": "code",
   "execution_count": 397,
   "id": "4ee525c2-ba87-4950-b2cc-08c82337d4be",
   "metadata": {},
   "outputs": [],
   "source": [
    "column_mode = df_lda['child'].mode()[0]\n",
    "df_lda['child'].fillna(column_mode, inplace=True)"
   ]
  },
  {
   "cell_type": "code",
   "execution_count": 398,
   "id": "76216c42-60b6-4f42-a6c9-7d1ea26fd5ff",
   "metadata": {},
   "outputs": [],
   "source": [
    "column_mode = df_lda['older_adult'].mode()[0]\n",
    "df_lda['older_adult'].fillna(column_mode, inplace=True)"
   ]
  },
  {
   "cell_type": "code",
   "execution_count": 399,
   "id": "e53f821c-2b82-4ee6-84ff-d20cb605a794",
   "metadata": {},
   "outputs": [],
   "source": [
    "column_mode = df_lda['adult'].mode()[0]\n",
    "df_lda['adult'].fillna(column_mode, inplace=True)"
   ]
  },
  {
   "cell_type": "code",
   "execution_count": 400,
   "id": "a46b82a8-4581-43ab-99af-493db06063dc",
   "metadata": {},
   "outputs": [],
   "source": [
    "column_mode = df_lda['healthy_volunteers'].mode()[0]\n",
    "df_lda['healthy_volunteers'].fillna(column_mode, inplace=True)"
   ]
  },
  {
   "cell_type": "code",
   "execution_count": 401,
   "id": "600426b1-01ee-4922-b83c-3c3f09c52eec",
   "metadata": {},
   "outputs": [],
   "source": [
    "column_mode = df_lda['Duration_Days'].mode()[0]\n",
    "df_lda['Duration_Days'].fillna(column_mode, inplace=True)"
   ]
  },
  {
   "cell_type": "code",
   "execution_count": 402,
   "id": "d6585e35-17a5-4a70-abab-8b96aaef0e84",
   "metadata": {},
   "outputs": [],
   "source": [
    "column_mode = df_lda['Enrollment'].mode()[0]\n",
    "df_lda['Enrollment'].fillna(column_mode, inplace=True)"
   ]
  },
  {
   "cell_type": "code",
   "execution_count": 403,
   "id": "15399e68-543f-4358-8b6e-84d012200156",
   "metadata": {},
   "outputs": [],
   "source": [
    "df_lda['count'] = df_lda['count'].fillna(0)"
   ]
  },
  {
   "cell_type": "code",
   "execution_count": 393,
   "id": "0d3f5366-2dc9-4e69-aee5-9d995ad1a582",
   "metadata": {},
   "outputs": [],
   "source": [
    "#df_kk=df_lda.copy()"
   ]
  },
  {
   "cell_type": "code",
   "execution_count": null,
   "id": "09f9a036-4fbd-4dce-b55d-bb36a47c4b17",
   "metadata": {},
   "outputs": [],
   "source": []
  },
  {
   "cell_type": "markdown",
   "id": "c7c9f4c8-5683-4689-919a-66e49de1e26b",
   "metadata": {},
   "source": [
    "# Encoding several categorical variables in the df_lda DataFrame using a combination of string replacements and dictionary mappings"
   ]
  },
  {
   "cell_type": "code",
   "execution_count": 405,
   "id": "122e541d-4c22-4a32-9fb1-2736816155f6",
   "metadata": {},
   "outputs": [],
   "source": [
    "from sklearn.preprocessing import LabelEncoder"
   ]
  },
  {
   "cell_type": "code",
   "execution_count": 406,
   "id": "263c5916-b216-4a91-9f8c-8793eb1ddf1a",
   "metadata": {},
   "outputs": [],
   "source": [
    "le = LabelEncoder()"
   ]
  },
  {
   "cell_type": "code",
   "execution_count": 407,
   "id": "9ddc2151-5867-47ce-8cd5-5294a365937a",
   "metadata": {},
   "outputs": [],
   "source": [
    "df_lda['Study Status'] = df_lda['Study Status'].replace({'TERMINATED': 'NOT COMPLETED', 'WITHDRAWN': 'NOT COMPLETED','SUSPENDED' : 'NOT COMPLETED'})"
   ]
  },
  {
   "cell_type": "code",
   "execution_count": 408,
   "id": "e60d5485-b487-4d0b-9637-e8f71daad800",
   "metadata": {},
   "outputs": [],
   "source": [
    "category_order = {'COMPLETED': 1, 'NOT COMPLETED': 0}"
   ]
  },
  {
   "cell_type": "code",
   "execution_count": 409,
   "id": "4b8d3091-335e-42dc-9d9f-28c5004d955f",
   "metadata": {},
   "outputs": [],
   "source": [
    "df_lda['Study Status']=df_lda['Study Status'].map(category_order)"
   ]
  },
  {
   "cell_type": "code",
   "execution_count": 410,
   "id": "26def236-1cfd-4028-8ce4-4da532138226",
   "metadata": {},
   "outputs": [],
   "source": [
    "category_order = {'INTERVENTIONAL' :1, 'OBSERVATIONAL':2}"
   ]
  },
  {
   "cell_type": "code",
   "execution_count": 411,
   "id": "fd212f3d-3609-4eae-adf5-1d8e9dc3faa6",
   "metadata": {},
   "outputs": [],
   "source": [
    "df_lda['Study Type'] = df_lda['Study Type'].map(category_order)"
   ]
  },
  {
   "cell_type": "code",
   "execution_count": 412,
   "id": "84196b19-c773-46fe-a475-b710c98533f0",
   "metadata": {},
   "outputs": [],
   "source": [
    "category_order = {'ALL' :1, 'FEMALE':2, 'MALE' :3}"
   ]
  },
  {
   "cell_type": "code",
   "execution_count": 413,
   "id": "145872a6-01d6-4362-872b-ba7910e724f4",
   "metadata": {},
   "outputs": [],
   "source": [
    "df_lda['Sex'] = df_lda['Sex'].map(category_order)"
   ]
  },
  {
   "cell_type": "code",
   "execution_count": 414,
   "id": "11257e63-5e04-4792-953f-fd01a44f3760",
   "metadata": {},
   "outputs": [],
   "source": [
    "df_lda['adult'] = le.fit_transform(df_lda['adult'])"
   ]
  },
  {
   "cell_type": "code",
   "execution_count": 415,
   "id": "edae7992-1707-475d-a332-a6c909bb326d",
   "metadata": {},
   "outputs": [],
   "source": [
    "df_lda['older_adult'] = le.fit_transform(df_lda['older_adult'])"
   ]
  },
  {
   "cell_type": "code",
   "execution_count": 416,
   "id": "115ea376-8a44-45e3-b00e-bd76a7b3a7d1",
   "metadata": {},
   "outputs": [],
   "source": [
    "df_lda['child'] = le.fit_transform(df_lda['child'])"
   ]
  },
  {
   "cell_type": "code",
   "execution_count": 417,
   "id": "b0223426-9629-41d2-8f1d-dde33e5272b1",
   "metadata": {},
   "outputs": [],
   "source": [
    "df_lda['healthy_volunteers'] = le.fit_transform(df_lda['healthy_volunteers'])"
   ]
  },
  {
   "cell_type": "code",
   "execution_count": 383,
   "id": "aaa68ad2-48ca-4cc4-a7db-342c86ff1133",
   "metadata": {},
   "outputs": [],
   "source": [
    "df_c=df_lda.copy()"
   ]
  },
  {
   "cell_type": "code",
   "execution_count": 425,
   "id": "e5e305fc-2776-4133-b38e-b910792ccbb8",
   "metadata": {},
   "outputs": [],
   "source": [
    "df_lda=df_c.copy()"
   ]
  },
  {
   "cell_type": "code",
   "execution_count": 426,
   "id": "a8a2f075-b910-41a1-8351-373d6098b019",
   "metadata": {},
   "outputs": [],
   "source": [
    "df_lda['participants'] = df_lda['Enrollment'] - df_lda['count']"
   ]
  },
  {
   "cell_type": "code",
   "execution_count": 427,
   "id": "220d8ed2-9c8b-4aa6-a60b-f3ab0d732f93",
   "metadata": {},
   "outputs": [],
   "source": [
    "df_lda['participants'] = (df_lda['participants'] >= 10).astype(int)"
   ]
  },
  {
   "cell_type": "code",
   "execution_count": 428,
   "id": "d28d8378-ea5b-417b-bbf7-fb6dc9462347",
   "metadata": {},
   "outputs": [],
   "source": [
    "df_lda.drop(['NCT Number','Study Results'],axis=1,inplace=True)"
   ]
  },
  {
   "cell_type": "code",
   "execution_count": 429,
   "id": "6ffd018d-8f7e-4eeb-a006-7a543062d157",
   "metadata": {},
   "outputs": [],
   "source": [
    "df_lda.drop(['Study Title','Study Design','Enrollment','count'],axis=1,inplace=True)"
   ]
  },
  {
   "cell_type": "code",
   "execution_count": null,
   "id": "ddeb6846-37da-4fa7-a21d-acf26365bad5",
   "metadata": {},
   "outputs": [],
   "source": []
  },
  {
   "cell_type": "markdown",
   "id": "4e1d6d6f-04ef-46c2-872a-7f50cbdb9ad7",
   "metadata": {},
   "source": [
    "## Splitting the dataset for model building(training & testing) and validation set as unseen data"
   ]
  },
  {
   "cell_type": "code",
   "execution_count": 434,
   "id": "8ab32b25-5fb4-43a3-b4e9-174c73e81d7c",
   "metadata": {},
   "outputs": [],
   "source": [
    "completed_df = df_lda[df_lda['Study Status'] == 1]"
   ]
  },
  {
   "cell_type": "code",
   "execution_count": 435,
   "id": "8cb54786-e4a6-4add-8399-7ee394298c04",
   "metadata": {},
   "outputs": [],
   "source": [
    "not_completed_df = df_lda[df_lda['Study Status'] == 0]"
   ]
  },
  {
   "cell_type": "code",
   "execution_count": 436,
   "id": "226a03e8-73eb-4e72-9ebe-9a80d572a600",
   "metadata": {},
   "outputs": [],
   "source": [
    "notc=not_completed_df.iloc[0:25000,0:27]"
   ]
  },
  {
   "cell_type": "code",
   "execution_count": 437,
   "id": "bcaeee81-8efd-4d59-aa36-6f5200dc123b",
   "metadata": {},
   "outputs": [],
   "source": [
    "c=completed_df.iloc[0:175000,0:27]"
   ]
  },
  {
   "cell_type": "code",
   "execution_count": 438,
   "id": "0c41aef0-6759-4042-87e4-431a8d92e617",
   "metadata": {},
   "outputs": [],
   "source": [
    "df_trial = pd.concat([notc, c], ignore_index=True)"
   ]
  },
  {
   "cell_type": "code",
   "execution_count": 439,
   "id": "44027cac-61b1-44f5-bffd-1896e0372971",
   "metadata": {},
   "outputs": [],
   "source": [
    "df_trial = df_trial.sample(frac=1, random_state=42)"
   ]
  },
  {
   "cell_type": "code",
   "execution_count": 440,
   "id": "ddd88b57-7ccb-4b2d-a571-5e6aecd35ef0",
   "metadata": {},
   "outputs": [],
   "source": [
    "notc=not_completed_df.iloc[25000:36335,0:27]"
   ]
  },
  {
   "cell_type": "code",
   "execution_count": 441,
   "id": "1e11450d-37a4-4e84-9a60-e74da3238869",
   "metadata": {},
   "outputs": [],
   "source": [
    "c=completed_df.iloc[200000:221244,0:27]"
   ]
  },
  {
   "cell_type": "code",
   "execution_count": 442,
   "id": "4fce3dcf-beb5-4406-a161-035e22a210f6",
   "metadata": {},
   "outputs": [],
   "source": [
    "df_test = pd.concat([notc, c], ignore_index=True)"
   ]
  },
  {
   "cell_type": "code",
   "execution_count": 443,
   "id": "8e17314b-6acd-4d6a-b398-8a38bb19cc8d",
   "metadata": {},
   "outputs": [],
   "source": [
    "df_test = df_test.sample(frac=1, random_state=42)"
   ]
  },
  {
   "cell_type": "code",
   "execution_count": null,
   "id": "ec333bda-9206-40b8-a3fa-56fdea77b86f",
   "metadata": {},
   "outputs": [],
   "source": []
  },
  {
   "cell_type": "markdown",
   "id": "905ec1b6-15af-47bb-8381-e1228c6243c0",
   "metadata": {},
   "source": [
    "## Machine Learning Model Development on 200k Imbalanced Dataset (SMOTE)"
   ]
  },
  {
   "cell_type": "code",
   "execution_count": 444,
   "id": "9f23b897-ba85-4b74-8d5d-89f4e866913a",
   "metadata": {},
   "outputs": [],
   "source": [
    "from imblearn.over_sampling import SMOTE\n",
    "from collections import Counter"
   ]
  },
  {
   "cell_type": "code",
   "execution_count": 445,
   "id": "9cf9d76b-069b-4712-8b39-2e76fc3dd4af",
   "metadata": {},
   "outputs": [],
   "source": [
    "X= df_trial.drop('Study Status',axis = 1)\n",
    "y = df_trial['Study Status']"
   ]
  },
  {
   "cell_type": "code",
   "execution_count": 446,
   "id": "e8f67a92-db3f-438b-85fd-f681cb7749e8",
   "metadata": {},
   "outputs": [
    {
     "name": "stdout",
     "output_type": "stream",
     "text": [
      "Original dataset shape Counter({1: 175000, 0: 25000})\n",
      "Resampled dataset shape Counter({1: 175000, 0: 175000})\n"
     ]
    }
   ],
   "source": [
    "print(\"Original dataset shape %s\" % Counter(y))\n",
    "\n",
    "smote = SMOTE(sampling_strategy='minority') \n",
    "X_smote, y_smote = smote.fit_resample(X, y)\n",
    "\n",
    "print(\"Resampled dataset shape %s\" % Counter(y_smote))"
   ]
  },
  {
   "cell_type": "code",
   "execution_count": 447,
   "id": "6020f74a-35e4-4ede-acfe-c61ca2ca5841",
   "metadata": {},
   "outputs": [],
   "source": [
    "from sklearn.model_selection import train_test_split\n",
    "X_train,X_test,y_train,y_test=train_test_split(X_smote,y_smote,test_size=0.3,random_state=1)"
   ]
  },
  {
   "cell_type": "code",
   "execution_count": 450,
   "id": "1bb5ed54-ce2c-44be-a4db-c89d6d0f9cbf",
   "metadata": {},
   "outputs": [],
   "source": [
    "from sklearn import metrics"
   ]
  },
  {
   "cell_type": "markdown",
   "id": "97a3373a-ed8e-4eeb-99e1-dd9c8b4e37d6",
   "metadata": {},
   "source": [
    "<span style=\"color: blue; \">Gradient Boosting Classifiers (GBC), is chosen due to its ability to handle complex relationships within data. GBC excels in accuracy, flexibility, and robustness. Its inherent mechanisms like early stopping and regularization prevent overfitting, ensuring reliable predictions on unseen data. Moreover, GBC's adaptability to different loss functions allows for customization to specific classification needs.\"</span>"
   ]
  },
  {
   "cell_type": "code",
   "execution_count": 448,
   "id": "ff1cc813-c097-47ab-bb26-62b9f6ae4adc",
   "metadata": {},
   "outputs": [
    {
     "data": {
      "text/html": [
       "<style>#sk-container-id-1 {\n",
       "  /* Definition of color scheme common for light and dark mode */\n",
       "  --sklearn-color-text: black;\n",
       "  --sklearn-color-line: gray;\n",
       "  /* Definition of color scheme for unfitted estimators */\n",
       "  --sklearn-color-unfitted-level-0: #fff5e6;\n",
       "  --sklearn-color-unfitted-level-1: #f6e4d2;\n",
       "  --sklearn-color-unfitted-level-2: #ffe0b3;\n",
       "  --sklearn-color-unfitted-level-3: chocolate;\n",
       "  /* Definition of color scheme for fitted estimators */\n",
       "  --sklearn-color-fitted-level-0: #f0f8ff;\n",
       "  --sklearn-color-fitted-level-1: #d4ebff;\n",
       "  --sklearn-color-fitted-level-2: #b3dbfd;\n",
       "  --sklearn-color-fitted-level-3: cornflowerblue;\n",
       "\n",
       "  /* Specific color for light theme */\n",
       "  --sklearn-color-text-on-default-background: var(--sg-text-color, var(--theme-code-foreground, var(--jp-content-font-color1, black)));\n",
       "  --sklearn-color-background: var(--sg-background-color, var(--theme-background, var(--jp-layout-color0, white)));\n",
       "  --sklearn-color-border-box: var(--sg-text-color, var(--theme-code-foreground, var(--jp-content-font-color1, black)));\n",
       "  --sklearn-color-icon: #696969;\n",
       "\n",
       "  @media (prefers-color-scheme: dark) {\n",
       "    /* Redefinition of color scheme for dark theme */\n",
       "    --sklearn-color-text-on-default-background: var(--sg-text-color, var(--theme-code-foreground, var(--jp-content-font-color1, white)));\n",
       "    --sklearn-color-background: var(--sg-background-color, var(--theme-background, var(--jp-layout-color0, #111)));\n",
       "    --sklearn-color-border-box: var(--sg-text-color, var(--theme-code-foreground, var(--jp-content-font-color1, white)));\n",
       "    --sklearn-color-icon: #878787;\n",
       "  }\n",
       "}\n",
       "\n",
       "#sk-container-id-1 {\n",
       "  color: var(--sklearn-color-text);\n",
       "}\n",
       "\n",
       "#sk-container-id-1 pre {\n",
       "  padding: 0;\n",
       "}\n",
       "\n",
       "#sk-container-id-1 input.sk-hidden--visually {\n",
       "  border: 0;\n",
       "  clip: rect(1px 1px 1px 1px);\n",
       "  clip: rect(1px, 1px, 1px, 1px);\n",
       "  height: 1px;\n",
       "  margin: -1px;\n",
       "  overflow: hidden;\n",
       "  padding: 0;\n",
       "  position: absolute;\n",
       "  width: 1px;\n",
       "}\n",
       "\n",
       "#sk-container-id-1 div.sk-dashed-wrapped {\n",
       "  border: 1px dashed var(--sklearn-color-line);\n",
       "  margin: 0 0.4em 0.5em 0.4em;\n",
       "  box-sizing: border-box;\n",
       "  padding-bottom: 0.4em;\n",
       "  background-color: var(--sklearn-color-background);\n",
       "}\n",
       "\n",
       "#sk-container-id-1 div.sk-container {\n",
       "  /* jupyter's `normalize.less` sets `[hidden] { display: none; }`\n",
       "     but bootstrap.min.css set `[hidden] { display: none !important; }`\n",
       "     so we also need the `!important` here to be able to override the\n",
       "     default hidden behavior on the sphinx rendered scikit-learn.org.\n",
       "     See: https://github.com/scikit-learn/scikit-learn/issues/21755 */\n",
       "  display: inline-block !important;\n",
       "  position: relative;\n",
       "}\n",
       "\n",
       "#sk-container-id-1 div.sk-text-repr-fallback {\n",
       "  display: none;\n",
       "}\n",
       "\n",
       "div.sk-parallel-item,\n",
       "div.sk-serial,\n",
       "div.sk-item {\n",
       "  /* draw centered vertical line to link estimators */\n",
       "  background-image: linear-gradient(var(--sklearn-color-text-on-default-background), var(--sklearn-color-text-on-default-background));\n",
       "  background-size: 2px 100%;\n",
       "  background-repeat: no-repeat;\n",
       "  background-position: center center;\n",
       "}\n",
       "\n",
       "/* Parallel-specific style estimator block */\n",
       "\n",
       "#sk-container-id-1 div.sk-parallel-item::after {\n",
       "  content: \"\";\n",
       "  width: 100%;\n",
       "  border-bottom: 2px solid var(--sklearn-color-text-on-default-background);\n",
       "  flex-grow: 1;\n",
       "}\n",
       "\n",
       "#sk-container-id-1 div.sk-parallel {\n",
       "  display: flex;\n",
       "  align-items: stretch;\n",
       "  justify-content: center;\n",
       "  background-color: var(--sklearn-color-background);\n",
       "  position: relative;\n",
       "}\n",
       "\n",
       "#sk-container-id-1 div.sk-parallel-item {\n",
       "  display: flex;\n",
       "  flex-direction: column;\n",
       "}\n",
       "\n",
       "#sk-container-id-1 div.sk-parallel-item:first-child::after {\n",
       "  align-self: flex-end;\n",
       "  width: 50%;\n",
       "}\n",
       "\n",
       "#sk-container-id-1 div.sk-parallel-item:last-child::after {\n",
       "  align-self: flex-start;\n",
       "  width: 50%;\n",
       "}\n",
       "\n",
       "#sk-container-id-1 div.sk-parallel-item:only-child::after {\n",
       "  width: 0;\n",
       "}\n",
       "\n",
       "/* Serial-specific style estimator block */\n",
       "\n",
       "#sk-container-id-1 div.sk-serial {\n",
       "  display: flex;\n",
       "  flex-direction: column;\n",
       "  align-items: center;\n",
       "  background-color: var(--sklearn-color-background);\n",
       "  padding-right: 1em;\n",
       "  padding-left: 1em;\n",
       "}\n",
       "\n",
       "\n",
       "/* Toggleable style: style used for estimator/Pipeline/ColumnTransformer box that is\n",
       "clickable and can be expanded/collapsed.\n",
       "- Pipeline and ColumnTransformer use this feature and define the default style\n",
       "- Estimators will overwrite some part of the style using the `sk-estimator` class\n",
       "*/\n",
       "\n",
       "/* Pipeline and ColumnTransformer style (default) */\n",
       "\n",
       "#sk-container-id-1 div.sk-toggleable {\n",
       "  /* Default theme specific background. It is overwritten whether we have a\n",
       "  specific estimator or a Pipeline/ColumnTransformer */\n",
       "  background-color: var(--sklearn-color-background);\n",
       "}\n",
       "\n",
       "/* Toggleable label */\n",
       "#sk-container-id-1 label.sk-toggleable__label {\n",
       "  cursor: pointer;\n",
       "  display: block;\n",
       "  width: 100%;\n",
       "  margin-bottom: 0;\n",
       "  padding: 0.5em;\n",
       "  box-sizing: border-box;\n",
       "  text-align: center;\n",
       "}\n",
       "\n",
       "#sk-container-id-1 label.sk-toggleable__label-arrow:before {\n",
       "  /* Arrow on the left of the label */\n",
       "  content: \"▸\";\n",
       "  float: left;\n",
       "  margin-right: 0.25em;\n",
       "  color: var(--sklearn-color-icon);\n",
       "}\n",
       "\n",
       "#sk-container-id-1 label.sk-toggleable__label-arrow:hover:before {\n",
       "  color: var(--sklearn-color-text);\n",
       "}\n",
       "\n",
       "/* Toggleable content - dropdown */\n",
       "\n",
       "#sk-container-id-1 div.sk-toggleable__content {\n",
       "  max-height: 0;\n",
       "  max-width: 0;\n",
       "  overflow: hidden;\n",
       "  text-align: left;\n",
       "  /* unfitted */\n",
       "  background-color: var(--sklearn-color-unfitted-level-0);\n",
       "}\n",
       "\n",
       "#sk-container-id-1 div.sk-toggleable__content.fitted {\n",
       "  /* fitted */\n",
       "  background-color: var(--sklearn-color-fitted-level-0);\n",
       "}\n",
       "\n",
       "#sk-container-id-1 div.sk-toggleable__content pre {\n",
       "  margin: 0.2em;\n",
       "  border-radius: 0.25em;\n",
       "  color: var(--sklearn-color-text);\n",
       "  /* unfitted */\n",
       "  background-color: var(--sklearn-color-unfitted-level-0);\n",
       "}\n",
       "\n",
       "#sk-container-id-1 div.sk-toggleable__content.fitted pre {\n",
       "  /* unfitted */\n",
       "  background-color: var(--sklearn-color-fitted-level-0);\n",
       "}\n",
       "\n",
       "#sk-container-id-1 input.sk-toggleable__control:checked~div.sk-toggleable__content {\n",
       "  /* Expand drop-down */\n",
       "  max-height: 200px;\n",
       "  max-width: 100%;\n",
       "  overflow: auto;\n",
       "}\n",
       "\n",
       "#sk-container-id-1 input.sk-toggleable__control:checked~label.sk-toggleable__label-arrow:before {\n",
       "  content: \"▾\";\n",
       "}\n",
       "\n",
       "/* Pipeline/ColumnTransformer-specific style */\n",
       "\n",
       "#sk-container-id-1 div.sk-label input.sk-toggleable__control:checked~label.sk-toggleable__label {\n",
       "  color: var(--sklearn-color-text);\n",
       "  background-color: var(--sklearn-color-unfitted-level-2);\n",
       "}\n",
       "\n",
       "#sk-container-id-1 div.sk-label.fitted input.sk-toggleable__control:checked~label.sk-toggleable__label {\n",
       "  background-color: var(--sklearn-color-fitted-level-2);\n",
       "}\n",
       "\n",
       "/* Estimator-specific style */\n",
       "\n",
       "/* Colorize estimator box */\n",
       "#sk-container-id-1 div.sk-estimator input.sk-toggleable__control:checked~label.sk-toggleable__label {\n",
       "  /* unfitted */\n",
       "  background-color: var(--sklearn-color-unfitted-level-2);\n",
       "}\n",
       "\n",
       "#sk-container-id-1 div.sk-estimator.fitted input.sk-toggleable__control:checked~label.sk-toggleable__label {\n",
       "  /* fitted */\n",
       "  background-color: var(--sklearn-color-fitted-level-2);\n",
       "}\n",
       "\n",
       "#sk-container-id-1 div.sk-label label.sk-toggleable__label,\n",
       "#sk-container-id-1 div.sk-label label {\n",
       "  /* The background is the default theme color */\n",
       "  color: var(--sklearn-color-text-on-default-background);\n",
       "}\n",
       "\n",
       "/* On hover, darken the color of the background */\n",
       "#sk-container-id-1 div.sk-label:hover label.sk-toggleable__label {\n",
       "  color: var(--sklearn-color-text);\n",
       "  background-color: var(--sklearn-color-unfitted-level-2);\n",
       "}\n",
       "\n",
       "/* Label box, darken color on hover, fitted */\n",
       "#sk-container-id-1 div.sk-label.fitted:hover label.sk-toggleable__label.fitted {\n",
       "  color: var(--sklearn-color-text);\n",
       "  background-color: var(--sklearn-color-fitted-level-2);\n",
       "}\n",
       "\n",
       "/* Estimator label */\n",
       "\n",
       "#sk-container-id-1 div.sk-label label {\n",
       "  font-family: monospace;\n",
       "  font-weight: bold;\n",
       "  display: inline-block;\n",
       "  line-height: 1.2em;\n",
       "}\n",
       "\n",
       "#sk-container-id-1 div.sk-label-container {\n",
       "  text-align: center;\n",
       "}\n",
       "\n",
       "/* Estimator-specific */\n",
       "#sk-container-id-1 div.sk-estimator {\n",
       "  font-family: monospace;\n",
       "  border: 1px dotted var(--sklearn-color-border-box);\n",
       "  border-radius: 0.25em;\n",
       "  box-sizing: border-box;\n",
       "  margin-bottom: 0.5em;\n",
       "  /* unfitted */\n",
       "  background-color: var(--sklearn-color-unfitted-level-0);\n",
       "}\n",
       "\n",
       "#sk-container-id-1 div.sk-estimator.fitted {\n",
       "  /* fitted */\n",
       "  background-color: var(--sklearn-color-fitted-level-0);\n",
       "}\n",
       "\n",
       "/* on hover */\n",
       "#sk-container-id-1 div.sk-estimator:hover {\n",
       "  /* unfitted */\n",
       "  background-color: var(--sklearn-color-unfitted-level-2);\n",
       "}\n",
       "\n",
       "#sk-container-id-1 div.sk-estimator.fitted:hover {\n",
       "  /* fitted */\n",
       "  background-color: var(--sklearn-color-fitted-level-2);\n",
       "}\n",
       "\n",
       "/* Specification for estimator info (e.g. \"i\" and \"?\") */\n",
       "\n",
       "/* Common style for \"i\" and \"?\" */\n",
       "\n",
       ".sk-estimator-doc-link,\n",
       "a:link.sk-estimator-doc-link,\n",
       "a:visited.sk-estimator-doc-link {\n",
       "  float: right;\n",
       "  font-size: smaller;\n",
       "  line-height: 1em;\n",
       "  font-family: monospace;\n",
       "  background-color: var(--sklearn-color-background);\n",
       "  border-radius: 1em;\n",
       "  height: 1em;\n",
       "  width: 1em;\n",
       "  text-decoration: none !important;\n",
       "  margin-left: 1ex;\n",
       "  /* unfitted */\n",
       "  border: var(--sklearn-color-unfitted-level-1) 1pt solid;\n",
       "  color: var(--sklearn-color-unfitted-level-1);\n",
       "}\n",
       "\n",
       ".sk-estimator-doc-link.fitted,\n",
       "a:link.sk-estimator-doc-link.fitted,\n",
       "a:visited.sk-estimator-doc-link.fitted {\n",
       "  /* fitted */\n",
       "  border: var(--sklearn-color-fitted-level-1) 1pt solid;\n",
       "  color: var(--sklearn-color-fitted-level-1);\n",
       "}\n",
       "\n",
       "/* On hover */\n",
       "div.sk-estimator:hover .sk-estimator-doc-link:hover,\n",
       ".sk-estimator-doc-link:hover,\n",
       "div.sk-label-container:hover .sk-estimator-doc-link:hover,\n",
       ".sk-estimator-doc-link:hover {\n",
       "  /* unfitted */\n",
       "  background-color: var(--sklearn-color-unfitted-level-3);\n",
       "  color: var(--sklearn-color-background);\n",
       "  text-decoration: none;\n",
       "}\n",
       "\n",
       "div.sk-estimator.fitted:hover .sk-estimator-doc-link.fitted:hover,\n",
       ".sk-estimator-doc-link.fitted:hover,\n",
       "div.sk-label-container:hover .sk-estimator-doc-link.fitted:hover,\n",
       ".sk-estimator-doc-link.fitted:hover {\n",
       "  /* fitted */\n",
       "  background-color: var(--sklearn-color-fitted-level-3);\n",
       "  color: var(--sklearn-color-background);\n",
       "  text-decoration: none;\n",
       "}\n",
       "\n",
       "/* Span, style for the box shown on hovering the info icon */\n",
       ".sk-estimator-doc-link span {\n",
       "  display: none;\n",
       "  z-index: 9999;\n",
       "  position: relative;\n",
       "  font-weight: normal;\n",
       "  right: .2ex;\n",
       "  padding: .5ex;\n",
       "  margin: .5ex;\n",
       "  width: min-content;\n",
       "  min-width: 20ex;\n",
       "  max-width: 50ex;\n",
       "  color: var(--sklearn-color-text);\n",
       "  box-shadow: 2pt 2pt 4pt #999;\n",
       "  /* unfitted */\n",
       "  background: var(--sklearn-color-unfitted-level-0);\n",
       "  border: .5pt solid var(--sklearn-color-unfitted-level-3);\n",
       "}\n",
       "\n",
       ".sk-estimator-doc-link.fitted span {\n",
       "  /* fitted */\n",
       "  background: var(--sklearn-color-fitted-level-0);\n",
       "  border: var(--sklearn-color-fitted-level-3);\n",
       "}\n",
       "\n",
       ".sk-estimator-doc-link:hover span {\n",
       "  display: block;\n",
       "}\n",
       "\n",
       "/* \"?\"-specific style due to the `<a>` HTML tag */\n",
       "\n",
       "#sk-container-id-1 a.estimator_doc_link {\n",
       "  float: right;\n",
       "  font-size: 1rem;\n",
       "  line-height: 1em;\n",
       "  font-family: monospace;\n",
       "  background-color: var(--sklearn-color-background);\n",
       "  border-radius: 1rem;\n",
       "  height: 1rem;\n",
       "  width: 1rem;\n",
       "  text-decoration: none;\n",
       "  /* unfitted */\n",
       "  color: var(--sklearn-color-unfitted-level-1);\n",
       "  border: var(--sklearn-color-unfitted-level-1) 1pt solid;\n",
       "}\n",
       "\n",
       "#sk-container-id-1 a.estimator_doc_link.fitted {\n",
       "  /* fitted */\n",
       "  border: var(--sklearn-color-fitted-level-1) 1pt solid;\n",
       "  color: var(--sklearn-color-fitted-level-1);\n",
       "}\n",
       "\n",
       "/* On hover */\n",
       "#sk-container-id-1 a.estimator_doc_link:hover {\n",
       "  /* unfitted */\n",
       "  background-color: var(--sklearn-color-unfitted-level-3);\n",
       "  color: var(--sklearn-color-background);\n",
       "  text-decoration: none;\n",
       "}\n",
       "\n",
       "#sk-container-id-1 a.estimator_doc_link.fitted:hover {\n",
       "  /* fitted */\n",
       "  background-color: var(--sklearn-color-fitted-level-3);\n",
       "}\n",
       "</style><div id=\"sk-container-id-1\" class=\"sk-top-container\"><div class=\"sk-text-repr-fallback\"><pre>GradientBoostingClassifier(random_state=1)</pre><b>In a Jupyter environment, please rerun this cell to show the HTML representation or trust the notebook. <br />On GitHub, the HTML representation is unable to render, please try loading this page with nbviewer.org.</b></div><div class=\"sk-container\" hidden><div class=\"sk-item\"><div class=\"sk-estimator fitted sk-toggleable\"><input class=\"sk-toggleable__control sk-hidden--visually\" id=\"sk-estimator-id-1\" type=\"checkbox\" checked><label for=\"sk-estimator-id-1\" class=\"sk-toggleable__label fitted sk-toggleable__label-arrow fitted\">&nbsp;&nbsp;GradientBoostingClassifier<a class=\"sk-estimator-doc-link fitted\" rel=\"noreferrer\" target=\"_blank\" href=\"https://scikit-learn.org/1.4/modules/generated/sklearn.ensemble.GradientBoostingClassifier.html\">?<span>Documentation for GradientBoostingClassifier</span></a><span class=\"sk-estimator-doc-link fitted\">i<span>Fitted</span></span></label><div class=\"sk-toggleable__content fitted\"><pre>GradientBoostingClassifier(random_state=1)</pre></div> </div></div></div></div>"
      ],
      "text/plain": [
       "GradientBoostingClassifier(random_state=1)"
      ]
     },
     "execution_count": 448,
     "metadata": {},
     "output_type": "execute_result"
    }
   ],
   "source": [
    "from sklearn.ensemble import GradientBoostingClassifier\n",
    "GB_model=GradientBoostingClassifier(n_estimators=100,random_state=1)\n",
    "GB_model.fit(X_train,y_train)"
   ]
  },
  {
   "cell_type": "code",
   "execution_count": 451,
   "id": "1d59b998-3efd-40b3-a882-1707f9e10faa",
   "metadata": {},
   "outputs": [
    {
     "name": "stdout",
     "output_type": "stream",
     "text": [
      "0.9050938775510204\n",
      "\n",
      "[[105748  16818]\n",
      " [  6434 116000]]\n",
      "              precision    recall  f1-score   support\n",
      "\n",
      "           0       0.94      0.86      0.90    122566\n",
      "           1       0.87      0.95      0.91    122434\n",
      "\n",
      "    accuracy                           0.91    245000\n",
      "   macro avg       0.91      0.91      0.90    245000\n",
      "weighted avg       0.91      0.91      0.90    245000\n",
      "\n"
     ]
    }
   ],
   "source": [
    "y_train_predict = GB_model.predict(X_train)\n",
    "model_score = GB_model.score(X_train,y_train)\n",
    "print(model_score)\n",
    "print()\n",
    "print(metrics.confusion_matrix (y_train,y_train_predict) )\n",
    "print(metrics.classification_report(y_train,y_train_predict))"
   ]
  },
  {
   "cell_type": "code",
   "execution_count": 452,
   "id": "fcfe1d1c-3a89-438b-996b-70d6a93569ea",
   "metadata": {},
   "outputs": [
    {
     "name": "stdout",
     "output_type": "stream",
     "text": [
      "0.9039904761904762\n",
      "\n",
      "[[45171  7263]\n",
      " [ 2818 49748]]\n",
      "              precision    recall  f1-score   support\n",
      "\n",
      "           0       0.94      0.86      0.90     52434\n",
      "           1       0.87      0.95      0.91     52566\n",
      "\n",
      "    accuracy                           0.90    105000\n",
      "   macro avg       0.91      0.90      0.90    105000\n",
      "weighted avg       0.91      0.90      0.90    105000\n",
      "\n"
     ]
    }
   ],
   "source": [
    "y_test_predict =GB_model.predict(X_test)\n",
    "model_score = GB_model.score(X_test,y_test)\n",
    "print(model_score)\n",
    "print()\n",
    "print(metrics.confusion_matrix (y_test,y_test_predict) )\n",
    "print(metrics.classification_report(y_test,y_test_predict))"
   ]
  },
  {
   "cell_type": "markdown",
   "id": "149079d9-5805-4140-a193-eb147f7827d3",
   "metadata": {},
   "source": [
    "# Hyperparameter Optimization"
   ]
  },
  {
   "cell_type": "code",
   "execution_count": null,
   "id": "a0d31534-75fb-44b6-a744-878fb1ad9a95",
   "metadata": {},
   "outputs": [],
   "source": [
    "from sklearn.model_selection import GridSearchCV"
   ]
  },
  {
   "cell_type": "code",
   "execution_count": null,
   "id": "b8d28a95-2a15-43f9-9538-6cd292746303",
   "metadata": {},
   "outputs": [],
   "source": [
    "param_grid = {\n",
    "    'n_estimators': [50, 100,150, 200],\n",
    "    'learning_rate': [0.01, 0.1, 0.2],\n",
    "    'max_depth': [3, 5, 7,9],\n",
    "    'min_samples_split': [2, 5, 10,15],\n",
    "    'min_samples_leaf': [1, 2, 4,6]\n",
    "}"
   ]
  },
  {
   "cell_type": "code",
   "execution_count": null,
   "id": "addc9228-5305-4ecf-b59b-936eee3b5534",
   "metadata": {},
   "outputs": [],
   "source": [
    "grid_search = GridSearchCV(estimator=GB_model, param_grid=param_grid, cv=5, scoring='accuracy', n_jobs=-1)"
   ]
  },
  {
   "cell_type": "code",
   "execution_count": null,
   "id": "e070a360-a336-4eac-af6a-818cb098f9a8",
   "metadata": {},
   "outputs": [],
   "source": [
    "grid_search.fit(X_train, y_train)"
   ]
  },
  {
   "cell_type": "code",
   "execution_count": null,
   "id": "62510369-ef8e-4c96-bc52-5ed736b77e55",
   "metadata": {},
   "outputs": [],
   "source": [
    "best_params = grid_search.best_params_\n",
    "best_model = grid_search.best_estimator_"
   ]
  },
  {
   "cell_type": "code",
   "execution_count": null,
   "id": "bac36af3-5039-4b30-878c-2a516a1d360f",
   "metadata": {},
   "outputs": [],
   "source": [
    "y_train_predict = best_model.predict(X_train)\n",
    "model_score = best_model.score(X_train,y_train)\n",
    "print(model_score)\n",
    "print()\n",
    "print(metrics.confusion_matrix (y_train,y_train_predict) )\n",
    "print(metrics.classification_report(y_train,y_train_predict))"
   ]
  },
  {
   "cell_type": "code",
   "execution_count": null,
   "id": "905e8d15-de47-4dfb-abeb-ac74cabcf4d2",
   "metadata": {},
   "outputs": [],
   "source": [
    "y_test_predict =best_model.predict(X_test)\n",
    "model_score = best_model.score(X_test,y_test)\n",
    "print(model_score)\n",
    "print()\n",
    "print(metrics.confusion_matrix (y_test,y_test_predict) )\n",
    "print(metrics.classification_report(y_test,y_test_predict))"
   ]
  },
  {
   "cell_type": "code",
   "execution_count": null,
   "id": "28930559-50fe-4d8f-81fd-d49fecd7b1e9",
   "metadata": {},
   "outputs": [],
   "source": []
  },
  {
   "cell_type": "markdown",
   "id": "1c140405-6faf-4fbc-be44-f9f83e968050",
   "metadata": {},
   "source": [
    "# Evaluating Model Performance on a Hold-out Set of 55k Unseen Data Points"
   ]
  },
  {
   "cell_type": "code",
   "execution_count": null,
   "id": "863adf32-2e9a-401e-9776-74770a0f610f",
   "metadata": {},
   "outputs": [],
   "source": [
    "df_t=df_test.drop(['Study Status'],axis=1)"
   ]
  },
  {
   "cell_type": "code",
   "execution_count": null,
   "id": "11ffd9e6-2712-4fee-9a5b-8b1cd9813203",
   "metadata": {},
   "outputs": [],
   "source": [
    "dy = df_test['Study Status']"
   ]
  },
  {
   "cell_type": "code",
   "execution_count": null,
   "id": "6cb6eb97-7c04-4614-a1ce-fe7bdc687f60",
   "metadata": {},
   "outputs": [],
   "source": [
    "new_predictions = best_model.predict(df_t) "
   ]
  },
  {
   "cell_type": "code",
   "execution_count": null,
   "id": "f6cf8d84-1d83-4ebf-a3fe-904e0c83f308",
   "metadata": {},
   "outputs": [],
   "source": [
    "model_score = best_model.score(df_t,dy)\n",
    "print(model_score)\n",
    "print()\n",
    "print(metrics.confusion_matrix (dy,new_predictions) )\n",
    "print(metrics.classification_report(dy,new_predictions))"
   ]
  },
  {
   "cell_type": "code",
   "execution_count": null,
   "id": "b6f40ecc-cb98-4956-949c-92cd6fb3891e",
   "metadata": {},
   "outputs": [],
   "source": []
  },
  {
   "cell_type": "code",
   "execution_count": null,
   "id": "56e5bbae-62ec-4317-b726-7171e2b447ad",
   "metadata": {},
   "outputs": [],
   "source": []
  },
  {
   "cell_type": "code",
   "execution_count": null,
   "id": "ff4d7557-599c-4227-aca2-fe633df04ef0",
   "metadata": {},
   "outputs": [],
   "source": []
  },
  {
   "cell_type": "code",
   "execution_count": null,
   "id": "24c59551-2ed2-473a-be9c-4a263fb6b8bf",
   "metadata": {},
   "outputs": [],
   "source": [
    "import joblib"
   ]
  },
  {
   "cell_type": "code",
   "execution_count": null,
   "id": "21e4bc6f-a396-44b7-b54a-b33c6b4d1c2e",
   "metadata": {},
   "outputs": [],
   "source": [
    "\n",
    "joblib.dump(best_model, 'gradient_boosting_model.pkl') "
   ]
  },
  {
   "cell_type": "code",
   "execution_count": null,
   "id": "4eaf0c59-0686-4c6f-8669-b442d4fb3299",
   "metadata": {},
   "outputs": [],
   "source": [
    "best_model = joblib.load('gradient_boosting_model.pkl')"
   ]
  },
  {
   "cell_type": "code",
   "execution_count": null,
   "id": "b9f3b773-ea2f-433c-81bb-5ec34c3d5a6a",
   "metadata": {},
   "outputs": [],
   "source": []
  },
  {
   "cell_type": "code",
   "execution_count": null,
   "id": "606f7034-c4e5-40ce-8164-2c4cf14072a0",
   "metadata": {},
   "outputs": [],
   "source": [
    "from joblib import dump"
   ]
  },
  {
   "cell_type": "code",
   "execution_count": null,
   "id": "3a3a42d2-322c-4828-91d3-fb24fc9721b7",
   "metadata": {},
   "outputs": [],
   "source": [
    "dump(best_model, 'gbc_model.joblib')"
   ]
  },
  {
   "cell_type": "code",
   "execution_count": null,
   "id": "2670a144-d701-4939-b0a3-f23487e9bf3c",
   "metadata": {},
   "outputs": [],
   "source": []
  }
 ],
 "metadata": {
  "kernelspec": {
   "display_name": "Python 3 (ipykernel)",
   "language": "python",
   "name": "python3"
  },
  "language_info": {
   "codemirror_mode": {
    "name": "ipython",
    "version": 3
   },
   "file_extension": ".py",
   "mimetype": "text/x-python",
   "name": "python",
   "nbconvert_exporter": "python",
   "pygments_lexer": "ipython3",
   "version": "3.12.6"
  }
 },
 "nbformat": 4,
 "nbformat_minor": 5
}
