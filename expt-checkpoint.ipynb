{
 "cells": [
  {
   "cell_type": "code",
   "execution_count": 1,
   "id": "567ceb4b-5f0a-4a59-a2f1-4d930ac6d3fd",
   "metadata": {},
   "outputs": [],
   "source": [
    "import pandas as pd"
   ]
  },
  {
   "cell_type": "code",
   "execution_count": 2,
   "id": "ccf3baff-0b2f-45e0-b361-506348164f9e",
   "metadata": {},
   "outputs": [],
   "source": [
    "import numpy as np"
   ]
  },
  {
   "cell_type": "markdown",
   "id": "b62b0b1a-21e7-4f37-9d2e-f54f6b1860e0",
   "metadata": {},
   "source": [
    "# Merging the required data provided in usecase_3, withdrwals.txt and eligibilities.txt\n"
   ]
  },
  {
   "cell_type": "markdown",
   "id": "2a91dde5-0c8e-46df-a68a-f45b7116476b",
   "metadata": {},
   "source": [
    "<span style=\"color: blue;\"> We integrated relevant data points extracted from 'usecase.csv', 'eligibilities.txt', and 'withdrawls.txt' files.\n",
    "Firstly we converted the 'eligibilities.txt' and 'withdrawls.txt' files into either CSV or Excel format for compatibility.</span>"
   ]
  },
  {
   "cell_type": "code",
   "execution_count": 14,
   "id": "2f900f03-3d1a-4cbf-895e-57d7b4169334",
   "metadata": {},
   "outputs": [],
   "source": [
    "df= pd.read_csv('usecase_3_.csv')"
   ]
  },
  {
   "cell_type": "code",
   "execution_count": 8,
   "id": "276833b8-c3dd-471c-b031-40bc3067e285",
   "metadata": {},
   "outputs": [],
   "source": [
    "df_2=pd.read_excel('withdrawls.xlsx')"
   ]
  },
  {
   "cell_type": "code",
   "execution_count": 9,
   "id": "7bd6f2d0-f1dc-48af-936a-addc7419b8a7",
   "metadata": {},
   "outputs": [],
   "source": [
    "df_4=pd.read_excel('elgb.xlsx')"
   ]
  },
  {
   "cell_type": "code",
   "execution_count": 10,
   "id": "eab60c8f-857e-4d09-b4a8-660c73d1ddc1",
   "metadata": {},
   "outputs": [],
   "source": [
    "df_renamed = df_2.rename(columns={'nct_id': 'NCT Number'})"
   ]
  },
  {
   "cell_type": "code",
   "execution_count": 11,
   "id": "e5bd2140-b867-45ab-b116-b59d7bf53352",
   "metadata": {},
   "outputs": [],
   "source": [
    "df_renamed.drop(['ctgov_group_code','period'],axis=1,inplace=True)"
   ]
  },
  {
   "cell_type": "code",
   "execution_count": 12,
   "id": "8587f9f7-b278-4fd0-9ce4-f70fb43b589a",
   "metadata": {},
   "outputs": [],
   "source": [
    "df_3=df_renamed.drop(['drop_withdraw_comment','reason_comment','count_units'],axis=1)"
   ]
  },
  {
   "cell_type": "code",
   "execution_count": 13,
   "id": "1eb1620b-6872-43d1-8786-53aa6db103fb",
   "metadata": {},
   "outputs": [],
   "source": [
    "df_3.drop(['id','result_group_id','reason'],axis=1,inplace=True)"
   ]
  },
  {
   "cell_type": "raw",
   "id": "3922fe79-44d2-46cd-8503-9b404edaaf65",
   "metadata": {},
   "source": [
    "merging the dataframes based on the NCT Number to create a final DataFrame.\n",
    "By using left joins, the code ensures that no data from the initial usecase_3.csv DataFrame is lost during the merging process"
   ]
  },
  {
   "cell_type": "code",
   "execution_count": 14,
   "id": "4fcc4a67-79f9-4db7-9343-7b57f94d4823",
   "metadata": {},
   "outputs": [],
   "source": [
    "df_grouped = df_renamed.groupby('NCT Number')['reason'].apply(lambda x: ', '.join(x)).reset_index()\n",
    "\n",
    "df_merged = pd.merge(df_grouped, df_renamed.groupby('NCT Number')['count'].sum().reset_index(), on='NCT Number')"
   ]
  },
  {
   "cell_type": "code",
   "execution_count": 15,
   "id": "f307f607-550a-4d97-a016-2ada89f56887",
   "metadata": {},
   "outputs": [],
   "source": [
    "merged_dff = pd.merge(df, df_merged, on='NCT Number', how='left')"
   ]
  },
  {
   "cell_type": "code",
   "execution_count": 16,
   "id": "26dffb9e-f9dd-469c-b888-5feea160af07",
   "metadata": {},
   "outputs": [],
   "source": [
    "df_4 = df_4.rename(columns={'nct_id': 'NCT Number'})"
   ]
  },
  {
   "cell_type": "code",
   "execution_count": 17,
   "id": "beb7764d-754b-47a9-a767-fbbe92128561",
   "metadata": {},
   "outputs": [],
   "source": [
    "df_4.drop(['id','sampling_method','gender','minimum_age','maximum_age','population','gender_description','gender_based'],axis=1,inplace=True)"
   ]
  },
  {
   "cell_type": "code",
   "execution_count": 18,
   "id": "a779b5fe-3e12-4ff0-b5e6-02ce71420bf8",
   "metadata": {},
   "outputs": [],
   "source": [
    "final_df = pd.merge(merged_dff, df_4 , on='NCT Number', how='left')"
   ]
  },
  {
   "cell_type": "code",
   "execution_count": 34,
   "id": "c1cfeeb5-b173-46fc-9e07-f53500c16312",
   "metadata": {},
   "outputs": [
    {
     "name": "stdout",
     "output_type": "stream",
     "text": [
      "<class 'pandas.core.frame.DataFrame'>\n",
      "RangeIndex: 64851 entries, 0 to 64850\n",
      "Data columns (total 37 columns):\n",
      " #   Column                      Non-Null Count  Dtype  \n",
      "---  ------                      --------------  -----  \n",
      " 0   Unnamed: 0                  64681 non-null  object \n",
      " 1   NCT Number                  64578 non-null  object \n",
      " 2   Study Title                 64540 non-null  object \n",
      " 3   Study URL                   64539 non-null  object \n",
      " 4   Acronym                     15949 non-null  object \n",
      " 5   Brief Summary               64520 non-null  object \n",
      " 6   Study Results               64516 non-null  object \n",
      " 7   Conditions                  64501 non-null  object \n",
      " 8   Interventions               58562 non-null  object \n",
      " 9   Primary Outcome Measures    61881 non-null  object \n",
      " 10  Secondary Outcome Measures  46432 non-null  object \n",
      " 11  Other Outcome Measures      4635 non-null   object \n",
      " 12  Sponsor                     64441 non-null  object \n",
      " 13  Collaborators               20917 non-null  object \n",
      " 14  Sex                         64380 non-null  object \n",
      " 15  Age                         64439 non-null  object \n",
      " 16  Phases                      28321 non-null  object \n",
      " 17  Enrollment                  63528 non-null  object \n",
      " 18  Funder Type                 64438 non-null  object \n",
      " 19  Study Type                  64437 non-null  object \n",
      " 20  Study Design                64435 non-null  object \n",
      " 21  Other IDs                   64430 non-null  object \n",
      " 22  Start Date                  63869 non-null  object \n",
      " 23  Primary Completion Date     61180 non-null  object \n",
      " 24  Completion Date             62480 non-null  object \n",
      " 25  First Posted                64431 non-null  object \n",
      " 26  Results First Posted        12975 non-null  object \n",
      " 27  Last Update Posted          64430 non-null  object \n",
      " 28  Locations                   58437 non-null  object \n",
      " 29  Study Documents             6272 non-null   object \n",
      " 30  reason                      7760 non-null   object \n",
      " 31  count                       7760 non-null   float64\n",
      " 32  healthy_volunteers          63072 non-null  object \n",
      " 33  criteria                    64284 non-null  object \n",
      " 34  adult                       64293 non-null  object \n",
      " 35  child                       64293 non-null  object \n",
      " 36  older_adult                 64293 non-null  object \n",
      "dtypes: float64(1), object(36)\n",
      "memory usage: 18.3+ MB\n"
     ]
    }
   ],
   "source": [
    "final_df.info()"
   ]
  },
  {
   "cell_type": "code",
   "execution_count": 131,
   "id": "31795265-477b-487b-888b-d9b9105a7e1a",
   "metadata": {},
   "outputs": [],
   "source": [
    "df_lda=final_df.copy()"
   ]
  },
  {
   "cell_type": "markdown",
   "id": "309d34db-22f8-4e92-862e-d7fe0a202442",
   "metadata": {},
   "source": [
    "## We pruned the dataset to include only the essential features"
   ]
  },
  {
   "cell_type": "code",
   "execution_count": 132,
   "id": "f8a96323-b055-4da6-a177-f4df967d3040",
   "metadata": {},
   "outputs": [],
   "source": [
    "df_lda.drop(['Brief Summary','Acronym','Study URL', 'Unnamed: 0','Unnamed: 0.1'],axis =1,inplace=True )"
   ]
  },
  {
   "cell_type": "code",
   "execution_count": 133,
   "id": "8fc08475-66ae-4f39-a67d-a5cb3453209e",
   "metadata": {},
   "outputs": [],
   "source": [
    "df_lda.drop(['Primary Completion Date'],axis =1,inplace=True )"
   ]
  },
  {
   "cell_type": "code",
   "execution_count": 134,
   "id": "9f0db60d-21c3-45ee-81c0-c57555391a4a",
   "metadata": {},
   "outputs": [],
   "source": [
    "df_lda.drop(['Other IDs','First Posted','reason','criteria',\n",
    "       'Results First Posted', 'Last Update Posted', 'Locations',\n",
    "       'Study Documents','Funder Type','Other Outcome Measures', 'Sponsor',\n",
    "       'Collaborators','Age','Primary Outcome Measures','Secondary Outcome Measures','Phases'],axis =1,inplace=True )"
   ]
  },
  {
   "cell_type": "code",
   "execution_count": 135,
   "id": "ac70e6ad-9632-4b1a-8c1c-507a865428c6",
   "metadata": {},
   "outputs": [
    {
     "name": "stdout",
     "output_type": "stream",
     "text": [
      "<class 'pandas.core.frame.DataFrame'>\n",
      "RangeIndex: 64851 entries, 0 to 64850\n",
      "Data columns (total 16 columns):\n",
      " #   Column              Non-Null Count  Dtype  \n",
      "---  ------              --------------  -----  \n",
      " 0   NCT Number          64578 non-null  object \n",
      " 1   Study Title         64540 non-null  object \n",
      " 2   Study Results       64516 non-null  object \n",
      " 3   Conditions          64501 non-null  object \n",
      " 4   Interventions       58562 non-null  object \n",
      " 5   Sex                 64380 non-null  object \n",
      " 6   Enrollment          63528 non-null  object \n",
      " 7   Study Type          64437 non-null  object \n",
      " 8   Study Design        64435 non-null  object \n",
      " 9   Start Date          63869 non-null  object \n",
      " 10  Completion Date     62480 non-null  object \n",
      " 11  count               7760 non-null   float64\n",
      " 12  healthy_volunteers  63072 non-null  object \n",
      " 13  adult               64293 non-null  object \n",
      " 14  child               64293 non-null  object \n",
      " 15  older_adult         64293 non-null  object \n",
      "dtypes: float64(1), object(15)\n",
      "memory usage: 7.9+ MB\n"
     ]
    }
   ],
   "source": [
    "df_lda.info()"
   ]
  },
  {
   "cell_type": "code",
   "execution_count": 136,
   "id": "cb4162ca-db26-4bf1-ae21-8f838b918768",
   "metadata": {},
   "outputs": [],
   "source": [
    "def standardize_date_format(df, date_column):\n",
    "    \"\"\"\n",
    "    Converts date column with mixed formats (mm/dd/yy, yyyy-mm, yyyy-mm-dd) \n",
    "    to a single consistent format (yyyy-mm-dd).\n",
    "\n",
    "    Args:\n",
    "        df: pandas DataFrame containing the date column.\n",
    "        date_column: Name of the date column in the DataFrame.\n",
    "\n",
    "    Returns:\n",
    "        pandas DataFrame with the date column in the 'yyyy-mm-dd' format.\n",
    "    \"\"\"\n",
    "\n",
    "    df[date_column] = pd.to_datetime(df[date_column], errors='coerce')\n",
    "    df[date_column] = df[date_column].dt.strftime('%Y-%m-%d')\n",
    "    return df"
   ]
  },
  {
   "cell_type": "code",
   "execution_count": 137,
   "id": "16b268db-3b8e-4dea-8a47-feb610a5041c",
   "metadata": {},
   "outputs": [
    {
     "name": "stderr",
     "output_type": "stream",
     "text": [
      "C:\\Users\\ATUL SINGH\\AppData\\Local\\Temp\\ipykernel_16664\\1100179414.py:14: UserWarning: Could not infer format, so each element will be parsed individually, falling back to `dateutil`. To ensure parsing is consistent and as-expected, please specify a format.\n",
      "  df[date_column] = pd.to_datetime(df[date_column], errors='coerce')\n"
     ]
    }
   ],
   "source": [
    "df_lda = standardize_date_format(df_lda, 'Start Date')"
   ]
  },
  {
   "cell_type": "code",
   "execution_count": 138,
   "id": "d333813c-077e-412d-86f3-618761ce02aa",
   "metadata": {},
   "outputs": [
    {
     "name": "stderr",
     "output_type": "stream",
     "text": [
      "C:\\Users\\ATUL SINGH\\AppData\\Local\\Temp\\ipykernel_16664\\1100179414.py:14: UserWarning: Could not infer format, so each element will be parsed individually, falling back to `dateutil`. To ensure parsing is consistent and as-expected, please specify a format.\n",
      "  df[date_column] = pd.to_datetime(df[date_column], errors='coerce')\n"
     ]
    }
   ],
   "source": [
    "df_lda = standardize_date_format(df_lda, 'Completion Date')"
   ]
  },
  {
   "cell_type": "code",
   "execution_count": 139,
   "id": "9a4932dc-0f3f-47c3-aa5e-195e12a1a357",
   "metadata": {},
   "outputs": [],
   "source": [
    "df_lda['Start Date'] = pd.to_datetime(df_lda['Start Date'])\n",
    "df_lda['Completion Date'] = pd.to_datetime(df_lda['Completion Date'])\n",
    "\n",
    "df_lda['Duration_Days'] = (df_lda['Completion Date'] - df_lda['Start Date']).dt.days"
   ]
  },
  {
   "cell_type": "code",
   "execution_count": 140,
   "id": "fbe6077f-d064-4c44-af86-7f75bcf774af",
   "metadata": {},
   "outputs": [],
   "source": [
    "df_lda.drop(['Start Date','Completion Date'],axis=1,inplace=True)"
   ]
  },
  {
   "cell_type": "code",
   "execution_count": 141,
   "id": "e7694945-403c-42d4-a23d-4c7f12373a9a",
   "metadata": {},
   "outputs": [],
   "source": [
    "df=df_lda.copy()"
   ]
  },
  {
   "cell_type": "markdown",
   "id": "f7269ac0-78ec-462f-bc45-872332d1e2a0",
   "metadata": {},
   "source": [
    "# Minimizing information loss"
   ]
  },
  {
   "cell_type": "markdown",
   "id": "353f1303-a88b-48aa-a3b2-463e662daa10",
   "metadata": {},
   "source": [
    "<span style=\"color: blue;\">To minimize information loss, three of the four selected textual columns (Condition, Interventions, Study Design) were transformed into a set of categorical features. Subsequently, the 'Study Title' column was filtered using these newly created categorical features to effectively extract the objectives of the clinical trials. Study title feature was then preprocessed for word embedding</span>"
   ]
  },
  {
   "cell_type": "markdown",
   "id": "14f99ac7-e61b-40c8-9e21-1aeb4531c792",
   "metadata": {},
   "source": [
    "# For Conditions column"
   ]
  },
  {
   "cell_type": "code",
   "execution_count": 142,
   "id": "bf74694e-4ae2-4809-abb6-3e85c3bda823",
   "metadata": {},
   "outputs": [],
   "source": [
    "df['Conditions'] = df['Conditions'].fillna('')"
   ]
  },
  {
   "cell_type": "code",
   "execution_count": 143,
   "id": "e07fb5a6-448a-4766-8a45-eebc24f49239",
   "metadata": {},
   "outputs": [],
   "source": [
    "\n",
    "df['Conditions'] = df['Conditions'].str.replace('|', ',')\n",
    "\n",
    "# Split and create a list of new column names\n",
    "new_column_names = [f'condition_{i+1}' for i in range(df['Conditions'].str.split(',').str.len().max())]\n",
    "\n",
    "# Split 'Conditions' and create a list of lists\n",
    "conditions_list = df['Conditions'].str.split(',').tolist()\n",
    "\n",
    "# Create a new DataFrame with the split values\n",
    "new_df = pd.DataFrame(conditions_list, columns=new_column_names)\n",
    "\n",
    "# Concatenate the original DataFrame with the new one\n",
    "df = pd.concat([df, new_df], axis=1)\n",
    "\n",
    "# Drop the original 'Conditions' column\n",
    "df = df.drop('Conditions', axis=1)"
   ]
  },
  {
   "cell_type": "code",
   "execution_count": 144,
   "id": "4d8003bf-6f61-4658-94e5-036e36a3b86c",
   "metadata": {},
   "outputs": [],
   "source": [
    "df_lda=df.copy()"
   ]
  },
  {
   "cell_type": "code",
   "execution_count": 145,
   "id": "c0178e7e-353f-4e15-aafc-484b56acee71",
   "metadata": {},
   "outputs": [
    {
     "data": {
      "text/html": [
       "<div>\n",
       "<style scoped>\n",
       "    .dataframe tbody tr th:only-of-type {\n",
       "        vertical-align: middle;\n",
       "    }\n",
       "\n",
       "    .dataframe tbody tr th {\n",
       "        vertical-align: top;\n",
       "    }\n",
       "\n",
       "    .dataframe thead th {\n",
       "        text-align: right;\n",
       "    }\n",
       "</style>\n",
       "<table border=\"1\" class=\"dataframe\">\n",
       "  <thead>\n",
       "    <tr style=\"text-align: right;\">\n",
       "      <th></th>\n",
       "      <th>NCT Number</th>\n",
       "      <th>Study Title</th>\n",
       "      <th>Study Results</th>\n",
       "      <th>Interventions</th>\n",
       "      <th>Sex</th>\n",
       "      <th>Enrollment</th>\n",
       "      <th>Study Type</th>\n",
       "      <th>Study Design</th>\n",
       "      <th>count</th>\n",
       "      <th>healthy_volunteers</th>\n",
       "      <th>...</th>\n",
       "      <th>condition_165</th>\n",
       "      <th>condition_166</th>\n",
       "      <th>condition_167</th>\n",
       "      <th>condition_168</th>\n",
       "      <th>condition_169</th>\n",
       "      <th>condition_170</th>\n",
       "      <th>condition_171</th>\n",
       "      <th>condition_172</th>\n",
       "      <th>condition_173</th>\n",
       "      <th>condition_174</th>\n",
       "    </tr>\n",
       "  </thead>\n",
       "  <tbody>\n",
       "    <tr>\n",
       "      <th>0</th>\n",
       "      <td>NCT03162666</td>\n",
       "      <td>Patient Outcomes Using an Expandable Spacer</td>\n",
       "      <td>NO</td>\n",
       "      <td>DEVICE: ALTERA</td>\n",
       "      <td>ALL</td>\n",
       "      <td>0.0</td>\n",
       "      <td>OBSERVATIONAL</td>\n",
       "      <td>Observational Model: |Time Perspective: p</td>\n",
       "      <td>NaN</td>\n",
       "      <td>t</td>\n",
       "      <td>...</td>\n",
       "      <td>None</td>\n",
       "      <td>None</td>\n",
       "      <td>None</td>\n",
       "      <td>None</td>\n",
       "      <td>None</td>\n",
       "      <td>None</td>\n",
       "      <td>None</td>\n",
       "      <td>None</td>\n",
       "      <td>None</td>\n",
       "      <td>None</td>\n",
       "    </tr>\n",
       "    <tr>\n",
       "      <th>1</th>\n",
       "      <td>NCT04312048</td>\n",
       "      <td>the Effect of Isosorbide Mononitrate in Reduci...</td>\n",
       "      <td>NO</td>\n",
       "      <td>DRUG: Isosorbide mononitrate|DRUG: placebo</td>\n",
       "      <td>FEMALE</td>\n",
       "      <td>110.0</td>\n",
       "      <td>INTERVENTIONAL</td>\n",
       "      <td>Allocation: RANDOMIZED|Intervention Model: PAR...</td>\n",
       "      <td>NaN</td>\n",
       "      <td>f</td>\n",
       "      <td>...</td>\n",
       "      <td>None</td>\n",
       "      <td>None</td>\n",
       "      <td>None</td>\n",
       "      <td>None</td>\n",
       "      <td>None</td>\n",
       "      <td>None</td>\n",
       "      <td>None</td>\n",
       "      <td>None</td>\n",
       "      <td>None</td>\n",
       "      <td>None</td>\n",
       "    </tr>\n",
       "    <tr>\n",
       "      <th>2</th>\n",
       "      <td>NCT03144778</td>\n",
       "      <td>Durvalumab With or Without Tremelimumab in Tre...</td>\n",
       "      <td>NO</td>\n",
       "      <td>BIOLOGICAL: Durvalumab|BIOLOGICAL: Tremelimumab</td>\n",
       "      <td>ALL</td>\n",
       "      <td>39.0</td>\n",
       "      <td>INTERVENTIONAL</td>\n",
       "      <td>Allocation: RANDOMIZED|Intervention Model: PAR...</td>\n",
       "      <td>NaN</td>\n",
       "      <td>f</td>\n",
       "      <td>...</td>\n",
       "      <td>None</td>\n",
       "      <td>None</td>\n",
       "      <td>None</td>\n",
       "      <td>None</td>\n",
       "      <td>None</td>\n",
       "      <td>None</td>\n",
       "      <td>None</td>\n",
       "      <td>None</td>\n",
       "      <td>None</td>\n",
       "      <td>None</td>\n",
       "    </tr>\n",
       "    <tr>\n",
       "      <th>3</th>\n",
       "      <td>NCT01592721</td>\n",
       "      <td>Radiation and Cetuximab Plus Intratumoral EGFR...</td>\n",
       "      <td>YES</td>\n",
       "      <td>BIOLOGICAL: EGFR Antisense DNA</td>\n",
       "      <td>ALL</td>\n",
       "      <td>6.0</td>\n",
       "      <td>INTERVENTIONAL</td>\n",
       "      <td>Allocation: NA|Intervention Model: SINGLE_GROU...</td>\n",
       "      <td>1.0</td>\n",
       "      <td>f</td>\n",
       "      <td>...</td>\n",
       "      <td>None</td>\n",
       "      <td>None</td>\n",
       "      <td>None</td>\n",
       "      <td>None</td>\n",
       "      <td>None</td>\n",
       "      <td>None</td>\n",
       "      <td>None</td>\n",
       "      <td>None</td>\n",
       "      <td>None</td>\n",
       "      <td>None</td>\n",
       "    </tr>\n",
       "    <tr>\n",
       "      <th>4</th>\n",
       "      <td>NCT04253613</td>\n",
       "      <td>Laser Biostimulation in Periodontal Treatment</td>\n",
       "      <td>NO</td>\n",
       "      <td>NaN</td>\n",
       "      <td>MALE</td>\n",
       "      <td>30.0</td>\n",
       "      <td>OBSERVATIONAL</td>\n",
       "      <td>Observational Model: |Time Perspective: p</td>\n",
       "      <td>NaN</td>\n",
       "      <td>t</td>\n",
       "      <td>...</td>\n",
       "      <td>None</td>\n",
       "      <td>None</td>\n",
       "      <td>None</td>\n",
       "      <td>None</td>\n",
       "      <td>None</td>\n",
       "      <td>None</td>\n",
       "      <td>None</td>\n",
       "      <td>None</td>\n",
       "      <td>None</td>\n",
       "      <td>None</td>\n",
       "    </tr>\n",
       "    <tr>\n",
       "      <th>...</th>\n",
       "      <td>...</td>\n",
       "      <td>...</td>\n",
       "      <td>...</td>\n",
       "      <td>...</td>\n",
       "      <td>...</td>\n",
       "      <td>...</td>\n",
       "      <td>...</td>\n",
       "      <td>...</td>\n",
       "      <td>...</td>\n",
       "      <td>...</td>\n",
       "      <td>...</td>\n",
       "      <td>...</td>\n",
       "      <td>...</td>\n",
       "      <td>...</td>\n",
       "      <td>...</td>\n",
       "      <td>...</td>\n",
       "      <td>...</td>\n",
       "      <td>...</td>\n",
       "      <td>...</td>\n",
       "      <td>...</td>\n",
       "      <td>...</td>\n",
       "    </tr>\n",
       "    <tr>\n",
       "      <th>64846</th>\n",
       "      <td>NCT02420405</td>\n",
       "      <td>Mutation Detection of EBUS-TBNA Specimens Usin...</td>\n",
       "      <td>NO</td>\n",
       "      <td>PROCEDURE: Routine gene testing|PROCEDURE: Nex...</td>\n",
       "      <td>ALL</td>\n",
       "      <td>78</td>\n",
       "      <td>INTERVENTIONAL</td>\n",
       "      <td>Allocation: NON_RANDOMIZED|Intervention Model:...</td>\n",
       "      <td>NaN</td>\n",
       "      <td>f</td>\n",
       "      <td>...</td>\n",
       "      <td>None</td>\n",
       "      <td>None</td>\n",
       "      <td>None</td>\n",
       "      <td>None</td>\n",
       "      <td>None</td>\n",
       "      <td>None</td>\n",
       "      <td>None</td>\n",
       "      <td>None</td>\n",
       "      <td>None</td>\n",
       "      <td>None</td>\n",
       "    </tr>\n",
       "    <tr>\n",
       "      <th>64847</th>\n",
       "      <td>NCT01986998</td>\n",
       "      <td>Study to Compare the Clinical and Radiological...</td>\n",
       "      <td>NO</td>\n",
       "      <td>DRUG: Methylprednisolone 1250 mg/24h x3 days|D...</td>\n",
       "      <td>ALL</td>\n",
       "      <td>49</td>\n",
       "      <td>INTERVENTIONAL</td>\n",
       "      <td>Allocation: RANDOMIZED|Intervention Model: PAR...</td>\n",
       "      <td>NaN</td>\n",
       "      <td>f</td>\n",
       "      <td>...</td>\n",
       "      <td>None</td>\n",
       "      <td>None</td>\n",
       "      <td>None</td>\n",
       "      <td>None</td>\n",
       "      <td>None</td>\n",
       "      <td>None</td>\n",
       "      <td>None</td>\n",
       "      <td>None</td>\n",
       "      <td>None</td>\n",
       "      <td>None</td>\n",
       "    </tr>\n",
       "    <tr>\n",
       "      <th>64848</th>\n",
       "      <td>NCT02631538</td>\n",
       "      <td>Safety and Efficacy Study of Subcutaneous Beli...</td>\n",
       "      <td>YES</td>\n",
       "      <td>DRUG: Belimumab|DRUG: Rituximab|DRUG: Placebo ...</td>\n",
       "      <td>ALL</td>\n",
       "      <td>86</td>\n",
       "      <td>INTERVENTIONAL</td>\n",
       "      <td>Allocation: RANDOMIZED|Intervention Model: PAR...</td>\n",
       "      <td>26.0</td>\n",
       "      <td>f</td>\n",
       "      <td>...</td>\n",
       "      <td>None</td>\n",
       "      <td>None</td>\n",
       "      <td>None</td>\n",
       "      <td>None</td>\n",
       "      <td>None</td>\n",
       "      <td>None</td>\n",
       "      <td>None</td>\n",
       "      <td>None</td>\n",
       "      <td>None</td>\n",
       "      <td>None</td>\n",
       "    </tr>\n",
       "    <tr>\n",
       "      <th>64849</th>\n",
       "      <td>NCT05301023</td>\n",
       "      <td>Individualized Antibiotic Therapy in Children ...</td>\n",
       "      <td>NO</td>\n",
       "      <td>OTHER: Individualized antibiotic therapy|OTHER...</td>\n",
       "      <td>ALL</td>\n",
       "      <td>408</td>\n",
       "      <td>INTERVENTIONAL</td>\n",
       "      <td>Allocation: RANDOMIZED|Intervention Model: PAR...</td>\n",
       "      <td>NaN</td>\n",
       "      <td>f</td>\n",
       "      <td>...</td>\n",
       "      <td>None</td>\n",
       "      <td>None</td>\n",
       "      <td>None</td>\n",
       "      <td>None</td>\n",
       "      <td>None</td>\n",
       "      <td>None</td>\n",
       "      <td>None</td>\n",
       "      <td>None</td>\n",
       "      <td>None</td>\n",
       "      <td>None</td>\n",
       "    </tr>\n",
       "    <tr>\n",
       "      <th>64850</th>\n",
       "      <td>NCT00815360</td>\n",
       "      <td>Ranibizumab and Peripheral Scatter Laser in Pa...</td>\n",
       "      <td>YES</td>\n",
       "      <td>DRUG: intravitreal injection of ranibizumab|PR...</td>\n",
       "      <td>ALL</td>\n",
       "      <td>22</td>\n",
       "      <td>INTERVENTIONAL</td>\n",
       "      <td>Allocation: RANDOMIZED|Intervention Model: PAR...</td>\n",
       "      <td>NaN</td>\n",
       "      <td>f</td>\n",
       "      <td>...</td>\n",
       "      <td>None</td>\n",
       "      <td>None</td>\n",
       "      <td>None</td>\n",
       "      <td>None</td>\n",
       "      <td>None</td>\n",
       "      <td>None</td>\n",
       "      <td>None</td>\n",
       "      <td>None</td>\n",
       "      <td>None</td>\n",
       "      <td>None</td>\n",
       "    </tr>\n",
       "  </tbody>\n",
       "</table>\n",
       "<p>64851 rows × 188 columns</p>\n",
       "</div>"
      ],
      "text/plain": [
       "        NCT Number                                        Study Title  \\\n",
       "0      NCT03162666        Patient Outcomes Using an Expandable Spacer   \n",
       "1      NCT04312048  the Effect of Isosorbide Mononitrate in Reduci...   \n",
       "2      NCT03144778  Durvalumab With or Without Tremelimumab in Tre...   \n",
       "3      NCT01592721  Radiation and Cetuximab Plus Intratumoral EGFR...   \n",
       "4      NCT04253613      Laser Biostimulation in Periodontal Treatment   \n",
       "...            ...                                                ...   \n",
       "64846  NCT02420405  Mutation Detection of EBUS-TBNA Specimens Usin...   \n",
       "64847  NCT01986998  Study to Compare the Clinical and Radiological...   \n",
       "64848  NCT02631538  Safety and Efficacy Study of Subcutaneous Beli...   \n",
       "64849  NCT05301023  Individualized Antibiotic Therapy in Children ...   \n",
       "64850  NCT00815360  Ranibizumab and Peripheral Scatter Laser in Pa...   \n",
       "\n",
       "      Study Results                                      Interventions  \\\n",
       "0                NO                                     DEVICE: ALTERA   \n",
       "1                NO         DRUG: Isosorbide mononitrate|DRUG: placebo   \n",
       "2                NO    BIOLOGICAL: Durvalumab|BIOLOGICAL: Tremelimumab   \n",
       "3               YES                     BIOLOGICAL: EGFR Antisense DNA   \n",
       "4                NO                                                NaN   \n",
       "...             ...                                                ...   \n",
       "64846            NO  PROCEDURE: Routine gene testing|PROCEDURE: Nex...   \n",
       "64847            NO  DRUG: Methylprednisolone 1250 mg/24h x3 days|D...   \n",
       "64848           YES  DRUG: Belimumab|DRUG: Rituximab|DRUG: Placebo ...   \n",
       "64849            NO  OTHER: Individualized antibiotic therapy|OTHER...   \n",
       "64850           YES  DRUG: intravitreal injection of ranibizumab|PR...   \n",
       "\n",
       "          Sex Enrollment      Study Type  \\\n",
       "0         ALL        0.0   OBSERVATIONAL   \n",
       "1      FEMALE      110.0  INTERVENTIONAL   \n",
       "2         ALL       39.0  INTERVENTIONAL   \n",
       "3         ALL        6.0  INTERVENTIONAL   \n",
       "4        MALE       30.0   OBSERVATIONAL   \n",
       "...       ...        ...             ...   \n",
       "64846     ALL         78  INTERVENTIONAL   \n",
       "64847     ALL         49  INTERVENTIONAL   \n",
       "64848     ALL         86  INTERVENTIONAL   \n",
       "64849     ALL        408  INTERVENTIONAL   \n",
       "64850     ALL         22  INTERVENTIONAL   \n",
       "\n",
       "                                            Study Design  count  \\\n",
       "0              Observational Model: |Time Perspective: p    NaN   \n",
       "1      Allocation: RANDOMIZED|Intervention Model: PAR...    NaN   \n",
       "2      Allocation: RANDOMIZED|Intervention Model: PAR...    NaN   \n",
       "3      Allocation: NA|Intervention Model: SINGLE_GROU...    1.0   \n",
       "4              Observational Model: |Time Perspective: p    NaN   \n",
       "...                                                  ...    ...   \n",
       "64846  Allocation: NON_RANDOMIZED|Intervention Model:...    NaN   \n",
       "64847  Allocation: RANDOMIZED|Intervention Model: PAR...    NaN   \n",
       "64848  Allocation: RANDOMIZED|Intervention Model: PAR...   26.0   \n",
       "64849  Allocation: RANDOMIZED|Intervention Model: PAR...    NaN   \n",
       "64850  Allocation: RANDOMIZED|Intervention Model: PAR...    NaN   \n",
       "\n",
       "      healthy_volunteers  ... condition_165 condition_166 condition_167  \\\n",
       "0                      t  ...          None          None          None   \n",
       "1                      f  ...          None          None          None   \n",
       "2                      f  ...          None          None          None   \n",
       "3                      f  ...          None          None          None   \n",
       "4                      t  ...          None          None          None   \n",
       "...                  ...  ...           ...           ...           ...   \n",
       "64846                  f  ...          None          None          None   \n",
       "64847                  f  ...          None          None          None   \n",
       "64848                  f  ...          None          None          None   \n",
       "64849                  f  ...          None          None          None   \n",
       "64850                  f  ...          None          None          None   \n",
       "\n",
       "       condition_168 condition_169 condition_170 condition_171 condition_172  \\\n",
       "0               None          None          None          None          None   \n",
       "1               None          None          None          None          None   \n",
       "2               None          None          None          None          None   \n",
       "3               None          None          None          None          None   \n",
       "4               None          None          None          None          None   \n",
       "...              ...           ...           ...           ...           ...   \n",
       "64846           None          None          None          None          None   \n",
       "64847           None          None          None          None          None   \n",
       "64848           None          None          None          None          None   \n",
       "64849           None          None          None          None          None   \n",
       "64850           None          None          None          None          None   \n",
       "\n",
       "      condition_173 condition_174  \n",
       "0              None          None  \n",
       "1              None          None  \n",
       "2              None          None  \n",
       "3              None          None  \n",
       "4              None          None  \n",
       "...             ...           ...  \n",
       "64846          None          None  \n",
       "64847          None          None  \n",
       "64848          None          None  \n",
       "64849          None          None  \n",
       "64850          None          None  \n",
       "\n",
       "[64851 rows x 188 columns]"
      ]
     },
     "execution_count": 145,
     "metadata": {},
     "output_type": "execute_result"
    }
   ],
   "source": [
    "df"
   ]
  },
  {
   "cell_type": "markdown",
   "id": "04d421f3-cd6f-41a8-925f-132276bdfa6d",
   "metadata": {},
   "source": [
    "# Reduce the numbers of conditions column formed according to requirement"
   ]
  },
  {
   "cell_type": "code",
   "execution_count": 146,
   "id": "96ed0d5b-6e00-417e-8193-857b49c95e5d",
   "metadata": {},
   "outputs": [],
   "source": [
    "start_col = 36\n",
    "end_col = 200\n",
    "\n",
    "# Drop columns using integer-based indexing\n",
    "df_lda = df_lda.drop(df_lda.columns[start_col-1:end_col], axis=1) "
   ]
  },
  {
   "cell_type": "code",
   "execution_count": 147,
   "id": "415e60af-37e2-4064-a2c7-052eeb8da323",
   "metadata": {},
   "outputs": [
    {
     "name": "stdout",
     "output_type": "stream",
     "text": [
      "<class 'pandas.core.frame.DataFrame'>\n",
      "RangeIndex: 64851 entries, 0 to 64850\n",
      "Data columns (total 35 columns):\n",
      " #   Column              Non-Null Count  Dtype  \n",
      "---  ------              --------------  -----  \n",
      " 0   NCT Number          64578 non-null  object \n",
      " 1   Study Title         64540 non-null  object \n",
      " 2   Study Results       64516 non-null  object \n",
      " 3   Interventions       58562 non-null  object \n",
      " 4   Sex                 64380 non-null  object \n",
      " 5   Enrollment          63528 non-null  object \n",
      " 6   Study Type          64437 non-null  object \n",
      " 7   Study Design        64435 non-null  object \n",
      " 8   count               7760 non-null   float64\n",
      " 9   healthy_volunteers  63072 non-null  object \n",
      " 10  adult               64293 non-null  object \n",
      " 11  child               64293 non-null  object \n",
      " 12  older_adult         64293 non-null  object \n",
      " 13  Duration_Days       62218 non-null  float64\n",
      " 14  condition_1         64851 non-null  object \n",
      " 15  condition_2         23819 non-null  object \n",
      " 16  condition_3         10811 non-null  object \n",
      " 17  condition_4         5335 non-null   object \n",
      " 18  condition_5         2858 non-null   object \n",
      " 19  condition_6         1577 non-null   object \n",
      " 20  condition_7         988 non-null    object \n",
      " 21  condition_8         700 non-null    object \n",
      " 22  condition_9         509 non-null    object \n",
      " 23  condition_10        384 non-null    object \n",
      " 24  condition_11        300 non-null    object \n",
      " 25  condition_12        239 non-null    object \n",
      " 26  condition_13        200 non-null    object \n",
      " 27  condition_14        176 non-null    object \n",
      " 28  condition_15        146 non-null    object \n",
      " 29  condition_16        129 non-null    object \n",
      " 30  condition_17        109 non-null    object \n",
      " 31  condition_18        98 non-null     object \n",
      " 32  condition_19        87 non-null     object \n",
      " 33  condition_20        85 non-null     object \n",
      " 34  condition_21        76 non-null     object \n",
      "dtypes: float64(2), object(33)\n",
      "memory usage: 17.3+ MB\n"
     ]
    }
   ],
   "source": [
    "df_lda.info()"
   ]
  },
  {
   "cell_type": "code",
   "execution_count": 148,
   "id": "21394682-e0b6-4b87-81c0-af377cd45550",
   "metadata": {},
   "outputs": [],
   "source": [
    "start_col = 21\n",
    "end_col = 36\n",
    "\n",
    "# Drop columns using integer-based indexing\n",
    "df_lda = df_lda.drop(df_lda.columns[start_col-1:end_col], axis=1) "
   ]
  },
  {
   "cell_type": "code",
   "execution_count": 149,
   "id": "1dcdec64-5dc8-4681-a836-4b8d8ce702b5",
   "metadata": {},
   "outputs": [
    {
     "name": "stdout",
     "output_type": "stream",
     "text": [
      "<class 'pandas.core.frame.DataFrame'>\n",
      "RangeIndex: 64851 entries, 0 to 64850\n",
      "Data columns (total 20 columns):\n",
      " #   Column              Non-Null Count  Dtype  \n",
      "---  ------              --------------  -----  \n",
      " 0   NCT Number          64578 non-null  object \n",
      " 1   Study Title         64540 non-null  object \n",
      " 2   Study Results       64516 non-null  object \n",
      " 3   Interventions       58562 non-null  object \n",
      " 4   Sex                 64380 non-null  object \n",
      " 5   Enrollment          63528 non-null  object \n",
      " 6   Study Type          64437 non-null  object \n",
      " 7   Study Design        64435 non-null  object \n",
      " 8   count               7760 non-null   float64\n",
      " 9   healthy_volunteers  63072 non-null  object \n",
      " 10  adult               64293 non-null  object \n",
      " 11  child               64293 non-null  object \n",
      " 12  older_adult         64293 non-null  object \n",
      " 13  Duration_Days       62218 non-null  float64\n",
      " 14  condition_1         64851 non-null  object \n",
      " 15  condition_2         23819 non-null  object \n",
      " 16  condition_3         10811 non-null  object \n",
      " 17  condition_4         5335 non-null   object \n",
      " 18  condition_5         2858 non-null   object \n",
      " 19  condition_6         1577 non-null   object \n",
      "dtypes: float64(2), object(18)\n",
      "memory usage: 9.9+ MB\n"
     ]
    }
   ],
   "source": [
    "df_lda.info()"
   ]
  },
  {
   "cell_type": "code",
   "execution_count": 150,
   "id": "f315b666-aa7b-4db8-b9a9-4a3af9220e10",
   "metadata": {},
   "outputs": [],
   "source": [
    "df=df_lda.copy()"
   ]
  },
  {
   "cell_type": "markdown",
   "id": "485d79eb-960f-420e-ab81-37e59fb1b4a4",
   "metadata": {},
   "source": [
    "# For Interventions column"
   ]
  },
  {
   "cell_type": "code",
   "execution_count": 151,
   "id": "c068bbfc-ab18-4a91-9f67-273a36a2c6e6",
   "metadata": {},
   "outputs": [],
   "source": [
    "df['Interventions'] = df['Interventions'].astype(str) "
   ]
  },
  {
   "cell_type": "code",
   "execution_count": 152,
   "id": "86e49283-5b2e-4a33-805d-8cbd402aa633",
   "metadata": {},
   "outputs": [],
   "source": [
    "def extract_device_procedure(text):\n",
    "    DEVICE=[]\n",
    "    DRUG=[]\n",
    "    PROCEDURE=[]\n",
    "    BIOLOGICAL=[]\n",
    "    OTHER=[]\n",
    "    RADIATION=[]\n",
    "    device = None\n",
    "    procedure = None\n",
    "    drug = None\n",
    "    biological = None\n",
    "    other = None\n",
    "    radiation = None\n",
    "    if isinstance(text, str):\n",
    "        for item in text.split('|'):\n",
    "            item = item.strip()\n",
    "            if item.startswith('DEVICE:'):\n",
    "                device = item[len('DEVICE:'):]\n",
    "                DEVICE.append(device)\n",
    "            elif item.startswith('PROCEDURE:'):\n",
    "                procedure = item[len('PROCEDURE:'):]\n",
    "                PROCEDURE.append(procedure)\n",
    "            elif item.startswith('BIOLOGICAL:'):\n",
    "                biological = item[len('BIOLOGICAL:'):]\n",
    "                BIOLOGICAL.append(biological)\n",
    "            elif item.startswith('OTHER:'):\n",
    "                other = item[len('OTHER:'):]\n",
    "                OTHER.append(other)\n",
    "            elif item.startswith('DRUG:'):\n",
    "                drug = item[len('DRUG:'):]\n",
    "                DRUG.append(drug)\n",
    "            elif item.startswith('RADIATION:'):\n",
    "                radiation = item[len('RADIATION:'):]\n",
    "                RADIATION.append(radiation)\n",
    "    return {'DEVICE': DEVICE, 'PROCEDURE': PROCEDURE,'RADIATION':RADIATION,'DRUG':DRUG,'OTHER':OTHER,'BIOLOGICAL':BIOLOGICAL}"
   ]
  },
  {
   "cell_type": "code",
   "execution_count": 153,
   "id": "90a4acc7-ba83-456c-9f05-b05f44efa38a",
   "metadata": {},
   "outputs": [],
   "source": [
    "df[['DEVICE', 'PROCEDURE','RADIATION','DRUG','BIOLOGICAL','OTHER']] = df['Interventions'].apply(extract_device_procedure).apply(pd.Series)"
   ]
  },
  {
   "cell_type": "code",
   "execution_count": 154,
   "id": "a14da40d-ce64-45ca-bf18-dc3c9eee4c64",
   "metadata": {},
   "outputs": [],
   "source": [
    "df_lda=df.copy()"
   ]
  },
  {
   "cell_type": "markdown",
   "id": "d7facb8b-e0fa-4825-968b-5bba9aaa77ae",
   "metadata": {},
   "source": [
    "# For Study Design column"
   ]
  },
  {
   "cell_type": "code",
   "execution_count": 155,
   "id": "93963985-c1c5-44cf-b680-bd3ed35166c5",
   "metadata": {},
   "outputs": [],
   "source": [
    "def extract_study_design_components(text):\n",
    "    \"\"\"\n",
    "    Extracts components from the study design string.\n",
    "\n",
    "    Args:\n",
    "        text: The input string describing the study design.\n",
    "\n",
    "    Returns:\n",
    "        A dictionary containing extracted components.\n",
    "    \"\"\"\n",
    "    components = {}\n",
    "    if isinstance(text, str):\n",
    "        parts = text.split('|')\n",
    "        for part in parts:\n",
    "            if part.startswith('Allocation:'):\n",
    "                components['Allocation'] = part.split(':')[1].strip()\n",
    "            elif part.startswith('Intervention Model:'):\n",
    "                components['Intervention Model'] = part.split(':')[1].strip()\n",
    "            elif part.startswith('Masking:'):\n",
    "                components['Masking'] = part.split(':')[1].strip()\n",
    "            elif part.startswith('Primary Purpose:'):\n",
    "                components['Primary Purpose'] = part.split(':')[1].strip()\n",
    "            elif part.startswith('Observational Model:'):\n",
    "                components['Observational Model'] = part.split(':')[0].strip()\n",
    "    return components"
   ]
  },
  {
   "cell_type": "code",
   "execution_count": 156,
   "id": "150300d6-892d-478b-a55e-f09330ee1752",
   "metadata": {},
   "outputs": [],
   "source": [
    "df_lda[['Allocation', 'Intervention Model', 'Masking', 'Primary Purpose', 'Observational Model']] = \\\n",
    "    df_lda['Study Design'].apply(extract_study_design_components).apply(pd.Series)"
   ]
  },
  {
   "cell_type": "code",
   "execution_count": 157,
   "id": "9b5e58c6-91e6-487a-8105-2aa7ced9270a",
   "metadata": {},
   "outputs": [],
   "source": [
    "df_lda['Masking'] = df_lda['Masking'].apply(lambda x: str(x)[0:].replace(',', ' '))"
   ]
  },
  {
   "cell_type": "code",
   "execution_count": 158,
   "id": "ed609055-4b4e-46fc-974c-a7d5c6d1eee2",
   "metadata": {},
   "outputs": [],
   "source": [
    "df=df_lda.copy()"
   ]
  },
  {
   "cell_type": "markdown",
   "id": "eafcc675-80f5-4c9c-91bf-1663cdab1d1d",
   "metadata": {},
   "source": [
    "<span style=\"color: blue;\">'Study Title' column was filtered using these newly created categorical features to effectively extract the objectives of the clinical trials.</span>"
   ]
  },
  {
   "cell_type": "code",
   "execution_count": 159,
   "id": "e02cc8b1-2158-4030-8c6e-cb40958c9ea0",
   "metadata": {},
   "outputs": [],
   "source": [
    "df['DEVICE'] = df['DEVICE'].astype(str)\n",
    "df['PROCEDURE'] = df['PROCEDURE'].astype(str)\n",
    "df['DRUG'] = df['DRUG'].astype(str)\n",
    "df['RADIATION'] = df['RADIATION'].astype(str)\n",
    "df['OTHER'] = df['OTHER'].astype(str)\n",
    "df['BIOLOGICAL'] = df['BIOLOGICAL'].astype(str)"
   ]
  },
  {
   "cell_type": "code",
   "execution_count": 160,
   "id": "ec01f354-0388-4f2e-b334-5d54346d5d25",
   "metadata": {},
   "outputs": [],
   "source": [
    "import re"
   ]
  },
  {
   "cell_type": "code",
   "execution_count": 161,
   "id": "54979a8e-d7d3-4dd9-86a8-2106a74031b8",
   "metadata": {},
   "outputs": [],
   "source": [
    "def remove_symbols(text):\n",
    "    text = re.sub(r'[^\\w\\s\\d]', '',text)\n",
    "    return text"
   ]
  },
  {
   "cell_type": "code",
   "execution_count": 162,
   "id": "d2fd9ff0-2248-4209-9843-6a7d15136dd7",
   "metadata": {},
   "outputs": [],
   "source": [
    "df['DEVICE'] = df['DEVICE'].apply(remove_symbols)\n",
    "df['PROCEDURE'] = df['PROCEDURE'].apply(remove_symbols)\n",
    "df['DRUG'] = df['DRUG'].apply(remove_symbols)\n",
    "df['RADIATION'] = df['RADIATION'].apply(remove_symbols)\n",
    "df['OTHER'] = df['OTHER'].apply(remove_symbols)\n",
    "df['BIOLOGICAL'] = df['BIOLOGICAL'].apply(remove_symbols)"
   ]
  },
  {
   "cell_type": "code",
   "execution_count": null,
   "id": "a570a59f-ecf7-4871-99a5-e65ebdd36b0f",
   "metadata": {},
   "outputs": [],
   "source": []
  },
  {
   "cell_type": "code",
   "execution_count": 163,
   "id": "e87d2e57-4d11-46b0-9be0-205d85fc9659",
   "metadata": {},
   "outputs": [],
   "source": [
    "df['Study Title'] = df['Study Title'].str.lower()\n",
    "df['condition_1'] = df['condition_1'].str.lower()\n",
    "df['condition_2'] = df['condition_2'].str.lower()\n",
    "df['condition_3'] = df['condition_3'].str.lower()\n",
    "df['condition_4'] = df['condition_4'].str.lower()\n",
    "df['condition_5'] = df['condition_5'].str.lower()\n",
    "df['condition_6'] = df['condition_6'].str.lower()\n"
   ]
  },
  {
   "cell_type": "code",
   "execution_count": 164,
   "id": "2e789a59-5859-41b6-b34c-d86168a019fe",
   "metadata": {},
   "outputs": [],
   "source": [
    "df['DEVICE'] = df['DEVICE'].str.lower()\n",
    "df['PROCEDURE'] = df['PROCEDURE'].str.lower()\n",
    "df['DRUG'] = df['DRUG'].str.lower()\n",
    "df['RADIATION'] = df['RADIATION'].str.lower()\n",
    "df['OTHER'] = df['OTHER'].str.lower()\n",
    "df['BIOLOGICAL'] = df['BIOLOGICAL'].str.lower()"
   ]
  },
  {
   "cell_type": "code",
   "execution_count": 165,
   "id": "dab9ae59-c75c-4578-aeb5-7d51868c95b8",
   "metadata": {},
   "outputs": [],
   "source": [
    "import pandas as pd\n",
    "\n",
    "def remove_shared_words(df, target_col, other_cols):\n",
    "\n",
    "    def remove_shared_words_from_row(row):\n",
    "        target_words = set(row[target_col].split())\n",
    "        other_words = set()\n",
    "        for col in other_cols:\n",
    "            other_words.update(row[col].split())\n",
    "        words_to_keep = target_words - other_words\n",
    "        return ' '.join(words_to_keep)\n",
    "\n",
    "    df[target_col] = df.apply(remove_shared_words_from_row, axis=1)\n",
    "    return df\n"
   ]
  },
  {
   "cell_type": "code",
   "execution_count": 166,
   "id": "a1788a81-02df-40c3-8de2-acdbba0e4b78",
   "metadata": {},
   "outputs": [],
   "source": [
    "df[\"OTHER\"]=df[\"OTHER\"].astype(str)"
   ]
  },
  {
   "cell_type": "code",
   "execution_count": 167,
   "id": "56df176d-22d1-42a3-bace-52187ac370a0",
   "metadata": {},
   "outputs": [],
   "source": [
    "df['Study Title'] = df['Study Title'].fillna('') "
   ]
  },
  {
   "cell_type": "code",
   "execution_count": 168,
   "id": "ca6f0dcf-20af-4ee5-93c2-f60be4adf3c4",
   "metadata": {},
   "outputs": [],
   "source": [
    "df['DEVICE'] = df['DEVICE'].fillna('') \n",
    "df['PROCEDURE'] = df['PROCEDURE'].fillna('') \n",
    "df['RADIATION'] = df['RADIATION'].fillna('') \n",
    "df['DRUG'] = df['DRUG'].fillna('') \n",
    "df['BIOLOGICAL'] = df['BIOLOGICAL'].fillna('') \n",
    "df['OTHER'] = df['OTHER'].fillna('')"
   ]
  },
  {
   "cell_type": "code",
   "execution_count": 169,
   "id": "2eac6821-5c9a-4bf8-990c-3317df1b5067",
   "metadata": {},
   "outputs": [],
   "source": [
    "df['condition_1'] = df['condition_1'].fillna('')\n",
    "df['condition_2'] = df['condition_2'].fillna('')\n",
    "df['condition_3'] = df['condition_3'].fillna('')\n",
    "df['condition_4'] = df['condition_4'].fillna('')\n",
    "df['condition_5'] = df['condition_5'].fillna('')\n",
    "df['condition_6'] = df['condition_6'].fillna('')"
   ]
  },
  {
   "cell_type": "code",
   "execution_count": 170,
   "id": "48bfcee2-be0c-4db0-b9e4-6a5c1a2d63e5",
   "metadata": {},
   "outputs": [],
   "source": [
    "df = remove_shared_words(df, 'Study Title', ['DEVICE','RADIATION','PROCEDURE','DRUG','BIOLOGICAL','OTHER','condition_1', 'condition_2', 'condition_3', 'condition_4', 'condition_5','condition_6'])"
   ]
  },
  {
   "cell_type": "markdown",
   "id": "e354c78e-5287-4871-8763-c2bfa75feefd",
   "metadata": {},
   "source": [
    "# WORD EMBEDDING"
   ]
  },
  {
   "cell_type": "raw",
   "id": "caef74c3-edc5-4623-b0f2-aeebf7aae2c8",
   "metadata": {},
   "source": [
    "We transformed the data into a numerical representation suitable for machine learning models\n",
    "using BioWordVec Embeddings extrinsic\n",
    "BioWordVec embeddings are specifically designed for biomedical text. Extrinsic evaluation assesses their performance on downstream tasks\n"
   ]
  },
  {
   "cell_type": "code",
   "execution_count": 171,
   "id": "72ef0e7f-2e31-4a2a-8283-d73fbdbfb8d2",
   "metadata": {},
   "outputs": [],
   "source": [
    "def preprocess_text(text):\n",
    "    text = text.lower()  # Convert to lowercase\n",
    "    text = text.translate(str.maketrans('', '', string.punctuation))  # Remove punctuation\n",
    "    words = word_tokenize(text) \n",
    "    stop_words = set(stopwords.words('english')) \n",
    "    filtered_words = [word for word in words if word not in stop_words] \n",
    "    return filtered_words "
   ]
  },
  {
   "cell_type": "code",
   "execution_count": 172,
   "id": "a546ea72-4333-4853-8bec-4e341ab5bf60",
   "metadata": {},
   "outputs": [],
   "source": [
    "import pandas as pd\n",
    "from nltk.tokenize import word_tokenize \n",
    "from nltk.corpus import stopwords\n",
    "import string"
   ]
  },
  {
   "cell_type": "code",
   "execution_count": 173,
   "id": "765fc4cd-30ac-4657-bc09-aa40252b9329",
   "metadata": {},
   "outputs": [],
   "source": [
    "df['Study Title'] = df['Study Title'].apply(preprocess_text)"
   ]
  },
  {
   "cell_type": "code",
   "execution_count": 174,
   "id": "1c1428bb-4765-4e54-ba6e-dd05c21204a3",
   "metadata": {},
   "outputs": [],
   "source": [
    "df['Study Title'] = df['Study Title'].apply(lambda x: str(x)[1:-1].replace(',', ' '))"
   ]
  },
  {
   "cell_type": "code",
   "execution_count": 175,
   "id": "1dc20a37-a647-4b96-88e5-e14d1c832cb5",
   "metadata": {},
   "outputs": [],
   "source": [
    "df['Study Title'] = df['Study Title'].apply(remove_symbols)"
   ]
  },
  {
   "cell_type": "markdown",
   "id": "d364af40-0f7f-4e5f-aacc-a212edb4c84b",
   "metadata": {},
   "source": [
    "## Data preprocessing for word embedding"
   ]
  },
  {
   "cell_type": "code",
   "execution_count": 176,
   "id": "a6d44b4a-8664-4011-950c-da27f4f6c2d4",
   "metadata": {},
   "outputs": [],
   "source": [
    "df_lda=df.copy()"
   ]
  },
  {
   "cell_type": "code",
   "execution_count": 177,
   "id": "2aba020e-61c9-4c0b-9953-0f2c4e50bd68",
   "metadata": {},
   "outputs": [],
   "source": [
    "df_lda = df_lda.replace('nan', np.nan)"
   ]
  },
  {
   "cell_type": "code",
   "execution_count": 178,
   "id": "6ba33869-7dd6-419c-868e-b8a822231741",
   "metadata": {},
   "outputs": [],
   "source": [
    "df_lda['Study Title'] = df_lda['Study Title'].astype(str)"
   ]
  },
  {
   "cell_type": "code",
   "execution_count": 179,
   "id": "574fdfcf-ce6e-42be-a196-8ec771887b40",
   "metadata": {},
   "outputs": [],
   "source": [
    "df_lda['Allocation']=df_lda['Allocation'].fillna('')\n",
    "df_lda['Intervention Model']=df_lda['Intervention Model'].fillna('')\n",
    "df_lda['Masking']=df_lda['Masking'].fillna('')\n",
    "df_lda['Primary Purpose']=df_lda['Primary Purpose'].fillna('')\n",
    "df_lda['Observational Model']=df_lda['Observational Model'].fillna('')"
   ]
  },
  {
   "cell_type": "code",
   "execution_count": 180,
   "id": "adcaf175-8f49-4628-9c32-8dc5719e680b",
   "metadata": {},
   "outputs": [],
   "source": [
    "df_lda['Allocation'] = df_lda['Allocation'].astype(str)\n",
    "df_lda['Intervention Model'] = df_lda['Intervention Model'].astype(str)\n",
    "df_lda['Masking'] = df_lda['Masking'].astype(str)\n",
    "df_lda['Primary Purpose'] = df_lda['Primary Purpose'].astype(str)\n",
    "df_lda['Observational Model'] = df_lda['Observational Model'].astype(str)"
   ]
  },
  {
   "cell_type": "code",
   "execution_count": 181,
   "id": "ffff5406-7e29-41d7-88ef-0f432a4f7885",
   "metadata": {},
   "outputs": [],
   "source": [
    "df_lda['Allocation'] = df_lda['Allocation'].str.lower()\n",
    "df_lda['Intervention Model'] = df_lda['Intervention Model'].str.lower()\n",
    "df_lda['Masking'] = df_lda['Masking'].str.lower()\n",
    "df_lda['Primary Purpose'] = df_lda['Primary Purpose'].str.lower()\n",
    "df_lda['Observational Model'] = df_lda['Observational Model'].str.lower()"
   ]
  },
  {
   "cell_type": "code",
   "execution_count": 182,
   "id": "d90cd1c2-bcca-4471-8d49-113de122b27d",
   "metadata": {},
   "outputs": [],
   "source": [
    "df_lda['Allocation'] = df_lda['Allocation'].str.replace(\"_\", \" \")\n",
    "df_lda['Intervention Model'] = df_lda['Intervention Model'].str.replace(\"_\", \" \")\n",
    "df_lda['Masking'] = df_lda['Masking'].str.replace(\"_\", \" \")\n",
    "df_lda['Primary Purpose'] = df_lda['Primary Purpose'].str.replace(\"_\", \" \")\n",
    "df_lda['Observational Model'] = df_lda['Observational Model'].str.replace(\"_\", \" \")"
   ]
  },
  {
   "cell_type": "code",
   "execution_count": null,
   "id": "2ebe080a-328c-4072-aebe-958992d939a8",
   "metadata": {},
   "outputs": [],
   "source": []
  },
  {
   "cell_type": "code",
   "execution_count": 183,
   "id": "e526a665-d683-4596-addd-68c91c09519a",
   "metadata": {},
   "outputs": [],
   "source": [
    "df_lda['DEVICE'] = df_lda['DEVICE'].fillna('') \n",
    "df_lda['PROCEDURE'] = df_lda['PROCEDURE'].fillna('') \n",
    "df_lda['RADIATION'] = df_lda['RADIATION'].fillna('') \n",
    "df_lda['DRUG'] = df_lda['DRUG'].fillna('') \n",
    "df_lda['BIOLOGICAL'] = df_lda['BIOLOGICAL'].fillna('') \n",
    "df_lda['OTHER'] = df_lda['OTHER'].fillna('') "
   ]
  },
  {
   "cell_type": "code",
   "execution_count": 184,
   "id": "e1c78824-b8ee-4ff1-b58b-136721ac2ddf",
   "metadata": {},
   "outputs": [],
   "source": [
    "df_lda['condition_2'] = df_lda['condition_2'].fillna('')\n",
    "df_lda['condition_3'] = df_lda['condition_3'].fillna('')\n",
    "df_lda['condition_4'] = df_lda['condition_4'].fillna('')\n",
    "df_lda['condition_5'] = df_lda['condition_5'].fillna('')\n",
    "df_lda['condition_6'] = df_lda['condition_6'].fillna('')"
   ]
  },
  {
   "cell_type": "code",
   "execution_count": 185,
   "id": "e2d0116b-f180-4a63-9a2d-bb4106528c77",
   "metadata": {},
   "outputs": [],
   "source": [
    "df_lda['condition_2'] = df_lda['condition_2'].astype(str)\n",
    "df_lda['condition_3'] = df_lda['condition_3'].astype(str)\n",
    "df_lda['condition_4'] = df_lda['condition_4'].astype(str)\n",
    "df_lda['condition_5'] = df_lda['condition_5'].astype(str)\n",
    "df_lda['condition_6'] = df_lda['condition_6'].astype(str)"
   ]
  },
  {
   "cell_type": "code",
   "execution_count": 186,
   "id": "17de2d12-877f-4483-9e53-97fee06ac8fb",
   "metadata": {},
   "outputs": [],
   "source": [
    "dfw=df_lda.copy()"
   ]
  },
  {
   "cell_type": "code",
   "execution_count": 187,
   "id": "a073043a-43ed-4710-b442-a0120fe85bbb",
   "metadata": {},
   "outputs": [],
   "source": [
    "df_lda=dfw.copy()"
   ]
  },
  {
   "cell_type": "markdown",
   "id": "b36d8dcb-2142-4113-afd4-3147f2447f5b",
   "metadata": {},
   "source": [
    "## Getting the Vectors"
   ]
  },
  {
   "cell_type": "code",
   "execution_count": 188,
   "id": "72858faf-c1ae-4054-b8b9-eaf4a0383f69",
   "metadata": {},
   "outputs": [],
   "source": [
    "from gensim.models import KeyedVectors\n",
    "import pandas as pd"
   ]
  },
  {
   "cell_type": "code",
   "execution_count": 189,
   "id": "231c022d-e26e-4516-9617-5551a24a6fba",
   "metadata": {},
   "outputs": [],
   "source": [
    "model_path = \"bio_embedding_extrinsic\""
   ]
  },
  {
   "cell_type": "code",
   "execution_count": 190,
   "id": "93457edb-a1f8-4301-856b-7ea8d85db1c6",
   "metadata": {},
   "outputs": [],
   "source": [
    "model = KeyedVectors.load_word2vec_format(model_path, binary=True, encoding='utf-8')"
   ]
  },
  {
   "cell_type": "code",
   "execution_count": 191,
   "id": "058839c5-c715-4a13-a1b3-ee4697ea6ce9",
   "metadata": {},
   "outputs": [],
   "source": [
    "def get_sentence_vector(sentence):\n",
    "    words = sentence.split()\n",
    "    word_vectors = [model[word] for word in words if word in model.key_to_index]\n",
    "    if word_vectors:\n",
    "        return np.mean(word_vectors, axis=0)\n",
    "    else:\n",
    "        return np.zeros(model.vector_size)"
   ]
  },
  {
   "cell_type": "code",
   "execution_count": 192,
   "id": "da07ea9b-1df1-40f6-b891-93b0ff0e989b",
   "metadata": {},
   "outputs": [],
   "source": [
    "df_lda['Study Title_vectors'] = df_lda['Study Title'].apply(get_sentence_vector)"
   ]
  },
  {
   "cell_type": "code",
   "execution_count": 193,
   "id": "081d1a95-2c8e-4908-82d8-dedc602e196e",
   "metadata": {},
   "outputs": [],
   "source": [
    "dfc=df_lda.copy()"
   ]
  },
  {
   "cell_type": "code",
   "execution_count": 194,
   "id": "84c1f5aa-c1cb-4a7f-8797-40491d3bb7da",
   "metadata": {},
   "outputs": [],
   "source": [
    "df_lda=dfc.copy()"
   ]
  },
  {
   "cell_type": "code",
   "execution_count": 195,
   "id": "04c65ad0-7806-46a1-9556-9dc1176f4191",
   "metadata": {},
   "outputs": [],
   "source": [
    "df_lda['condition_1'] = df_lda['condition_1'].apply(get_sentence_vector)\n",
    "df_lda['condition_2'] = df_lda['condition_2'].apply(get_sentence_vector)\n",
    "df_lda['condition_3'] = df_lda['condition_3'].apply(get_sentence_vector)\n",
    "df_lda['condition_4'] = df_lda['condition_4'].apply(get_sentence_vector)\n",
    "df_lda['condition_5'] = df_lda['condition_5'].apply(get_sentence_vector)\n",
    "df_lda['condition_6'] = df_lda['condition_6'].apply(get_sentence_vector)"
   ]
  },
  {
   "cell_type": "code",
   "execution_count": 196,
   "id": "e25d6dfd-7b1f-4e45-b070-5384eb55d68c",
   "metadata": {},
   "outputs": [],
   "source": [
    "df_lda['DEVICE'] = df_lda['DEVICE'].apply(get_sentence_vector)\n",
    "df_lda['PROCEDURE'] = df_lda['PROCEDURE'].apply(get_sentence_vector)\n",
    "df_lda['RADIATION'] = df_lda['RADIATION'].apply(get_sentence_vector)\n",
    "df_lda['DRUG'] = df_lda['DRUG'].apply(get_sentence_vector)\n",
    "df_lda['BIOLOGICAL'] = df_lda['BIOLOGICAL'].apply(get_sentence_vector)\n",
    "df_lda['OTHER'] = df_lda['OTHER'].apply(get_sentence_vector)"
   ]
  },
  {
   "cell_type": "code",
   "execution_count": 197,
   "id": "3ec572cd-ebcf-4d49-937d-aeddfd19ebce",
   "metadata": {},
   "outputs": [],
   "source": [
    "df_lda['Allocation'] = df_lda['Allocation'].apply(get_sentence_vector)\n",
    "df_lda['Intervention Model'] = df_lda['Intervention Model'].apply(get_sentence_vector)\n",
    "df_lda['Masking'] = df_lda['Masking'].apply(get_sentence_vector)\n",
    "df_lda['Primary Purpose'] = df_lda['Primary Purpose'].apply(get_sentence_vector)\n",
    "df_lda['Observational Model'] = df_lda['Observational Model'].apply(get_sentence_vector)"
   ]
  },
  {
   "cell_type": "code",
   "execution_count": 198,
   "id": "be61cf00-6193-45e7-bf0f-50a44466e125",
   "metadata": {},
   "outputs": [],
   "source": [
    "df_lda['DEVICE'] = df_lda['DEVICE'].apply(np.mean)\n",
    "df_lda['PROCEDURE'] = df_lda['PROCEDURE'].apply(np.mean)\n",
    "df_lda['RADIATION'] = df_lda['RADIATION'].apply(np.mean)\n",
    "df_lda['DRUG'] = df_lda['DRUG'].apply(np.mean)\n",
    "df_lda['BIOLOGICAL'] = df_lda['BIOLOGICAL'].apply(np.mean)\n",
    "df_lda['OTHER'] = df_lda['OTHER'].apply(np.mean)"
   ]
  },
  {
   "cell_type": "code",
   "execution_count": 199,
   "id": "7fa7ee76-2eeb-4352-8996-a58e65c4c7cc",
   "metadata": {},
   "outputs": [],
   "source": [
    "df_lda['Allocation'] = df_lda['Allocation'].apply(np.mean)\n",
    "df_lda['Intervention Model'] = df_lda['Intervention Model'].apply(np.mean)\n",
    "df_lda['Masking'] = df_lda['Masking'].apply(np.mean)\n",
    "df_lda['Primary Purpose'] = df_lda['Primary Purpose'].apply(np.mean)\n",
    "df_lda['Observational Model'] = df_lda['Observational Model'].apply(np.mean)"
   ]
  },
  {
   "cell_type": "code",
   "execution_count": 200,
   "id": "ca9b4750-a8ef-44b0-be57-bb8a6d156878",
   "metadata": {},
   "outputs": [],
   "source": [
    "df_lda['condition_2'] = df_lda['condition_2'].apply(np.mean)\n",
    "df_lda['condition_3'] = df_lda['condition_3'].apply(np.mean)\n",
    "df_lda['condition_4'] = df_lda['condition_4'].apply(np.mean)\n",
    "df_lda['condition_1'] = df_lda['condition_1'].apply(np.mean)\n",
    "df_lda['condition_5'] = df_lda['condition_5'].apply(np.mean)\n",
    "df_lda['condition_6'] = df_lda['condition_6'].apply(np.mean)"
   ]
  },
  {
   "cell_type": "code",
   "execution_count": 201,
   "id": "66ba1bd2-241a-4090-9324-0d45f2a1e648",
   "metadata": {},
   "outputs": [],
   "source": [
    "df_lda['Study Title_vectors'] = df_lda['Study Title_vectors'].apply(np.mean)"
   ]
  },
  {
   "cell_type": "code",
   "execution_count": 202,
   "id": "b2fd5fcb-d5c9-4ce3-9168-a663730ed2e7",
   "metadata": {},
   "outputs": [],
   "source": [
    "dfz=df_lda.copy()"
   ]
  },
  {
   "cell_type": "code",
   "execution_count": 215,
   "id": "3ea347e2-5fe0-4ab9-bdae-88559546ab2c",
   "metadata": {},
   "outputs": [
    {
     "name": "stdout",
     "output_type": "stream",
     "text": [
      "<class 'pandas.core.frame.DataFrame'>\n",
      "RangeIndex: 64851 entries, 0 to 64850\n",
      "Data columns (total 31 columns):\n",
      " #   Column               Non-Null Count  Dtype  \n",
      "---  ------               --------------  -----  \n",
      " 0   NCT Number           64578 non-null  object \n",
      " 1   Study Title          64851 non-null  object \n",
      " 2   Study Results        64516 non-null  object \n",
      " 3   Sex                  64851 non-null  object \n",
      " 4   Enrollment           64851 non-null  object \n",
      " 5   Study Type           64851 non-null  object \n",
      " 6   Study Design         64435 non-null  object \n",
      " 7   count                64851 non-null  float64\n",
      " 8   healthy_volunteers   64851 non-null  object \n",
      " 9   adult                64851 non-null  object \n",
      " 10  child                64851 non-null  object \n",
      " 11  older_adult          64851 non-null  object \n",
      " 12  Duration_Days        64851 non-null  float64\n",
      " 13  condition_1          64851 non-null  float64\n",
      " 14  condition_2          64851 non-null  float64\n",
      " 15  condition_3          64851 non-null  float64\n",
      " 16  condition_4          64851 non-null  float64\n",
      " 17  condition_5          64851 non-null  float64\n",
      " 18  condition_6          64851 non-null  float64\n",
      " 19  DEVICE               64851 non-null  float64\n",
      " 20  PROCEDURE            64851 non-null  float64\n",
      " 21  RADIATION            64851 non-null  float64\n",
      " 22  DRUG                 64851 non-null  float64\n",
      " 23  BIOLOGICAL           64851 non-null  float64\n",
      " 24  OTHER                64851 non-null  float64\n",
      " 25  Allocation           64851 non-null  float64\n",
      " 26  Intervention Model   64851 non-null  float64\n",
      " 27  Masking              64851 non-null  float64\n",
      " 28  Primary Purpose      64851 non-null  float64\n",
      " 29  Observational Model  64851 non-null  float64\n",
      " 30  Study Title_vectors  64851 non-null  float64\n",
      "dtypes: float64(20), object(11)\n",
      "memory usage: 15.3+ MB\n"
     ]
    }
   ],
   "source": [
    "df_lda.info()"
   ]
  },
  {
   "cell_type": "markdown",
   "id": "2e007648-1dc5-4e9e-abbb-cf43786c36b0",
   "metadata": {},
   "source": [
    "# Handling the missing values"
   ]
  },
  {
   "cell_type": "code",
   "execution_count": 203,
   "id": "ffab0cb8-b7b1-4c36-90c2-5deadce62f89",
   "metadata": {},
   "outputs": [],
   "source": [
    "df_lda.drop(['Interventions'],axis=1,inplace=True)"
   ]
  },
  {
   "cell_type": "code",
   "execution_count": 205,
   "id": "92f3fc13-71da-499b-9252-9cf30b2a5934",
   "metadata": {},
   "outputs": [],
   "source": [
    "column_mode = df_lda['Sex'].mode()[0]\n",
    "df_lda['Sex'].fillna(column_mode, inplace=True)"
   ]
  },
  {
   "cell_type": "code",
   "execution_count": 206,
   "id": "4ee525c2-ba87-4950-b2cc-08c82337d4be",
   "metadata": {},
   "outputs": [],
   "source": [
    "column_mode = df_lda['child'].mode()[0]\n",
    "df_lda['child'].fillna(column_mode, inplace=True)"
   ]
  },
  {
   "cell_type": "code",
   "execution_count": 207,
   "id": "76216c42-60b6-4f42-a6c9-7d1ea26fd5ff",
   "metadata": {},
   "outputs": [],
   "source": [
    "column_mode = df_lda['older_adult'].mode()[0]\n",
    "df_lda['older_adult'].fillna(column_mode, inplace=True)"
   ]
  },
  {
   "cell_type": "code",
   "execution_count": 208,
   "id": "e53f821c-2b82-4ee6-84ff-d20cb605a794",
   "metadata": {},
   "outputs": [],
   "source": [
    "column_mode = df_lda['adult'].mode()[0]\n",
    "df_lda['adult'].fillna(column_mode, inplace=True)"
   ]
  },
  {
   "cell_type": "code",
   "execution_count": 209,
   "id": "a46b82a8-4581-43ab-99af-493db06063dc",
   "metadata": {},
   "outputs": [],
   "source": [
    "column_mode = df_lda['healthy_volunteers'].mode()[0]\n",
    "df_lda['healthy_volunteers'].fillna(column_mode, inplace=True)"
   ]
  },
  {
   "cell_type": "code",
   "execution_count": 210,
   "id": "d6585e35-17a5-4a70-abab-8b96aaef0e84",
   "metadata": {},
   "outputs": [],
   "source": [
    "column_mode = df_lda['Enrollment'].mode()[0]\n",
    "df_lda['Enrollment'].fillna(column_mode, inplace=True)"
   ]
  },
  {
   "cell_type": "code",
   "execution_count": 211,
   "id": "15399e68-543f-4358-8b6e-84d012200156",
   "metadata": {},
   "outputs": [],
   "source": [
    "df_lda['count'] = df_lda['count'].fillna(0)"
   ]
  },
  {
   "cell_type": "code",
   "execution_count": 212,
   "id": "09f9a036-4fbd-4dce-b55d-bb36a47c4b17",
   "metadata": {},
   "outputs": [],
   "source": [
    "column_mode = df_lda['Study Type'].mode()[0]\n",
    "df_lda['Study Type'].fillna(column_mode, inplace=True)"
   ]
  },
  {
   "cell_type": "code",
   "execution_count": 213,
   "id": "a5290994-c684-45c4-a625-edc9462fee45",
   "metadata": {},
   "outputs": [],
   "source": [
    "column_mode = df_lda['Duration_Days'].mode()[0]\n",
    "df_lda['Duration_Days'].fillna(column_mode, inplace=True)"
   ]
  },
  {
   "cell_type": "code",
   "execution_count": 214,
   "id": "0d3f5366-2dc9-4e69-aee5-9d995ad1a582",
   "metadata": {},
   "outputs": [],
   "source": [
    "df_kk=df_lda.copy()"
   ]
  },
  {
   "cell_type": "code",
   "execution_count": null,
   "id": "b5048777-6da1-44f1-b706-3eb0debb4892",
   "metadata": {},
   "outputs": [],
   "source": []
  },
  {
   "cell_type": "markdown",
   "id": "c7c9f4c8-5683-4689-919a-66e49de1e26b",
   "metadata": {},
   "source": [
    "# Encoding several categorical variables in the df_lda DataFrame using a combination of string replacements and dictionary mappings"
   ]
  },
  {
   "cell_type": "code",
   "execution_count": 216,
   "id": "122e541d-4c22-4a32-9fb1-2736816155f6",
   "metadata": {},
   "outputs": [],
   "source": [
    "from sklearn.preprocessing import LabelEncoder"
   ]
  },
  {
   "cell_type": "code",
   "execution_count": 217,
   "id": "263c5916-b216-4a91-9f8c-8793eb1ddf1a",
   "metadata": {},
   "outputs": [],
   "source": [
    "le = LabelEncoder()"
   ]
  },
  {
   "cell_type": "code",
   "execution_count": null,
   "id": "9ddc2151-5867-47ce-8cd5-5294a365937a",
   "metadata": {},
   "outputs": [],
   "source": [
    "df_lda['Study Status'] = df_lda['Study Status'].replace({'TERMINATED': 'NOT COMPLETED', 'WITHDRAWN': 'NOT COMPLETED','SUSPENDED' : 'NOT COMPLETED'})"
   ]
  },
  {
   "cell_type": "code",
   "execution_count": null,
   "id": "e60d5485-b487-4d0b-9637-e8f71daad800",
   "metadata": {},
   "outputs": [],
   "source": [
    "category_order = {'COMPLETED': 1, 'NOT COMPLETED': 0}"
   ]
  },
  {
   "cell_type": "code",
   "execution_count": 136,
   "id": "4b8d3091-335e-42dc-9d9f-28c5004d955f",
   "metadata": {},
   "outputs": [
    {
     "ename": "KeyError",
     "evalue": "'Study Status'",
     "output_type": "error",
     "traceback": [
      "\u001b[1;31m---------------------------------------------------------------------------\u001b[0m",
      "\u001b[1;31mKeyError\u001b[0m                                  Traceback (most recent call last)",
      "File \u001b[1;32m~\\AppData\\Local\\Programs\\Python\\Python312\\Lib\\site-packages\\pandas\\core\\indexes\\base.py:3791\u001b[0m, in \u001b[0;36mIndex.get_loc\u001b[1;34m(self, key)\u001b[0m\n\u001b[0;32m   3790\u001b[0m \u001b[38;5;28;01mtry\u001b[39;00m:\n\u001b[1;32m-> 3791\u001b[0m     \u001b[38;5;28;01mreturn\u001b[39;00m \u001b[38;5;28;43mself\u001b[39;49m\u001b[38;5;241;43m.\u001b[39;49m\u001b[43m_engine\u001b[49m\u001b[38;5;241;43m.\u001b[39;49m\u001b[43mget_loc\u001b[49m\u001b[43m(\u001b[49m\u001b[43mcasted_key\u001b[49m\u001b[43m)\u001b[49m\n\u001b[0;32m   3792\u001b[0m \u001b[38;5;28;01mexcept\u001b[39;00m \u001b[38;5;167;01mKeyError\u001b[39;00m \u001b[38;5;28;01mas\u001b[39;00m err:\n",
      "File \u001b[1;32mindex.pyx:152\u001b[0m, in \u001b[0;36mpandas._libs.index.IndexEngine.get_loc\u001b[1;34m()\u001b[0m\n",
      "File \u001b[1;32mindex.pyx:181\u001b[0m, in \u001b[0;36mpandas._libs.index.IndexEngine.get_loc\u001b[1;34m()\u001b[0m\n",
      "File \u001b[1;32mpandas\\_libs\\hashtable_class_helper.pxi:7080\u001b[0m, in \u001b[0;36mpandas._libs.hashtable.PyObjectHashTable.get_item\u001b[1;34m()\u001b[0m\n",
      "File \u001b[1;32mpandas\\_libs\\hashtable_class_helper.pxi:7088\u001b[0m, in \u001b[0;36mpandas._libs.hashtable.PyObjectHashTable.get_item\u001b[1;34m()\u001b[0m\n",
      "\u001b[1;31mKeyError\u001b[0m: 'Study Status'",
      "\nThe above exception was the direct cause of the following exception:\n",
      "\u001b[1;31mKeyError\u001b[0m                                  Traceback (most recent call last)",
      "Cell \u001b[1;32mIn[136], line 1\u001b[0m\n\u001b[1;32m----> 1\u001b[0m df_lda[\u001b[38;5;124m'\u001b[39m\u001b[38;5;124mStudy Status\u001b[39m\u001b[38;5;124m'\u001b[39m]\u001b[38;5;241m=\u001b[39m\u001b[43mdf_lda\u001b[49m\u001b[43m[\u001b[49m\u001b[38;5;124;43m'\u001b[39;49m\u001b[38;5;124;43mStudy Status\u001b[39;49m\u001b[38;5;124;43m'\u001b[39;49m\u001b[43m]\u001b[49m\u001b[38;5;241m.\u001b[39mmap(category_order)\n",
      "File \u001b[1;32m~\\AppData\\Local\\Programs\\Python\\Python312\\Lib\\site-packages\\pandas\\core\\frame.py:3893\u001b[0m, in \u001b[0;36mDataFrame.__getitem__\u001b[1;34m(self, key)\u001b[0m\n\u001b[0;32m   3891\u001b[0m \u001b[38;5;28;01mif\u001b[39;00m \u001b[38;5;28mself\u001b[39m\u001b[38;5;241m.\u001b[39mcolumns\u001b[38;5;241m.\u001b[39mnlevels \u001b[38;5;241m>\u001b[39m \u001b[38;5;241m1\u001b[39m:\n\u001b[0;32m   3892\u001b[0m     \u001b[38;5;28;01mreturn\u001b[39;00m \u001b[38;5;28mself\u001b[39m\u001b[38;5;241m.\u001b[39m_getitem_multilevel(key)\n\u001b[1;32m-> 3893\u001b[0m indexer \u001b[38;5;241m=\u001b[39m \u001b[38;5;28;43mself\u001b[39;49m\u001b[38;5;241;43m.\u001b[39;49m\u001b[43mcolumns\u001b[49m\u001b[38;5;241;43m.\u001b[39;49m\u001b[43mget_loc\u001b[49m\u001b[43m(\u001b[49m\u001b[43mkey\u001b[49m\u001b[43m)\u001b[49m\n\u001b[0;32m   3894\u001b[0m \u001b[38;5;28;01mif\u001b[39;00m is_integer(indexer):\n\u001b[0;32m   3895\u001b[0m     indexer \u001b[38;5;241m=\u001b[39m [indexer]\n",
      "File \u001b[1;32m~\\AppData\\Local\\Programs\\Python\\Python312\\Lib\\site-packages\\pandas\\core\\indexes\\base.py:3798\u001b[0m, in \u001b[0;36mIndex.get_loc\u001b[1;34m(self, key)\u001b[0m\n\u001b[0;32m   3793\u001b[0m     \u001b[38;5;28;01mif\u001b[39;00m \u001b[38;5;28misinstance\u001b[39m(casted_key, \u001b[38;5;28mslice\u001b[39m) \u001b[38;5;129;01mor\u001b[39;00m (\n\u001b[0;32m   3794\u001b[0m         \u001b[38;5;28misinstance\u001b[39m(casted_key, abc\u001b[38;5;241m.\u001b[39mIterable)\n\u001b[0;32m   3795\u001b[0m         \u001b[38;5;129;01mand\u001b[39;00m \u001b[38;5;28many\u001b[39m(\u001b[38;5;28misinstance\u001b[39m(x, \u001b[38;5;28mslice\u001b[39m) \u001b[38;5;28;01mfor\u001b[39;00m x \u001b[38;5;129;01min\u001b[39;00m casted_key)\n\u001b[0;32m   3796\u001b[0m     ):\n\u001b[0;32m   3797\u001b[0m         \u001b[38;5;28;01mraise\u001b[39;00m InvalidIndexError(key)\n\u001b[1;32m-> 3798\u001b[0m     \u001b[38;5;28;01mraise\u001b[39;00m \u001b[38;5;167;01mKeyError\u001b[39;00m(key) \u001b[38;5;28;01mfrom\u001b[39;00m \u001b[38;5;21;01merr\u001b[39;00m\n\u001b[0;32m   3799\u001b[0m \u001b[38;5;28;01mexcept\u001b[39;00m \u001b[38;5;167;01mTypeError\u001b[39;00m:\n\u001b[0;32m   3800\u001b[0m     \u001b[38;5;66;03m# If we have a listlike key, _check_indexing_error will raise\u001b[39;00m\n\u001b[0;32m   3801\u001b[0m     \u001b[38;5;66;03m#  InvalidIndexError. Otherwise we fall through and re-raise\u001b[39;00m\n\u001b[0;32m   3802\u001b[0m     \u001b[38;5;66;03m#  the TypeError.\u001b[39;00m\n\u001b[0;32m   3803\u001b[0m     \u001b[38;5;28mself\u001b[39m\u001b[38;5;241m.\u001b[39m_check_indexing_error(key)\n",
      "\u001b[1;31mKeyError\u001b[0m: 'Study Status'"
     ]
    }
   ],
   "source": [
    "df_lda['Study Status']=df_lda['Study Status'].map(category_order)"
   ]
  },
  {
   "cell_type": "code",
   "execution_count": 218,
   "id": "26def236-1cfd-4028-8ce4-4da532138226",
   "metadata": {},
   "outputs": [],
   "source": [
    "category_order = {'INTERVENTIONAL' :1, 'OBSERVATIONAL':2}"
   ]
  },
  {
   "cell_type": "code",
   "execution_count": 219,
   "id": "fd212f3d-3609-4eae-adf5-1d8e9dc3faa6",
   "metadata": {},
   "outputs": [],
   "source": [
    "df_lda['Study Type'] = df_lda['Study Type'].map(category_order)"
   ]
  },
  {
   "cell_type": "code",
   "execution_count": 220,
   "id": "84196b19-c773-46fe-a475-b710c98533f0",
   "metadata": {},
   "outputs": [],
   "source": [
    "category_order = {'ALL' :1, 'FEMALE':2, 'MALE' :3}"
   ]
  },
  {
   "cell_type": "code",
   "execution_count": 221,
   "id": "145872a6-01d6-4362-872b-ba7910e724f4",
   "metadata": {},
   "outputs": [],
   "source": [
    "df_lda['Sex'] = df_lda['Sex'].map(category_order)"
   ]
  },
  {
   "cell_type": "code",
   "execution_count": 222,
   "id": "11257e63-5e04-4792-953f-fd01a44f3760",
   "metadata": {},
   "outputs": [],
   "source": [
    "df_lda['adult'] = le.fit_transform(df_lda['adult'])"
   ]
  },
  {
   "cell_type": "code",
   "execution_count": 230,
   "id": "09867884-ac45-4211-873d-b37c1d4a003e",
   "metadata": {},
   "outputs": [],
   "source": [
    "df_lda['Study Design'] = le.fit_transform(df_lda['Study Design'])"
   ]
  },
  {
   "cell_type": "code",
   "execution_count": 223,
   "id": "edae7992-1707-475d-a332-a6c909bb326d",
   "metadata": {},
   "outputs": [],
   "source": [
    "df_lda['older_adult'] = le.fit_transform(df_lda['older_adult'])"
   ]
  },
  {
   "cell_type": "code",
   "execution_count": 224,
   "id": "115ea376-8a44-45e3-b00e-bd76a7b3a7d1",
   "metadata": {},
   "outputs": [],
   "source": [
    "df_lda['child'] = le.fit_transform(df_lda['child'])"
   ]
  },
  {
   "cell_type": "code",
   "execution_count": 225,
   "id": "b0223426-9629-41d2-8f1d-dde33e5272b1",
   "metadata": {},
   "outputs": [],
   "source": [
    "df_lda['healthy_volunteers'] = le.fit_transform(df_lda['healthy_volunteers'])"
   ]
  },
  {
   "cell_type": "code",
   "execution_count": 226,
   "id": "aaa68ad2-48ca-4cc4-a7db-342c86ff1133",
   "metadata": {},
   "outputs": [],
   "source": [
    "df_c=df_lda.copy()"
   ]
  },
  {
   "cell_type": "code",
   "execution_count": 227,
   "id": "e5e305fc-2776-4133-b38e-b910792ccbb8",
   "metadata": {},
   "outputs": [],
   "source": [
    "df_lda=df_c.copy()"
   ]
  },
  {
   "cell_type": "code",
   "execution_count": 228,
   "id": "cc7ae92a-e3c4-46e0-b8e0-c42f3bc7956d",
   "metadata": {},
   "outputs": [],
   "source": [
    "df_lda['Enrollment'] = pd.to_numeric(df_lda['Enrollment'], errors='coerce')"
   ]
  },
  {
   "cell_type": "code",
   "execution_count": 242,
   "id": "e143c1f0-1e63-4c0b-bb2a-273f9f7eb348",
   "metadata": {},
   "outputs": [
    {
     "name": "stdout",
     "output_type": "stream",
     "text": [
      "<class 'pandas.core.frame.DataFrame'>\n",
      "RangeIndex: 64851 entries, 0 to 64850\n",
      "Data columns (total 27 columns):\n",
      " #   Column               Non-Null Count  Dtype  \n",
      "---  ------               --------------  -----  \n",
      " 0   Sex                  64851 non-null  float64\n",
      " 1   Study Type           64851 non-null  float64\n",
      " 2   Study Design         64851 non-null  int32  \n",
      " 3   healthy_volunteers   64851 non-null  int32  \n",
      " 4   adult                64851 non-null  int32  \n",
      " 5   child                64851 non-null  int32  \n",
      " 6   older_adult          64851 non-null  int32  \n",
      " 7   Duration_Days        64851 non-null  float64\n",
      " 8   condition_1          64851 non-null  float64\n",
      " 9   condition_2          64851 non-null  float64\n",
      " 10  condition_3          64851 non-null  float64\n",
      " 11  condition_4          64851 non-null  float64\n",
      " 12  condition_5          64851 non-null  float64\n",
      " 13  condition_6          64851 non-null  float64\n",
      " 14  DEVICE               64851 non-null  float64\n",
      " 15  PROCEDURE            64851 non-null  float64\n",
      " 16  RADIATION            64851 non-null  float64\n",
      " 17  DRUG                 64851 non-null  float64\n",
      " 18  BIOLOGICAL           64851 non-null  float64\n",
      " 19  OTHER                64851 non-null  float64\n",
      " 20  Allocation           64851 non-null  float64\n",
      " 21  Intervention Model   64851 non-null  float64\n",
      " 22  Masking              64851 non-null  float64\n",
      " 23  Primary Purpose      64851 non-null  float64\n",
      " 24  Observational Model  64851 non-null  float64\n",
      " 25  Study Title_vectors  64851 non-null  float64\n",
      " 26  participants         64851 non-null  int32  \n",
      "dtypes: float64(21), int32(6)\n",
      "memory usage: 11.9 MB\n"
     ]
    }
   ],
   "source": [
    "df_lda.info()"
   ]
  },
  {
   "cell_type": "code",
   "execution_count": 232,
   "id": "a8a2f075-b910-41a1-8351-373d6098b019",
   "metadata": {},
   "outputs": [],
   "source": [
    "df_lda['participants'] = df_lda['Enrollment'] - df_lda['count']"
   ]
  },
  {
   "cell_type": "code",
   "execution_count": 233,
   "id": "220d8ed2-9c8b-4aa6-a60b-f3ab0d732f93",
   "metadata": {},
   "outputs": [],
   "source": [
    "df_lda['participants'] = (df_lda['participants'] >= 10).astype(int)"
   ]
  },
  {
   "cell_type": "code",
   "execution_count": 234,
   "id": "d28d8378-ea5b-417b-bbf7-fb6dc9462347",
   "metadata": {},
   "outputs": [],
   "source": [
    "df_lda.drop(['NCT Number','Study Results'],axis=1,inplace=True)"
   ]
  },
  {
   "cell_type": "code",
   "execution_count": 235,
   "id": "6ffd018d-8f7e-4eeb-a006-7a543062d157",
   "metadata": {},
   "outputs": [],
   "source": [
    "df_lda.drop(['Study Title','Enrollment','count'],axis=1,inplace=True)"
   ]
  },
  {
   "cell_type": "code",
   "execution_count": 238,
   "id": "883d4b6d-6032-439e-b912-3bc56dce2836",
   "metadata": {},
   "outputs": [],
   "source": [
    "column_mode = df_lda['Sex'].mode()[0]\n",
    "df_lda['Sex'].fillna(column_mode, inplace=True)"
   ]
  },
  {
   "cell_type": "code",
   "execution_count": 240,
   "id": "9b2ab2b7-118e-4542-9231-a22368cab3a9",
   "metadata": {},
   "outputs": [],
   "source": [
    "column_mode = df_lda['Study Type'].mode()[0]\n",
    "df_lda['Study Type'].fillna(column_mode, inplace=True)"
   ]
  },
  {
   "cell_type": "code",
   "execution_count": 243,
   "id": "5f641684-57c3-493b-8b50-b4afa4cb80dc",
   "metadata": {},
   "outputs": [],
   "source": [
    "df_lda.to_csv('test_work.csv',index=False)"
   ]
  },
  {
   "cell_type": "markdown",
   "id": "4e1d6d6f-04ef-46c2-872a-7f50cbdb9ad7",
   "metadata": {},
   "source": [
    "## Splitting the dataset for model building(training & testing) and validation set as unseen data"
   ]
  },
  {
   "cell_type": "code",
   "execution_count": 169,
   "id": "8ab32b25-5fb4-43a3-b4e9-174c73e81d7c",
   "metadata": {},
   "outputs": [
    {
     "ename": "KeyError",
     "evalue": "'Study Status'",
     "output_type": "error",
     "traceback": [
      "\u001b[1;31m---------------------------------------------------------------------------\u001b[0m",
      "\u001b[1;31mKeyError\u001b[0m                                  Traceback (most recent call last)",
      "File \u001b[1;32m~\\AppData\\Local\\Programs\\Python\\Python312\\Lib\\site-packages\\pandas\\core\\indexes\\base.py:3791\u001b[0m, in \u001b[0;36mIndex.get_loc\u001b[1;34m(self, key)\u001b[0m\n\u001b[0;32m   3790\u001b[0m \u001b[38;5;28;01mtry\u001b[39;00m:\n\u001b[1;32m-> 3791\u001b[0m     \u001b[38;5;28;01mreturn\u001b[39;00m \u001b[38;5;28;43mself\u001b[39;49m\u001b[38;5;241;43m.\u001b[39;49m\u001b[43m_engine\u001b[49m\u001b[38;5;241;43m.\u001b[39;49m\u001b[43mget_loc\u001b[49m\u001b[43m(\u001b[49m\u001b[43mcasted_key\u001b[49m\u001b[43m)\u001b[49m\n\u001b[0;32m   3792\u001b[0m \u001b[38;5;28;01mexcept\u001b[39;00m \u001b[38;5;167;01mKeyError\u001b[39;00m \u001b[38;5;28;01mas\u001b[39;00m err:\n",
      "File \u001b[1;32mindex.pyx:152\u001b[0m, in \u001b[0;36mpandas._libs.index.IndexEngine.get_loc\u001b[1;34m()\u001b[0m\n",
      "File \u001b[1;32mindex.pyx:181\u001b[0m, in \u001b[0;36mpandas._libs.index.IndexEngine.get_loc\u001b[1;34m()\u001b[0m\n",
      "File \u001b[1;32mpandas\\_libs\\hashtable_class_helper.pxi:7080\u001b[0m, in \u001b[0;36mpandas._libs.hashtable.PyObjectHashTable.get_item\u001b[1;34m()\u001b[0m\n",
      "File \u001b[1;32mpandas\\_libs\\hashtable_class_helper.pxi:7088\u001b[0m, in \u001b[0;36mpandas._libs.hashtable.PyObjectHashTable.get_item\u001b[1;34m()\u001b[0m\n",
      "\u001b[1;31mKeyError\u001b[0m: 'Study Status'",
      "\nThe above exception was the direct cause of the following exception:\n",
      "\u001b[1;31mKeyError\u001b[0m                                  Traceback (most recent call last)",
      "Cell \u001b[1;32mIn[169], line 1\u001b[0m\n\u001b[1;32m----> 1\u001b[0m completed_df \u001b[38;5;241m=\u001b[39m df_lda[\u001b[43mdf_lda\u001b[49m\u001b[43m[\u001b[49m\u001b[38;5;124;43m'\u001b[39;49m\u001b[38;5;124;43mStudy Status\u001b[39;49m\u001b[38;5;124;43m'\u001b[39;49m\u001b[43m]\u001b[49m \u001b[38;5;241m==\u001b[39m \u001b[38;5;241m1\u001b[39m]\n",
      "File \u001b[1;32m~\\AppData\\Local\\Programs\\Python\\Python312\\Lib\\site-packages\\pandas\\core\\frame.py:3893\u001b[0m, in \u001b[0;36mDataFrame.__getitem__\u001b[1;34m(self, key)\u001b[0m\n\u001b[0;32m   3891\u001b[0m \u001b[38;5;28;01mif\u001b[39;00m \u001b[38;5;28mself\u001b[39m\u001b[38;5;241m.\u001b[39mcolumns\u001b[38;5;241m.\u001b[39mnlevels \u001b[38;5;241m>\u001b[39m \u001b[38;5;241m1\u001b[39m:\n\u001b[0;32m   3892\u001b[0m     \u001b[38;5;28;01mreturn\u001b[39;00m \u001b[38;5;28mself\u001b[39m\u001b[38;5;241m.\u001b[39m_getitem_multilevel(key)\n\u001b[1;32m-> 3893\u001b[0m indexer \u001b[38;5;241m=\u001b[39m \u001b[38;5;28;43mself\u001b[39;49m\u001b[38;5;241;43m.\u001b[39;49m\u001b[43mcolumns\u001b[49m\u001b[38;5;241;43m.\u001b[39;49m\u001b[43mget_loc\u001b[49m\u001b[43m(\u001b[49m\u001b[43mkey\u001b[49m\u001b[43m)\u001b[49m\n\u001b[0;32m   3894\u001b[0m \u001b[38;5;28;01mif\u001b[39;00m is_integer(indexer):\n\u001b[0;32m   3895\u001b[0m     indexer \u001b[38;5;241m=\u001b[39m [indexer]\n",
      "File \u001b[1;32m~\\AppData\\Local\\Programs\\Python\\Python312\\Lib\\site-packages\\pandas\\core\\indexes\\base.py:3798\u001b[0m, in \u001b[0;36mIndex.get_loc\u001b[1;34m(self, key)\u001b[0m\n\u001b[0;32m   3793\u001b[0m     \u001b[38;5;28;01mif\u001b[39;00m \u001b[38;5;28misinstance\u001b[39m(casted_key, \u001b[38;5;28mslice\u001b[39m) \u001b[38;5;129;01mor\u001b[39;00m (\n\u001b[0;32m   3794\u001b[0m         \u001b[38;5;28misinstance\u001b[39m(casted_key, abc\u001b[38;5;241m.\u001b[39mIterable)\n\u001b[0;32m   3795\u001b[0m         \u001b[38;5;129;01mand\u001b[39;00m \u001b[38;5;28many\u001b[39m(\u001b[38;5;28misinstance\u001b[39m(x, \u001b[38;5;28mslice\u001b[39m) \u001b[38;5;28;01mfor\u001b[39;00m x \u001b[38;5;129;01min\u001b[39;00m casted_key)\n\u001b[0;32m   3796\u001b[0m     ):\n\u001b[0;32m   3797\u001b[0m         \u001b[38;5;28;01mraise\u001b[39;00m InvalidIndexError(key)\n\u001b[1;32m-> 3798\u001b[0m     \u001b[38;5;28;01mraise\u001b[39;00m \u001b[38;5;167;01mKeyError\u001b[39;00m(key) \u001b[38;5;28;01mfrom\u001b[39;00m \u001b[38;5;21;01merr\u001b[39;00m\n\u001b[0;32m   3799\u001b[0m \u001b[38;5;28;01mexcept\u001b[39;00m \u001b[38;5;167;01mTypeError\u001b[39;00m:\n\u001b[0;32m   3800\u001b[0m     \u001b[38;5;66;03m# If we have a listlike key, _check_indexing_error will raise\u001b[39;00m\n\u001b[0;32m   3801\u001b[0m     \u001b[38;5;66;03m#  InvalidIndexError. Otherwise we fall through and re-raise\u001b[39;00m\n\u001b[0;32m   3802\u001b[0m     \u001b[38;5;66;03m#  the TypeError.\u001b[39;00m\n\u001b[0;32m   3803\u001b[0m     \u001b[38;5;28mself\u001b[39m\u001b[38;5;241m.\u001b[39m_check_indexing_error(key)\n",
      "\u001b[1;31mKeyError\u001b[0m: 'Study Status'"
     ]
    }
   ],
   "source": [
    "completed_df = df_lda[df_lda['Study Status'] == 1]"
   ]
  },
  {
   "cell_type": "code",
   "execution_count": 435,
   "id": "8cb54786-e4a6-4add-8399-7ee394298c04",
   "metadata": {},
   "outputs": [],
   "source": [
    "not_completed_df = df_lda[df_lda['Study Status'] == 0]"
   ]
  },
  {
   "cell_type": "code",
   "execution_count": 436,
   "id": "226a03e8-73eb-4e72-9ebe-9a80d572a600",
   "metadata": {},
   "outputs": [],
   "source": [
    "notc=not_completed_df.iloc[0:25000,0:27]"
   ]
  },
  {
   "cell_type": "code",
   "execution_count": 437,
   "id": "bcaeee81-8efd-4d59-aa36-6f5200dc123b",
   "metadata": {},
   "outputs": [],
   "source": [
    "c=completed_df.iloc[0:175000,0:27]"
   ]
  },
  {
   "cell_type": "code",
   "execution_count": 438,
   "id": "0c41aef0-6759-4042-87e4-431a8d92e617",
   "metadata": {},
   "outputs": [],
   "source": [
    "df_trial = pd.concat([notc, c], ignore_index=True)"
   ]
  },
  {
   "cell_type": "code",
   "execution_count": 439,
   "id": "44027cac-61b1-44f5-bffd-1896e0372971",
   "metadata": {},
   "outputs": [],
   "source": [
    "df_trial = df_trial.sample(frac=1, random_state=42)"
   ]
  },
  {
   "cell_type": "code",
   "execution_count": 440,
   "id": "ddd88b57-7ccb-4b2d-a571-5e6aecd35ef0",
   "metadata": {},
   "outputs": [],
   "source": [
    "notc=not_completed_df.iloc[25000:36335,0:27]"
   ]
  },
  {
   "cell_type": "code",
   "execution_count": 441,
   "id": "1e11450d-37a4-4e84-9a60-e74da3238869",
   "metadata": {},
   "outputs": [],
   "source": [
    "c=completed_df.iloc[200000:221244,0:27]"
   ]
  },
  {
   "cell_type": "code",
   "execution_count": 442,
   "id": "4fce3dcf-beb5-4406-a161-035e22a210f6",
   "metadata": {},
   "outputs": [],
   "source": [
    "df_test = pd.concat([notc, c], ignore_index=True)"
   ]
  },
  {
   "cell_type": "code",
   "execution_count": 443,
   "id": "8e17314b-6acd-4d6a-b398-8a38bb19cc8d",
   "metadata": {},
   "outputs": [],
   "source": [
    "df_test = df_test.sample(frac=1, random_state=42)"
   ]
  },
  {
   "cell_type": "code",
   "execution_count": null,
   "id": "ec333bda-9206-40b8-a3fa-56fdea77b86f",
   "metadata": {},
   "outputs": [],
   "source": []
  },
  {
   "cell_type": "markdown",
   "id": "905ec1b6-15af-47bb-8381-e1228c6243c0",
   "metadata": {},
   "source": [
    "## Machine Learning Model Development on 200k Imbalanced Dataset (SMOTE)"
   ]
  },
  {
   "cell_type": "code",
   "execution_count": 170,
   "id": "9f23b897-ba85-4b74-8d5d-89f4e866913a",
   "metadata": {},
   "outputs": [],
   "source": [
    "from imblearn.over_sampling import SMOTE\n",
    "from collections import Counter"
   ]
  },
  {
   "cell_type": "code",
   "execution_count": 445,
   "id": "9cf9d76b-069b-4712-8b39-2e76fc3dd4af",
   "metadata": {},
   "outputs": [],
   "source": [
    "X= df_trial.drop('Study Status',axis = 1)\n",
    "y = df_trial['Study Status']"
   ]
  },
  {
   "cell_type": "code",
   "execution_count": 446,
   "id": "e8f67a92-db3f-438b-85fd-f681cb7749e8",
   "metadata": {},
   "outputs": [
    {
     "name": "stdout",
     "output_type": "stream",
     "text": [
      "Original dataset shape Counter({1: 175000, 0: 25000})\n",
      "Resampled dataset shape Counter({1: 175000, 0: 175000})\n"
     ]
    }
   ],
   "source": [
    "print(\"Original dataset shape %s\" % Counter(y))\n",
    "\n",
    "smote = SMOTE(sampling_strategy='minority') \n",
    "X_smote, y_smote = smote.fit_resample(X, y)\n",
    "\n",
    "print(\"Resampled dataset shape %s\" % Counter(y_smote))"
   ]
  },
  {
   "cell_type": "code",
   "execution_count": 447,
   "id": "6020f74a-35e4-4ede-acfe-c61ca2ca5841",
   "metadata": {},
   "outputs": [],
   "source": [
    "from sklearn.model_selection import train_test_split\n",
    "X_train,X_test,y_train,y_test=train_test_split(X_smote,y_smote,test_size=0.3,random_state=1)"
   ]
  },
  {
   "cell_type": "code",
   "execution_count": 450,
   "id": "1bb5ed54-ce2c-44be-a4db-c89d6d0f9cbf",
   "metadata": {},
   "outputs": [],
   "source": [
    "from sklearn import metrics"
   ]
  },
  {
   "cell_type": "markdown",
   "id": "97a3373a-ed8e-4eeb-99e1-dd9c8b4e37d6",
   "metadata": {},
   "source": [
    "<span style=\"color: blue; \">Gradient Boosting Classifiers (GBC), is chosen due to its ability to handle complex relationships within data. GBC excels in accuracy, flexibility, and robustness. Its inherent mechanisms like early stopping and regularization prevent overfitting, ensuring reliable predictions on unseen data. Moreover, GBC's adaptability to different loss functions allows for customization to specific classification needs.\"</span>"
   ]
  },
  {
   "cell_type": "code",
   "execution_count": 448,
   "id": "ff1cc813-c097-47ab-bb26-62b9f6ae4adc",
   "metadata": {},
   "outputs": [
    {
     "data": {
      "text/html": [
       "<style>#sk-container-id-1 {\n",
       "  /* Definition of color scheme common for light and dark mode */\n",
       "  --sklearn-color-text: black;\n",
       "  --sklearn-color-line: gray;\n",
       "  /* Definition of color scheme for unfitted estimators */\n",
       "  --sklearn-color-unfitted-level-0: #fff5e6;\n",
       "  --sklearn-color-unfitted-level-1: #f6e4d2;\n",
       "  --sklearn-color-unfitted-level-2: #ffe0b3;\n",
       "  --sklearn-color-unfitted-level-3: chocolate;\n",
       "  /* Definition of color scheme for fitted estimators */\n",
       "  --sklearn-color-fitted-level-0: #f0f8ff;\n",
       "  --sklearn-color-fitted-level-1: #d4ebff;\n",
       "  --sklearn-color-fitted-level-2: #b3dbfd;\n",
       "  --sklearn-color-fitted-level-3: cornflowerblue;\n",
       "\n",
       "  /* Specific color for light theme */\n",
       "  --sklearn-color-text-on-default-background: var(--sg-text-color, var(--theme-code-foreground, var(--jp-content-font-color1, black)));\n",
       "  --sklearn-color-background: var(--sg-background-color, var(--theme-background, var(--jp-layout-color0, white)));\n",
       "  --sklearn-color-border-box: var(--sg-text-color, var(--theme-code-foreground, var(--jp-content-font-color1, black)));\n",
       "  --sklearn-color-icon: #696969;\n",
       "\n",
       "  @media (prefers-color-scheme: dark) {\n",
       "    /* Redefinition of color scheme for dark theme */\n",
       "    --sklearn-color-text-on-default-background: var(--sg-text-color, var(--theme-code-foreground, var(--jp-content-font-color1, white)));\n",
       "    --sklearn-color-background: var(--sg-background-color, var(--theme-background, var(--jp-layout-color0, #111)));\n",
       "    --sklearn-color-border-box: var(--sg-text-color, var(--theme-code-foreground, var(--jp-content-font-color1, white)));\n",
       "    --sklearn-color-icon: #878787;\n",
       "  }\n",
       "}\n",
       "\n",
       "#sk-container-id-1 {\n",
       "  color: var(--sklearn-color-text);\n",
       "}\n",
       "\n",
       "#sk-container-id-1 pre {\n",
       "  padding: 0;\n",
       "}\n",
       "\n",
       "#sk-container-id-1 input.sk-hidden--visually {\n",
       "  border: 0;\n",
       "  clip: rect(1px 1px 1px 1px);\n",
       "  clip: rect(1px, 1px, 1px, 1px);\n",
       "  height: 1px;\n",
       "  margin: -1px;\n",
       "  overflow: hidden;\n",
       "  padding: 0;\n",
       "  position: absolute;\n",
       "  width: 1px;\n",
       "}\n",
       "\n",
       "#sk-container-id-1 div.sk-dashed-wrapped {\n",
       "  border: 1px dashed var(--sklearn-color-line);\n",
       "  margin: 0 0.4em 0.5em 0.4em;\n",
       "  box-sizing: border-box;\n",
       "  padding-bottom: 0.4em;\n",
       "  background-color: var(--sklearn-color-background);\n",
       "}\n",
       "\n",
       "#sk-container-id-1 div.sk-container {\n",
       "  /* jupyter's `normalize.less` sets `[hidden] { display: none; }`\n",
       "     but bootstrap.min.css set `[hidden] { display: none !important; }`\n",
       "     so we also need the `!important` here to be able to override the\n",
       "     default hidden behavior on the sphinx rendered scikit-learn.org.\n",
       "     See: https://github.com/scikit-learn/scikit-learn/issues/21755 */\n",
       "  display: inline-block !important;\n",
       "  position: relative;\n",
       "}\n",
       "\n",
       "#sk-container-id-1 div.sk-text-repr-fallback {\n",
       "  display: none;\n",
       "}\n",
       "\n",
       "div.sk-parallel-item,\n",
       "div.sk-serial,\n",
       "div.sk-item {\n",
       "  /* draw centered vertical line to link estimators */\n",
       "  background-image: linear-gradient(var(--sklearn-color-text-on-default-background), var(--sklearn-color-text-on-default-background));\n",
       "  background-size: 2px 100%;\n",
       "  background-repeat: no-repeat;\n",
       "  background-position: center center;\n",
       "}\n",
       "\n",
       "/* Parallel-specific style estimator block */\n",
       "\n",
       "#sk-container-id-1 div.sk-parallel-item::after {\n",
       "  content: \"\";\n",
       "  width: 100%;\n",
       "  border-bottom: 2px solid var(--sklearn-color-text-on-default-background);\n",
       "  flex-grow: 1;\n",
       "}\n",
       "\n",
       "#sk-container-id-1 div.sk-parallel {\n",
       "  display: flex;\n",
       "  align-items: stretch;\n",
       "  justify-content: center;\n",
       "  background-color: var(--sklearn-color-background);\n",
       "  position: relative;\n",
       "}\n",
       "\n",
       "#sk-container-id-1 div.sk-parallel-item {\n",
       "  display: flex;\n",
       "  flex-direction: column;\n",
       "}\n",
       "\n",
       "#sk-container-id-1 div.sk-parallel-item:first-child::after {\n",
       "  align-self: flex-end;\n",
       "  width: 50%;\n",
       "}\n",
       "\n",
       "#sk-container-id-1 div.sk-parallel-item:last-child::after {\n",
       "  align-self: flex-start;\n",
       "  width: 50%;\n",
       "}\n",
       "\n",
       "#sk-container-id-1 div.sk-parallel-item:only-child::after {\n",
       "  width: 0;\n",
       "}\n",
       "\n",
       "/* Serial-specific style estimator block */\n",
       "\n",
       "#sk-container-id-1 div.sk-serial {\n",
       "  display: flex;\n",
       "  flex-direction: column;\n",
       "  align-items: center;\n",
       "  background-color: var(--sklearn-color-background);\n",
       "  padding-right: 1em;\n",
       "  padding-left: 1em;\n",
       "}\n",
       "\n",
       "\n",
       "/* Toggleable style: style used for estimator/Pipeline/ColumnTransformer box that is\n",
       "clickable and can be expanded/collapsed.\n",
       "- Pipeline and ColumnTransformer use this feature and define the default style\n",
       "- Estimators will overwrite some part of the style using the `sk-estimator` class\n",
       "*/\n",
       "\n",
       "/* Pipeline and ColumnTransformer style (default) */\n",
       "\n",
       "#sk-container-id-1 div.sk-toggleable {\n",
       "  /* Default theme specific background. It is overwritten whether we have a\n",
       "  specific estimator or a Pipeline/ColumnTransformer */\n",
       "  background-color: var(--sklearn-color-background);\n",
       "}\n",
       "\n",
       "/* Toggleable label */\n",
       "#sk-container-id-1 label.sk-toggleable__label {\n",
       "  cursor: pointer;\n",
       "  display: block;\n",
       "  width: 100%;\n",
       "  margin-bottom: 0;\n",
       "  padding: 0.5em;\n",
       "  box-sizing: border-box;\n",
       "  text-align: center;\n",
       "}\n",
       "\n",
       "#sk-container-id-1 label.sk-toggleable__label-arrow:before {\n",
       "  /* Arrow on the left of the label */\n",
       "  content: \"▸\";\n",
       "  float: left;\n",
       "  margin-right: 0.25em;\n",
       "  color: var(--sklearn-color-icon);\n",
       "}\n",
       "\n",
       "#sk-container-id-1 label.sk-toggleable__label-arrow:hover:before {\n",
       "  color: var(--sklearn-color-text);\n",
       "}\n",
       "\n",
       "/* Toggleable content - dropdown */\n",
       "\n",
       "#sk-container-id-1 div.sk-toggleable__content {\n",
       "  max-height: 0;\n",
       "  max-width: 0;\n",
       "  overflow: hidden;\n",
       "  text-align: left;\n",
       "  /* unfitted */\n",
       "  background-color: var(--sklearn-color-unfitted-level-0);\n",
       "}\n",
       "\n",
       "#sk-container-id-1 div.sk-toggleable__content.fitted {\n",
       "  /* fitted */\n",
       "  background-color: var(--sklearn-color-fitted-level-0);\n",
       "}\n",
       "\n",
       "#sk-container-id-1 div.sk-toggleable__content pre {\n",
       "  margin: 0.2em;\n",
       "  border-radius: 0.25em;\n",
       "  color: var(--sklearn-color-text);\n",
       "  /* unfitted */\n",
       "  background-color: var(--sklearn-color-unfitted-level-0);\n",
       "}\n",
       "\n",
       "#sk-container-id-1 div.sk-toggleable__content.fitted pre {\n",
       "  /* unfitted */\n",
       "  background-color: var(--sklearn-color-fitted-level-0);\n",
       "}\n",
       "\n",
       "#sk-container-id-1 input.sk-toggleable__control:checked~div.sk-toggleable__content {\n",
       "  /* Expand drop-down */\n",
       "  max-height: 200px;\n",
       "  max-width: 100%;\n",
       "  overflow: auto;\n",
       "}\n",
       "\n",
       "#sk-container-id-1 input.sk-toggleable__control:checked~label.sk-toggleable__label-arrow:before {\n",
       "  content: \"▾\";\n",
       "}\n",
       "\n",
       "/* Pipeline/ColumnTransformer-specific style */\n",
       "\n",
       "#sk-container-id-1 div.sk-label input.sk-toggleable__control:checked~label.sk-toggleable__label {\n",
       "  color: var(--sklearn-color-text);\n",
       "  background-color: var(--sklearn-color-unfitted-level-2);\n",
       "}\n",
       "\n",
       "#sk-container-id-1 div.sk-label.fitted input.sk-toggleable__control:checked~label.sk-toggleable__label {\n",
       "  background-color: var(--sklearn-color-fitted-level-2);\n",
       "}\n",
       "\n",
       "/* Estimator-specific style */\n",
       "\n",
       "/* Colorize estimator box */\n",
       "#sk-container-id-1 div.sk-estimator input.sk-toggleable__control:checked~label.sk-toggleable__label {\n",
       "  /* unfitted */\n",
       "  background-color: var(--sklearn-color-unfitted-level-2);\n",
       "}\n",
       "\n",
       "#sk-container-id-1 div.sk-estimator.fitted input.sk-toggleable__control:checked~label.sk-toggleable__label {\n",
       "  /* fitted */\n",
       "  background-color: var(--sklearn-color-fitted-level-2);\n",
       "}\n",
       "\n",
       "#sk-container-id-1 div.sk-label label.sk-toggleable__label,\n",
       "#sk-container-id-1 div.sk-label label {\n",
       "  /* The background is the default theme color */\n",
       "  color: var(--sklearn-color-text-on-default-background);\n",
       "}\n",
       "\n",
       "/* On hover, darken the color of the background */\n",
       "#sk-container-id-1 div.sk-label:hover label.sk-toggleable__label {\n",
       "  color: var(--sklearn-color-text);\n",
       "  background-color: var(--sklearn-color-unfitted-level-2);\n",
       "}\n",
       "\n",
       "/* Label box, darken color on hover, fitted */\n",
       "#sk-container-id-1 div.sk-label.fitted:hover label.sk-toggleable__label.fitted {\n",
       "  color: var(--sklearn-color-text);\n",
       "  background-color: var(--sklearn-color-fitted-level-2);\n",
       "}\n",
       "\n",
       "/* Estimator label */\n",
       "\n",
       "#sk-container-id-1 div.sk-label label {\n",
       "  font-family: monospace;\n",
       "  font-weight: bold;\n",
       "  display: inline-block;\n",
       "  line-height: 1.2em;\n",
       "}\n",
       "\n",
       "#sk-container-id-1 div.sk-label-container {\n",
       "  text-align: center;\n",
       "}\n",
       "\n",
       "/* Estimator-specific */\n",
       "#sk-container-id-1 div.sk-estimator {\n",
       "  font-family: monospace;\n",
       "  border: 1px dotted var(--sklearn-color-border-box);\n",
       "  border-radius: 0.25em;\n",
       "  box-sizing: border-box;\n",
       "  margin-bottom: 0.5em;\n",
       "  /* unfitted */\n",
       "  background-color: var(--sklearn-color-unfitted-level-0);\n",
       "}\n",
       "\n",
       "#sk-container-id-1 div.sk-estimator.fitted {\n",
       "  /* fitted */\n",
       "  background-color: var(--sklearn-color-fitted-level-0);\n",
       "}\n",
       "\n",
       "/* on hover */\n",
       "#sk-container-id-1 div.sk-estimator:hover {\n",
       "  /* unfitted */\n",
       "  background-color: var(--sklearn-color-unfitted-level-2);\n",
       "}\n",
       "\n",
       "#sk-container-id-1 div.sk-estimator.fitted:hover {\n",
       "  /* fitted */\n",
       "  background-color: var(--sklearn-color-fitted-level-2);\n",
       "}\n",
       "\n",
       "/* Specification for estimator info (e.g. \"i\" and \"?\") */\n",
       "\n",
       "/* Common style for \"i\" and \"?\" */\n",
       "\n",
       ".sk-estimator-doc-link,\n",
       "a:link.sk-estimator-doc-link,\n",
       "a:visited.sk-estimator-doc-link {\n",
       "  float: right;\n",
       "  font-size: smaller;\n",
       "  line-height: 1em;\n",
       "  font-family: monospace;\n",
       "  background-color: var(--sklearn-color-background);\n",
       "  border-radius: 1em;\n",
       "  height: 1em;\n",
       "  width: 1em;\n",
       "  text-decoration: none !important;\n",
       "  margin-left: 1ex;\n",
       "  /* unfitted */\n",
       "  border: var(--sklearn-color-unfitted-level-1) 1pt solid;\n",
       "  color: var(--sklearn-color-unfitted-level-1);\n",
       "}\n",
       "\n",
       ".sk-estimator-doc-link.fitted,\n",
       "a:link.sk-estimator-doc-link.fitted,\n",
       "a:visited.sk-estimator-doc-link.fitted {\n",
       "  /* fitted */\n",
       "  border: var(--sklearn-color-fitted-level-1) 1pt solid;\n",
       "  color: var(--sklearn-color-fitted-level-1);\n",
       "}\n",
       "\n",
       "/* On hover */\n",
       "div.sk-estimator:hover .sk-estimator-doc-link:hover,\n",
       ".sk-estimator-doc-link:hover,\n",
       "div.sk-label-container:hover .sk-estimator-doc-link:hover,\n",
       ".sk-estimator-doc-link:hover {\n",
       "  /* unfitted */\n",
       "  background-color: var(--sklearn-color-unfitted-level-3);\n",
       "  color: var(--sklearn-color-background);\n",
       "  text-decoration: none;\n",
       "}\n",
       "\n",
       "div.sk-estimator.fitted:hover .sk-estimator-doc-link.fitted:hover,\n",
       ".sk-estimator-doc-link.fitted:hover,\n",
       "div.sk-label-container:hover .sk-estimator-doc-link.fitted:hover,\n",
       ".sk-estimator-doc-link.fitted:hover {\n",
       "  /* fitted */\n",
       "  background-color: var(--sklearn-color-fitted-level-3);\n",
       "  color: var(--sklearn-color-background);\n",
       "  text-decoration: none;\n",
       "}\n",
       "\n",
       "/* Span, style for the box shown on hovering the info icon */\n",
       ".sk-estimator-doc-link span {\n",
       "  display: none;\n",
       "  z-index: 9999;\n",
       "  position: relative;\n",
       "  font-weight: normal;\n",
       "  right: .2ex;\n",
       "  padding: .5ex;\n",
       "  margin: .5ex;\n",
       "  width: min-content;\n",
       "  min-width: 20ex;\n",
       "  max-width: 50ex;\n",
       "  color: var(--sklearn-color-text);\n",
       "  box-shadow: 2pt 2pt 4pt #999;\n",
       "  /* unfitted */\n",
       "  background: var(--sklearn-color-unfitted-level-0);\n",
       "  border: .5pt solid var(--sklearn-color-unfitted-level-3);\n",
       "}\n",
       "\n",
       ".sk-estimator-doc-link.fitted span {\n",
       "  /* fitted */\n",
       "  background: var(--sklearn-color-fitted-level-0);\n",
       "  border: var(--sklearn-color-fitted-level-3);\n",
       "}\n",
       "\n",
       ".sk-estimator-doc-link:hover span {\n",
       "  display: block;\n",
       "}\n",
       "\n",
       "/* \"?\"-specific style due to the `<a>` HTML tag */\n",
       "\n",
       "#sk-container-id-1 a.estimator_doc_link {\n",
       "  float: right;\n",
       "  font-size: 1rem;\n",
       "  line-height: 1em;\n",
       "  font-family: monospace;\n",
       "  background-color: var(--sklearn-color-background);\n",
       "  border-radius: 1rem;\n",
       "  height: 1rem;\n",
       "  width: 1rem;\n",
       "  text-decoration: none;\n",
       "  /* unfitted */\n",
       "  color: var(--sklearn-color-unfitted-level-1);\n",
       "  border: var(--sklearn-color-unfitted-level-1) 1pt solid;\n",
       "}\n",
       "\n",
       "#sk-container-id-1 a.estimator_doc_link.fitted {\n",
       "  /* fitted */\n",
       "  border: var(--sklearn-color-fitted-level-1) 1pt solid;\n",
       "  color: var(--sklearn-color-fitted-level-1);\n",
       "}\n",
       "\n",
       "/* On hover */\n",
       "#sk-container-id-1 a.estimator_doc_link:hover {\n",
       "  /* unfitted */\n",
       "  background-color: var(--sklearn-color-unfitted-level-3);\n",
       "  color: var(--sklearn-color-background);\n",
       "  text-decoration: none;\n",
       "}\n",
       "\n",
       "#sk-container-id-1 a.estimator_doc_link.fitted:hover {\n",
       "  /* fitted */\n",
       "  background-color: var(--sklearn-color-fitted-level-3);\n",
       "}\n",
       "</style><div id=\"sk-container-id-1\" class=\"sk-top-container\"><div class=\"sk-text-repr-fallback\"><pre>GradientBoostingClassifier(random_state=1)</pre><b>In a Jupyter environment, please rerun this cell to show the HTML representation or trust the notebook. <br />On GitHub, the HTML representation is unable to render, please try loading this page with nbviewer.org.</b></div><div class=\"sk-container\" hidden><div class=\"sk-item\"><div class=\"sk-estimator fitted sk-toggleable\"><input class=\"sk-toggleable__control sk-hidden--visually\" id=\"sk-estimator-id-1\" type=\"checkbox\" checked><label for=\"sk-estimator-id-1\" class=\"sk-toggleable__label fitted sk-toggleable__label-arrow fitted\">&nbsp;&nbsp;GradientBoostingClassifier<a class=\"sk-estimator-doc-link fitted\" rel=\"noreferrer\" target=\"_blank\" href=\"https://scikit-learn.org/1.4/modules/generated/sklearn.ensemble.GradientBoostingClassifier.html\">?<span>Documentation for GradientBoostingClassifier</span></a><span class=\"sk-estimator-doc-link fitted\">i<span>Fitted</span></span></label><div class=\"sk-toggleable__content fitted\"><pre>GradientBoostingClassifier(random_state=1)</pre></div> </div></div></div></div>"
      ],
      "text/plain": [
       "GradientBoostingClassifier(random_state=1)"
      ]
     },
     "execution_count": 448,
     "metadata": {},
     "output_type": "execute_result"
    }
   ],
   "source": [
    "from sklearn.ensemble import GradientBoostingClassifier\n",
    "GB_model=GradientBoostingClassifier(n_estimators=100,random_state=1)\n",
    "GB_model.fit(X_train,y_train)"
   ]
  },
  {
   "cell_type": "code",
   "execution_count": 451,
   "id": "1d59b998-3efd-40b3-a882-1707f9e10faa",
   "metadata": {},
   "outputs": [
    {
     "name": "stdout",
     "output_type": "stream",
     "text": [
      "0.9050938775510204\n",
      "\n",
      "[[105748  16818]\n",
      " [  6434 116000]]\n",
      "              precision    recall  f1-score   support\n",
      "\n",
      "           0       0.94      0.86      0.90    122566\n",
      "           1       0.87      0.95      0.91    122434\n",
      "\n",
      "    accuracy                           0.91    245000\n",
      "   macro avg       0.91      0.91      0.90    245000\n",
      "weighted avg       0.91      0.91      0.90    245000\n",
      "\n"
     ]
    }
   ],
   "source": [
    "y_train_predict = GB_model.predict(X_train)\n",
    "model_score = GB_model.score(X_train,y_train)\n",
    "print(model_score)\n",
    "print()\n",
    "print(metrics.confusion_matrix (y_train,y_train_predict) )\n",
    "print(metrics.classification_report(y_train,y_train_predict))"
   ]
  },
  {
   "cell_type": "code",
   "execution_count": 452,
   "id": "fcfe1d1c-3a89-438b-996b-70d6a93569ea",
   "metadata": {},
   "outputs": [
    {
     "name": "stdout",
     "output_type": "stream",
     "text": [
      "0.9039904761904762\n",
      "\n",
      "[[45171  7263]\n",
      " [ 2818 49748]]\n",
      "              precision    recall  f1-score   support\n",
      "\n",
      "           0       0.94      0.86      0.90     52434\n",
      "           1       0.87      0.95      0.91     52566\n",
      "\n",
      "    accuracy                           0.90    105000\n",
      "   macro avg       0.91      0.90      0.90    105000\n",
      "weighted avg       0.91      0.90      0.90    105000\n",
      "\n"
     ]
    }
   ],
   "source": [
    "y_test_predict =GB_model.predict(X_test)\n",
    "model_score = GB_model.score(X_test,y_test)\n",
    "print(model_score)\n",
    "print()\n",
    "print(metrics.confusion_matrix (y_test,y_test_predict) )\n",
    "print(metrics.classification_report(y_test,y_test_predict))"
   ]
  },
  {
   "cell_type": "markdown",
   "id": "149079d9-5805-4140-a193-eb147f7827d3",
   "metadata": {},
   "source": [
    "# Hyperparameter Optimization"
   ]
  },
  {
   "cell_type": "code",
   "execution_count": 455,
   "id": "a0d31534-75fb-44b6-a744-878fb1ad9a95",
   "metadata": {},
   "outputs": [],
   "source": [
    "from sklearn.model_selection import GridSearchCV"
   ]
  },
  {
   "cell_type": "code",
   "execution_count": 456,
   "id": "b8d28a95-2a15-43f9-9538-6cd292746303",
   "metadata": {},
   "outputs": [],
   "source": [
    "param_grid = {\n",
    "    'n_estimators': [50, 100,150, 200],\n",
    "    'learning_rate': [0.01, 0.1, 0.2],\n",
    "    'max_depth': [3, 5, 7,9],\n",
    "    'min_samples_split': [2, 5, 10,15],\n",
    "    'min_samples_leaf': [1, 2, 4,6]\n",
    "}"
   ]
  },
  {
   "cell_type": "code",
   "execution_count": 457,
   "id": "addc9228-5305-4ecf-b59b-936eee3b5534",
   "metadata": {},
   "outputs": [],
   "source": [
    "grid_search = GridSearchCV(estimator=GB_model, param_grid=param_grid, cv=5, scoring='accuracy', n_jobs=-1)"
   ]
  },
  {
   "cell_type": "code",
   "execution_count": null,
   "id": "e070a360-a336-4eac-af6a-818cb098f9a8",
   "metadata": {},
   "outputs": [],
   "source": [
    "grid_search.fit(X_train, y_train)"
   ]
  },
  {
   "cell_type": "code",
   "execution_count": null,
   "id": "62510369-ef8e-4c96-bc52-5ed736b77e55",
   "metadata": {},
   "outputs": [],
   "source": [
    "best_params = grid_search.best_params_\n",
    "best_model = grid_search.best_estimator_"
   ]
  },
  {
   "cell_type": "code",
   "execution_count": null,
   "id": "bac36af3-5039-4b30-878c-2a516a1d360f",
   "metadata": {},
   "outputs": [],
   "source": [
    "y_train_predict = best_model.predict(X_train)\n",
    "model_score = best_model.score(X_train,y_train)\n",
    "print(model_score)\n",
    "print()\n",
    "print(metrics.confusion_matrix (y_train,y_train_predict) )\n",
    "print(metrics.classification_report(y_train,y_train_predict))"
   ]
  },
  {
   "cell_type": "code",
   "execution_count": null,
   "id": "905e8d15-de47-4dfb-abeb-ac74cabcf4d2",
   "metadata": {},
   "outputs": [],
   "source": [
    "y_test_predict =best_model.predict(X_test)\n",
    "model_score = best_model.score(X_test,y_test)\n",
    "print(model_score)\n",
    "print()\n",
    "print(metrics.confusion_matrix (y_test,y_test_predict) )\n",
    "print(metrics.classification_report(y_test,y_test_predict))"
   ]
  },
  {
   "cell_type": "code",
   "execution_count": null,
   "id": "28930559-50fe-4d8f-81fd-d49fecd7b1e9",
   "metadata": {},
   "outputs": [],
   "source": []
  },
  {
   "cell_type": "markdown",
   "id": "1c140405-6faf-4fbc-be44-f9f83e968050",
   "metadata": {},
   "source": [
    "# Evaluating Model Performance on a Hold-out Set of 55k Unseen Data Points"
   ]
  },
  {
   "cell_type": "code",
   "execution_count": null,
   "id": "863adf32-2e9a-401e-9776-74770a0f610f",
   "metadata": {},
   "outputs": [],
   "source": [
    "df_t=df_test.drop(['Study Status'],axis=1)"
   ]
  },
  {
   "cell_type": "code",
   "execution_count": null,
   "id": "11ffd9e6-2712-4fee-9a5b-8b1cd9813203",
   "metadata": {},
   "outputs": [],
   "source": [
    "dy = df_test['Study Status']"
   ]
  },
  {
   "cell_type": "code",
   "execution_count": null,
   "id": "6cb6eb97-7c04-4614-a1ce-fe7bdc687f60",
   "metadata": {},
   "outputs": [],
   "source": [
    "new_predictions = best_model.predict(df_t) "
   ]
  },
  {
   "cell_type": "code",
   "execution_count": null,
   "id": "f6cf8d84-1d83-4ebf-a3fe-904e0c83f308",
   "metadata": {},
   "outputs": [],
   "source": [
    "model_score = best_model.score(df_t,dy)\n",
    "print(model_score)\n",
    "print()\n",
    "print(metrics.confusion_matrix (dy,new_predictions) )\n",
    "print(metrics.classification_report(dy,new_predictions))"
   ]
  },
  {
   "cell_type": "code",
   "execution_count": null,
   "id": "b6f40ecc-cb98-4956-949c-92cd6fb3891e",
   "metadata": {},
   "outputs": [],
   "source": []
  },
  {
   "cell_type": "code",
   "execution_count": null,
   "id": "56e5bbae-62ec-4317-b726-7171e2b447ad",
   "metadata": {},
   "outputs": [],
   "source": []
  },
  {
   "cell_type": "markdown",
   "id": "b83d0a39-de96-4f1b-9841-8311b680a32f",
   "metadata": {},
   "source": [
    "# working on 64k test data given"
   ]
  },
  {
   "cell_type": "code",
   "execution_count": 244,
   "id": "24c59551-2ed2-473a-be9c-4a263fb6b8bf",
   "metadata": {},
   "outputs": [],
   "source": [
    "import joblib"
   ]
  },
  {
   "cell_type": "code",
   "execution_count": 245,
   "id": "606f7034-c4e5-40ce-8164-2c4cf14072a0",
   "metadata": {},
   "outputs": [],
   "source": [
    "from joblib import dump"
   ]
  },
  {
   "cell_type": "code",
   "execution_count": null,
   "id": "21e4bc6f-a396-44b7-b54a-b33c6b4d1c2e",
   "metadata": {},
   "outputs": [],
   "source": [
    "joblib.dump(best_model, 'gradient_boosting_model_2.joblib') "
   ]
  },
  {
   "cell_type": "code",
   "execution_count": 246,
   "id": "4eaf0c59-0686-4c6f-8669-b442d4fb3299",
   "metadata": {},
   "outputs": [],
   "source": [
    "best_model = joblib.load('gradient_boosting_model_2.joblib')"
   ]
  },
  {
   "cell_type": "code",
   "execution_count": 247,
   "id": "5eaf0e77-cc07-45fc-915c-41614d239fb7",
   "metadata": {},
   "outputs": [],
   "source": [
    "import pandas as pd"
   ]
  },
  {
   "cell_type": "code",
   "execution_count": 4,
   "id": "b9f3b773-ea2f-433c-81bb-5ec34c3d5a6a",
   "metadata": {},
   "outputs": [
    {
     "name": "stderr",
     "output_type": "stream",
     "text": [
      "C:\\Users\\ATUL SINGH\\AppData\\Local\\Temp\\ipykernel_16664\\2641279111.py:1: DtypeWarning: Columns (0,17,30,31,32,33,34,35,36,37,38,39,40,41,42,43,44,45,46,47,48,49,50,51,52,53,54,55,56,57,58,59,60,61,62,63,64,65,66,67,68,69,70,71,72,73,74,75,76,77,78,79,80,81,82,83,84,85,86,87,88,89,90,91,92,93,94,95,96,97,98,99,100,101,102,103,104,105,106,107,108,109,110,111,112,113,114,115,116,117,118,119,120,121,122,123,124,125,126,127,128,129,130,131,132,133,134,135,136,137,138,139,140,141,142,143,144,145,146,147,148,149,150,151,152,153,154,155,156,157,158,159,160,161,162,163,164,165,166,167,168,169,170,171,172,173,174,175,176,177,178,179,180,181,182,183,184,185,186,187,188,189,190,191,192,193,194,195,196,197,198,199,200,201,202,203,204,205,206,207,208,209,210,211,212,213,214,215,216,217,218,219,220,221,222,223,224,225,226,227,228,229,230,231,232,233,234,235,236,237,238,239,240,241,242,243,244,245,246,247,248,249,250,251,252,253,254,255,256,257,258,259,260,261,262,263,264,265,266,267,268,269,270,271,272,273,274,275,276,277,278,279,280,281,282,283,284,285,286,287,288,289,290,291,292,293,294,295,296,297,298,299,300,301,302,303,304,305,306,307,308,309,310,311,312,313,314,315,316,317,318,319,320,321,322,323,324,325,326,327,328,329,330,331,332,333,334,335,336,337,338,339,340,341,342,343,344,345,346,347,348,349,350,351,352,353,354,355,356,357,358,359,360,361,362,363,364,365,366,367,368,369,370,371,372,373,374,375,376,377,378,379,380,381,382,383,384,385,386,387,388,389,390,391,392,393,394,395,396,397,398,399,400,401,402,403,404,405,406,407,408,409,410,411,412,413,414,415,416,417,418,419,420,421,422,423,424,425,426,427,428,429,430,431,432,433,434,435,436,437,438,439,440,441,442,443,444,445,446,447,448,449,450,451,452,453,454,455,456,457,458,459,460,461,462,463,464,465,466,467,468,469,470,471,472,473,474,475,476,477,478,479,480,481,482,483,484,485,486,487,488,489,490,491,492,493,494,495,496,497,498,499,500,501,502,503,504,505,506,507,508,509,510,511,512,513,514,515,516,517,518,519,520,521,522,523,524,525,526,527,528,529,530,531,532,533,534,535,536,537,538,539,540,541,542,543,544,545,546,547,548,549,550,551,552,553,554,555,556,557,558,559,560,561,562,563,564,565,566,567,568,569,570,571,572,573,574,575,576,577,578,579,580,581,582,583,584,585,586,587,588,589,590,591,592,593,594,595,596,597,598,599,600,601,602,603,604,605,606,607,608,609,610,611,612,613,614,615,616,617,618,619,620,621,622,623,624,625,626,627,628,629,630,631,632,633,634,635,636,637,638,639,640,641,642,643,644,645,646,647,648,649,650,651,652,653,654,655,656,657,658,659,660,661,662,663,664,665,666,667,668,669,670,671,672,673,674,675,676,677,678,679,680,681,682,683,684,685,686,687,688,689,690,691,692,693,694,695,696,697,698,699,700,701,702,703,704,705,706,707,708,709,710,711,712,713,714,715,716,717,718,719,720,721,722,723,724,725,726,727,728,729,730,731,732,733,734,735,736,737,738,739,740,741,742,743,744,745,746,747,748,749,750,751,752,753,754,755,756,757,758,759,760,761,762,763,764,765,766,767,768,769,770,771,772,773,774,775,776,777,778,779,780,781,782,783,784,785,786,787,788,789,790,791,792,793,794,795,796,797,798,799,800,801,802,803,804,805,806,807,808,809,810,811,812,813,814,815,816,817,818,819,820,821,822,823,824,825,826,827,828,829,830,831,832,833,834,835,836,837,838,839,840,841,842,843,844,845,846,847,848,849,850,851,852,853,854,855,856,857,858,859,860,861,862,863,864,865,866,867,868,869,870,871,872,873,874,875,876,877,878,879,880,881,882,883,884,885,886,887,888,889,890,891,892,893,894,895,896,897,898,899,900,901,902,903,904,905,906,907,908,909,910,911,912,913,914,915,916,917,918,919,920,921,922,923,924,925,926,927,928,929,930,931,932,933,934,935,936,937,938,939,940,941,942,943,944,945,946,947,948,949,950,951,952,953,954,955,956,957,958,959,960,961,962,963,964,965,966,967,968,969,970,971,972,973,974,975,976,977,978,979,980,981,982,983,984,985,986,987,988,989,990,991,992,993,994,995,996,997,998,999,1000,1001,1002,1003,1004,1005,1006,1007,1008,1009,1010,1011,1012,1013,1014,1015,1016,1017,1018,1019,1020,1021,1022,1023,1024,1025,1026,1027,1028,1029,1030,1031,1032,1033,1034,1035,1036,1037,1038,1039,1040,1041,1042,1043,1044,1045,1046,1047,1048,1049,1050,1051,1052,1053,1054,1055,1056,1057,1058,1059,1060,1061,1062,1063,1064,1065,1066,1067,1068,1069,1070,1071,1072,1073,1074,1075,1076,1077,1078,1079,1080,1081,1082,1083,1084,1085,1086,1087,1088,1089,1090,1091,1092,1093,1094,1095,1096,1097,1098,1099,1100,1101,1102,1103,1104,1105,1106,1107,1108,1109,1110,1111,1112,1113,1114,1115,1116,1117,1118,1119,1120,1121,1122,1123,1124,1125,1126,1127,1128,1129,1130,1131,1132,1133,1134,1135,1136,1137,1138,1139,1140,1141,1142,1143,1144,1145,1146,1147,1148,1149,1150,1151,1152,1153,1154,1155,1156,1157,1158,1159,1160,1161,1162,1163,1164,1165,1166,1167,1168,1169,1170,1171,1172,1173,1174,1175,1176,1177,1178,1179,1180,1181,1182,1183,1184,1185,1186,1187,1188,1189,1190,1191,1192,1193,1194,1195,1196,1197,1198,1199,1200,1201,1202,1203,1204,1205,1206,1207,1208,1209,1210,1211,1212,1213,1214,1215,1216,1217,1218,1219,1220,1221,1222,1223,1224,1225,1226,1227,1228,1229,1230,1231,1232,1233,1234,1235,1236,1237,1238,1239,1240,1241,1242,1243,1244,1245,1246,1247,1248,1249,1250,1251,1252,1253,1254,1255,1256,1257,1258,1259,1260,1261,1262,1263,1264,1265,1266,1267,1268,1269,1270,1271,1272,1273,1274,1275,1276,1277,1278,1279,1280,1281,1282,1283,1284,1285,1286,1287,1288,1289,1290,1291,1292,1293,1294,1295,1296,1297,1298,1299,1300,1301,1302,1303,1304,1305,1306,1307,1308,1309,1310,1311,1312,1313,1314,1315,1316,1317,1318,1319,1320,1321,1322,1323,1324,1325,1326,1327,1328,1329,1330,1331,1332,1333,1334,1335,1336,1337,1338,1339,1340,1341,1342,1343,1344,1345,1346,1347,1348,1349,1350,1351,1352,1353,1354,1355,1356,1357,1358,1359,1360,1361,1362,1363,1364,1365,1366,1367,1368,1369,1370,1371,1372,1373,1374,1375,1376,1377,1378,1379,1380,1381,1382,1383,1384,1385,1386,1387,1388,1389,1390,1391,1392,1393,1394,1395,1396,1397,1398,1399,1400,1401,1402,1403,1404,1405,1406,1407,1408,1409,1410,1411,1412,1413,1414,1415,1416,1417,1418,1419,1420,1421,1422,1423,1424,1425,1426,1427,1428,1429,1430,1431,1432,1433,1434,1435,1436,1437,1438,1439,1440,1441,1442,1443,1444,1445,1446,1447,1448,1449,1450,1451,1452,1453,1454,1455,1456,1457,1458,1459,1460,1461,1462,1463,1464,1465,1466,1467,1468,1469,1470,1471,1472,1473,1474,1475,1476,1477,1478,1479,1480,1481,1482,1483,1484,1485,1486,1487,1488,1489,1490,1491,1492,1493,1494,1495,1496,1497,1498,1499,1500,1501,1502,1503,1504,1505,1506,1507,1508,1509,1510,1511,1512,1513,1514,1515,1516,1517,1518,1519,1520,1521,1522,1523,1524,1525,1526,1527,1528,1529,1530,1531,1532,1533,1534,1535,1536,1537,1538,1539,1540,1541,1542,1543,1544,1545,1546,1547,1548,1549,1550,1551,1552,1553,1554,1555,1556,1557,1558,1559,1560,1561,1562,1563,1564,1565,1566,1567,1568,1569,1570,1571,1572,1573,1574,1575,1576,1577,1578,1579,1580,1581,1582,1583,1584,1585,1586,1587,1588,1589,1590,1591,1592,1593,1594,1595,1596,1597,1598,1599,1600,1601,1602,1603,1604,1605,1606,1607,1608,1609,1610,1611,1612,1613,1614,1615,1616,1617,1618,1619,1620,1621,1622,1623,1624,1625,1626,1627,1628,1629,1630,1631,1632,1633,1634,1635,1636,1637,1638,1639,1640,1641,1642,1643,1644,1645,1646,1647,1648,1649,1650,1651,1652,1653,1654,1655,1656,1657,1658,1659,1660,1661,1662,1663,1664,1665,1666,1667,1668,1669,1670,1671,1672,1673,1674,1675,1676,1677,1678,1679,1680,1681,1682,1683,1684,1685,1686,1687,1688,1689,1690,1691,1692,1693,1694,1695,1696,1697,1698,1699,1700,1701,1702,1703,1704,1705,1706,1707,1708,1709,1710,1711,1712,1713,1714,1715,1716,1717,1718,1719,1720,1721,1722,1723,1724,1725,1726,1727,1728,1729,1730,1731,1732,1733,1734,1735,1736,1737,1738,1739,1740,1741,1742,1743,1744,1745,1746,1747,1748,1749,1750,1751,1752,1753,1754,1755,1756,1757,1758,1759,1760,1761,1762,1763,1764,1765,1766,1767,1768,1769,1770,1771,1772,1773,1774,1775,1776,1777,1778,1779,1780,1781,1782,1783,1784,1785,1786,1787,1788,1789,1790,1791,1792,1793,1794,1795,1796,1797,1798,1799,1800,1801,1802,1803,1804,1805,1806,1807,1808,1809,1810,1811,1812,1813,1814,1815,1816,1817,1818,1819,1820,1821,1822,1823,1824,1825,1826,1827,1828,1829,1830,1831,1832,1833,1834,1835,1836,1837,1838,1839,1840,1841,1842,1843,1844,1845,1846,1847,1848,1849,1850,1851,1852,1853,1854,1855,1856,1857,1858,1859,1860,1861,1862,1863,1864,1865,1866,1867,1868,1869,1870,1871,1872,1873,1874,1875,1876,1877,1878,1879,1880,1881,1882,1883,1884,1885,1886,1887,1888,1889,1890,1891,1892,1893,1894,1895,1896,1897,1898,1899,1900,1901,1902,1903,1904,1905,1906,1907,1908,1909,1910,1911,1912,1913,1914,1915,1916,1917,1918,1919,1920,1921,1922,1923,1924,1925,1926,1927,1928,1929,1930,1931,1932,1933,1934,1935,1936,1937,1938,1939,1940,1941,1942,1943,1944,1945,1946,1947,1948,1949,1950,1951,1952,1953,1954,1955,1956,1957,1958,1959,1960,1961,1962,1963,1964,1965,1966,1967,1968,1969,1970,1971,1972,1973,1974,1975,1976,1977,1978,1979,1980,1981,1982,1983,1984,1985,1986,1987,1988,1989,1990,1991,1992,1993,1994,1995,1996,1997,1998,1999,2000,2001,2002,2003,2004,2005,2006,2007,2008,2009,2010,2011,2012,2013,2014,2015,2016,2017,2018,2019,2020,2021,2022,2023,2024,2025,2026,2027,2028,2029,2030,2031,2032,2033,2034,2035,2036,2037,2038,2039,2040,2041,2042,2043,2044,2045,2046,2047,2048,2049,2050,2051,2052,2053,2054,2055,2056,2057,2058,2059,2060,2061,2062,2063,2064,2065,2066,2067,2068,2069,2070,2071,2072,2073,2074,2075,2076,2077,2078,2079,2080,2081,2082,2083,2084,2085,2086,2087,2088,2089,2090,2091,2092,2093,2094,2095,2096,2097,2098,2099,2100,2101,2102,2103,2104,2105,2106,2107,2108,2109,2110,2111,2112,2113,2114,2115,2116,2117,2118,2119,2120,2121,2122,2123,2124,2125,2126,2127,2128,2129,2130,2131,2132,2133,2134,2135,2136,2137,2138,2139,2140,2141,2142,2143,2144,2145,2146,2147,2148,2149,2150,2151,2152,2153,2154,2155,2156,2157,2158,2159,2160,2161,2162,2163,2164,2165,2166,2167,2168,2169,2170,2172,2173,2174,2175,2176,2177,2178,2179,2180,2181,2182,2183,2184,2185,2186,2187,2188,2189,2190,2191,2192,2193,2194,2195,2196,2197,2198,2199,2200,2201,2202,2203,2204,2205,2206,2207,2208,2209,2210,2211,2212,2213,2214,2215,2216,2217,2218,2219,2220,2221,2222,2223,2224,2225,2226,2227,2228,2229,2230,2231,2232,2233,2234,2235,2236,2237,2238,2239,2240,2241,2242,2243,2244,2245,2246,2247,2248,2249,2250,2251,2252,2253,2254,2255,2256,2257,2258,2259,2260,2261,2262,2263,2264,2265,2266,2267,2268,2269,2270,2271,2272,2273,2274,2275,2276,2277,2278,2279,2280,2281,2282,2283,2284,2285,2286,2287,2288,2289,2290,2291,2292,2293,2294,2295,2296,2297,2298,2299,2300,2301,2302,2303,2304,2305,2306,2307,2308,2309,2310,2311,2312,2313,2314,2315,2316,2317,2318,2319,2320,2321,2322,2323,2324,2325,2326,2327,2328,2329,2330,2331,2332,2333,2334,2335,2336,2337,2338,2339,2340,2341,2342,2343,2344,2345,2346,2347,2348,2349,2350,2351,2352,2353,2354,2355,2356,2357,2358,2359,2360,2361,2362,2363,2364,2365,2366,2367,2368,2369,2370,2371,2372,2373,2374,2375,2376,2377,2378,2379,2380,2381,2382,2383,2384,2385,2386,2387,2388,2389,2390,2391,2392,2393,2394,2395,2396,2397,2398,2399,2400,2401,2402,2403,2404,2405,2406,2407,2408,2409,2410,2411,2412,2413,2414,2415,2416,2417,2418,2419,2420,2421,2422,2423,2424,2425,2426,2427,2428,2429,2430,2431,2432,2433,2434,2435,2436,2437,2438,2439,2440,2441,2442,2444,2445,2446,2447,2448,2449,2450,2451,2452,2453,2454,2455,2456,2457,2458,2459,2460,2461,2462,2463,2464,2465,2466,2467,2468,2469,2470,2471,2472,2473,2474,2475,2476,2477,2478,2479,2480,2481,2482,2483,2484,2485,2486,2487,2488,2489,2490,2491,2492,2493,2494,2495,2496,2497,2498,2499,2500,2501,2502,2504,2505,2506,2507,2508,2509,2510,2511,2512,2513,2514,2516,2517,2518,2519,2520,2521,2522,2523,2524,2525,2526,2528,2529,2530,2531,2532,2533,2534,2535,2536,2537,2538,2540,2541,2542,2543,2544,2545,2546,2547,2548,2549,2550,2552,2553,2554,2555,2556,2557,2558,2559,2560,2561,2562,2563,2564,2565,2566,2567,2568,2569,2570,2571,2572,2573,2574,2575,2576,2577,2578,2579,2580,2581,2582,2583,2584,2585,2586,2587,2588,2589,2590,2591,2592,2593,2594,2595,2596,2597,2598,2599,2600,2601,2602,2603,2604,2605,2606,2607,2608,2609,2610,2611,2612,2613,2614,2615,2616,2617,2618,2619,2620,2621,2622,2623,2624,2625,2626,2627,2628,2630,2631,2632,2633,2634,2635,2636,2637,2638,2639,2640,2641,2642,2643,2644,2645,2646,2647,2648,2649,2650,2651,2652,2654,2655,2657,2658,2659,2660,2661,2663,2664,2666,2667,2668,2669,2670,2671,2672,2673,2674,2675,2676,2677,2678,2679,2680,2681,2682,2683,2684,2685,2686,2687,2688,2689,2690,2691,2692,2693,2694,2695,2696,2697,2698,2699,2700,2701,2702,2703,2704,2705,2706,2707,2708,2709,2710,2711,2712,2713,2714,2715,2716,2717,2718,2719,2720,2721,2722,2723,2724,2725,2726,2727,2729,2730,2732,2733,2735,2736,2738,2739,2741,2742,2743,2744,2745,2747,2748,2750,2751,2752,2753,2754,2755,2756,2757,2758,2759,2760,2761,2762,2763,2764,2765,2766,2767,2768,2769,2770,2771,2772,2773,2774,2775,2776,2777,2778,2779,2780,2781,2782,2783,2784,2785,2786,2787,2788,2789,2790,2791,2792,2793,2794,2795,2796,2797,2798,2799,2800,2801,2802,2803,2804,2805,2806,2807,2808,2809,2810,2811,2812,2813,2814,2815,2816,2817,2818,2819,2820,2821,2822,2823,2824,2825,2826,2827,2828,2830,2831,2833,2834,2836,2837,2839,2840,2842,2843,2845,2846,2848,2849,2851,2852,2854,2855,2857,2858,2859,2860,2861,2863,2864,2866,2867,2868,2869,2870,2872,2873,2875,2876,2877,2878,2879,2881,2882,2884,2885,2887,2888,2890,2891,2893,2894,2896,2897,2899,2900,2901,2902,2903,2904,2905,2906,2907,2908,2909,2910,2911,2912,2913,2914,2915,2916,2917,2918,2920,2921,2922,2923,2924,2925,2926,2927,2928,2929,2930,2931,2932,2933,2934,2935,2936,2937,2938,2939,2940,2941,2942,2943,2944,2945,2946,2947,2948,2950,2951,2953,2954,2956,2957,2959,2960,2962,2963,2965,2966,2968,2969,2971,2972,2974,2975,2977,2978,2980,2981,2983,2984,2986,2987,2989,2990,2991,2992,2993,2994,2995,2996,2997,2998,2999,3000,3001,3002,3003,3004,3005,3006,3007,3008,3009,3010,3011,3012,3013,3014,3015,3016,3017,3018,3019,3020,3021,3022,3023,3024,3025,3026,3027,3028,3029,3030,3031,3032,3033,3034,3035,3036,3037,3038,3040,3041,3042,3043,3044,3045,3046,3047,3048,3049,3050,3052,3053,3054,3055,3056,3057,3058,3059,3060,3061,3062,3063,3064,3065,3066,3068,3069,3070,3071,3072,3073,3074,3075,3076,3077,3078,3079,3080,3081,3082,3083,3084,3085,3086,3087,3088,3089,3090,3091,3092,3093,3094,3095,3096,3097,3098,3099,3100,3101,3102,3103,3104,3105,3106,3107,3108,3109,3110,3111,3112,3113,3114,3115,3116,3117,3118,3119,3120,3121,3122,3123,3124,3125,3126,3127,3128,3129,3130,3131,3132,3133,3134,3135,3136,3137,3138,3139,3140,3141,3142,3143,3144,3145,3146,3147,3148,3149,3150,3151,3152,3153,3154,3155,3156,3157,3158,3159,3160,3161,3162,3163,3164,3165,3166,3167,3168,3169,3170,3171,3172,3173,3174,3175,3176,3177,3178,3179,3180,3181,3182,3183,3184,3185,3186,3187,3188,3189,3190,3191,3192,3193,3194,3195,3196,3197,3198,3199,3200,3201,3202,3203,3204,3205,3206,3207,3208,3209,3210,3211,3212,3213,3214,3215,3216,3217,3218,3219,3220,3221,3222,3223,3224,3225,3226,3227,3228,3229,3230,3231,3232,3233,3234,3235,3236,3237,3238,3239,3240,3241,3242,3243,3244,3245,3246,3247,3248,3249,3250,3251,3252,3253,3254,3255,3256,3257,3258,3259,3260,3261,3262,3263,3264,3265,3266,3267,3268,3269,3270,3271,3272,3273,3274,3275,3276,3277,3278,3279,3280,3281,3282,3283,3284,3285,3286,3287,3288,3289,3290,3291,3292,3293,3294,3295,3296,3297,3298,3299,3300,3301,3302,3303,3304,3305,3306,3307,3308,3309,3310,3311,3312,3313,3314,3315,3316,3317,3318,3319,3320,3321,3322,3323,3324,3325,3326,3327,3328,3329,3330,3331,3332,3333,3334,3335,3336,3337,3338,3339,3340,3341,3342,3343,3344,3345,3346,3348,3349,3351,3352,3354,3355,3357,3358,3360,3361,3363,3364,3366,3367,3369,3370,3372,3373,3375,3376,3378,3379,3381,3382,3384,3385,3387,3388,3390,3391,3393,3394,3396,3397,3399,3400,3402,3403,3405,3406,3408,3409,3411,3412,3414,3415,3417,3418,3420,3421,3423,3424,3426,3427,3429,3430,3432,3433,3435,3436,3438,3439,3441,3442,3444,3445,3447,3448,3450,3451,3453,3454,3456,3457,3459,3460,3462,3463,3465,3466,3468,3469,3471,3472,3474,3475,3477,3478,3480,3481,3483,3484,3486,3487,3489,3490,3492,3493,3495,3496,3498,3499,3501,3502,3504,3505,3507,3508,3510,3511,3513,3514,3516,3517,3519,3520,3522,3523,3525,3526,3528,3529,3531,3532,3534,3535,3537,3538,3540,3541,3543,3544,3546,3547,3549,3550,3552,3553,3555,3556,3558,3559,3561,3562,3564,3565,3567,3568,3569,3570,3571,3572,3573,3574,3575,3576,3577,3578,3579,3580,3581,3582,3583,3584,3585,3586,3587,3588,3589,3590,3591,3592,3593,3594,3595,3596,3597,3598,3599,3600,3601,3602,3603,3604,3605,3606,3607,3608,3609,3610,3611,3612,3613,3614,3615,3616,3617,3618,3619,3620,3621,3622,3623,3624,3625,3626,3627,3628,3629,3630,3631,3632,3633,3634,3635,3636,3637,3638,3639,3640,3641,3642,3643,3644,3645,3646,3647,3648,3649,3650,3651,3652,3653,3654,3655,3656,3657,3659,3660,3662,3663,3665,3666,3668) have mixed types. Specify dtype option on import or set low_memory=False.\n",
      "  df_11=pd.read_csv('usecase_3_TEST_gt_removed.csv')\n"
     ]
    }
   ],
   "source": [
    "df_11=pd.read_csv('usecase_3_TEST_gt_removed.csv')"
   ]
  },
  {
   "cell_type": "code",
   "execution_count": 5,
   "id": "91255602-345c-4926-8f6e-9cd64a04ae97",
   "metadata": {},
   "outputs": [],
   "source": [
    "start_col =31\n",
    "end_col = 3700\n",
    "\n",
    "# Drop columns using integer-based indexing\n",
    "df_11 = df_11.drop(df_11.columns[start_col-1:end_col], axis=1)"
   ]
  },
  {
   "cell_type": "code",
   "execution_count": 7,
   "id": "ce5347f4-b29d-4f94-9612-64ab7bcac891",
   "metadata": {},
   "outputs": [],
   "source": [
    "df=df_11.copy()"
   ]
  },
  {
   "cell_type": "code",
   "execution_count": null,
   "id": "ebd678aa-29de-4d63-9d10-c0db4ab54a77",
   "metadata": {},
   "outputs": [],
   "source": []
  },
  {
   "cell_type": "code",
   "execution_count": 248,
   "id": "f09dcde7-ba7a-485b-9129-98699af12ad4",
   "metadata": {},
   "outputs": [
    {
     "data": {
      "text/html": [
       "<style>#sk-container-id-1 {\n",
       "  /* Definition of color scheme common for light and dark mode */\n",
       "  --sklearn-color-text: black;\n",
       "  --sklearn-color-line: gray;\n",
       "  /* Definition of color scheme for unfitted estimators */\n",
       "  --sklearn-color-unfitted-level-0: #fff5e6;\n",
       "  --sklearn-color-unfitted-level-1: #f6e4d2;\n",
       "  --sklearn-color-unfitted-level-2: #ffe0b3;\n",
       "  --sklearn-color-unfitted-level-3: chocolate;\n",
       "  /* Definition of color scheme for fitted estimators */\n",
       "  --sklearn-color-fitted-level-0: #f0f8ff;\n",
       "  --sklearn-color-fitted-level-1: #d4ebff;\n",
       "  --sklearn-color-fitted-level-2: #b3dbfd;\n",
       "  --sklearn-color-fitted-level-3: cornflowerblue;\n",
       "\n",
       "  /* Specific color for light theme */\n",
       "  --sklearn-color-text-on-default-background: var(--sg-text-color, var(--theme-code-foreground, var(--jp-content-font-color1, black)));\n",
       "  --sklearn-color-background: var(--sg-background-color, var(--theme-background, var(--jp-layout-color0, white)));\n",
       "  --sklearn-color-border-box: var(--sg-text-color, var(--theme-code-foreground, var(--jp-content-font-color1, black)));\n",
       "  --sklearn-color-icon: #696969;\n",
       "\n",
       "  @media (prefers-color-scheme: dark) {\n",
       "    /* Redefinition of color scheme for dark theme */\n",
       "    --sklearn-color-text-on-default-background: var(--sg-text-color, var(--theme-code-foreground, var(--jp-content-font-color1, white)));\n",
       "    --sklearn-color-background: var(--sg-background-color, var(--theme-background, var(--jp-layout-color0, #111)));\n",
       "    --sklearn-color-border-box: var(--sg-text-color, var(--theme-code-foreground, var(--jp-content-font-color1, white)));\n",
       "    --sklearn-color-icon: #878787;\n",
       "  }\n",
       "}\n",
       "\n",
       "#sk-container-id-1 {\n",
       "  color: var(--sklearn-color-text);\n",
       "}\n",
       "\n",
       "#sk-container-id-1 pre {\n",
       "  padding: 0;\n",
       "}\n",
       "\n",
       "#sk-container-id-1 input.sk-hidden--visually {\n",
       "  border: 0;\n",
       "  clip: rect(1px 1px 1px 1px);\n",
       "  clip: rect(1px, 1px, 1px, 1px);\n",
       "  height: 1px;\n",
       "  margin: -1px;\n",
       "  overflow: hidden;\n",
       "  padding: 0;\n",
       "  position: absolute;\n",
       "  width: 1px;\n",
       "}\n",
       "\n",
       "#sk-container-id-1 div.sk-dashed-wrapped {\n",
       "  border: 1px dashed var(--sklearn-color-line);\n",
       "  margin: 0 0.4em 0.5em 0.4em;\n",
       "  box-sizing: border-box;\n",
       "  padding-bottom: 0.4em;\n",
       "  background-color: var(--sklearn-color-background);\n",
       "}\n",
       "\n",
       "#sk-container-id-1 div.sk-container {\n",
       "  /* jupyter's `normalize.less` sets `[hidden] { display: none; }`\n",
       "     but bootstrap.min.css set `[hidden] { display: none !important; }`\n",
       "     so we also need the `!important` here to be able to override the\n",
       "     default hidden behavior on the sphinx rendered scikit-learn.org.\n",
       "     See: https://github.com/scikit-learn/scikit-learn/issues/21755 */\n",
       "  display: inline-block !important;\n",
       "  position: relative;\n",
       "}\n",
       "\n",
       "#sk-container-id-1 div.sk-text-repr-fallback {\n",
       "  display: none;\n",
       "}\n",
       "\n",
       "div.sk-parallel-item,\n",
       "div.sk-serial,\n",
       "div.sk-item {\n",
       "  /* draw centered vertical line to link estimators */\n",
       "  background-image: linear-gradient(var(--sklearn-color-text-on-default-background), var(--sklearn-color-text-on-default-background));\n",
       "  background-size: 2px 100%;\n",
       "  background-repeat: no-repeat;\n",
       "  background-position: center center;\n",
       "}\n",
       "\n",
       "/* Parallel-specific style estimator block */\n",
       "\n",
       "#sk-container-id-1 div.sk-parallel-item::after {\n",
       "  content: \"\";\n",
       "  width: 100%;\n",
       "  border-bottom: 2px solid var(--sklearn-color-text-on-default-background);\n",
       "  flex-grow: 1;\n",
       "}\n",
       "\n",
       "#sk-container-id-1 div.sk-parallel {\n",
       "  display: flex;\n",
       "  align-items: stretch;\n",
       "  justify-content: center;\n",
       "  background-color: var(--sklearn-color-background);\n",
       "  position: relative;\n",
       "}\n",
       "\n",
       "#sk-container-id-1 div.sk-parallel-item {\n",
       "  display: flex;\n",
       "  flex-direction: column;\n",
       "}\n",
       "\n",
       "#sk-container-id-1 div.sk-parallel-item:first-child::after {\n",
       "  align-self: flex-end;\n",
       "  width: 50%;\n",
       "}\n",
       "\n",
       "#sk-container-id-1 div.sk-parallel-item:last-child::after {\n",
       "  align-self: flex-start;\n",
       "  width: 50%;\n",
       "}\n",
       "\n",
       "#sk-container-id-1 div.sk-parallel-item:only-child::after {\n",
       "  width: 0;\n",
       "}\n",
       "\n",
       "/* Serial-specific style estimator block */\n",
       "\n",
       "#sk-container-id-1 div.sk-serial {\n",
       "  display: flex;\n",
       "  flex-direction: column;\n",
       "  align-items: center;\n",
       "  background-color: var(--sklearn-color-background);\n",
       "  padding-right: 1em;\n",
       "  padding-left: 1em;\n",
       "}\n",
       "\n",
       "\n",
       "/* Toggleable style: style used for estimator/Pipeline/ColumnTransformer box that is\n",
       "clickable and can be expanded/collapsed.\n",
       "- Pipeline and ColumnTransformer use this feature and define the default style\n",
       "- Estimators will overwrite some part of the style using the `sk-estimator` class\n",
       "*/\n",
       "\n",
       "/* Pipeline and ColumnTransformer style (default) */\n",
       "\n",
       "#sk-container-id-1 div.sk-toggleable {\n",
       "  /* Default theme specific background. It is overwritten whether we have a\n",
       "  specific estimator or a Pipeline/ColumnTransformer */\n",
       "  background-color: var(--sklearn-color-background);\n",
       "}\n",
       "\n",
       "/* Toggleable label */\n",
       "#sk-container-id-1 label.sk-toggleable__label {\n",
       "  cursor: pointer;\n",
       "  display: block;\n",
       "  width: 100%;\n",
       "  margin-bottom: 0;\n",
       "  padding: 0.5em;\n",
       "  box-sizing: border-box;\n",
       "  text-align: center;\n",
       "}\n",
       "\n",
       "#sk-container-id-1 label.sk-toggleable__label-arrow:before {\n",
       "  /* Arrow on the left of the label */\n",
       "  content: \"▸\";\n",
       "  float: left;\n",
       "  margin-right: 0.25em;\n",
       "  color: var(--sklearn-color-icon);\n",
       "}\n",
       "\n",
       "#sk-container-id-1 label.sk-toggleable__label-arrow:hover:before {\n",
       "  color: var(--sklearn-color-text);\n",
       "}\n",
       "\n",
       "/* Toggleable content - dropdown */\n",
       "\n",
       "#sk-container-id-1 div.sk-toggleable__content {\n",
       "  max-height: 0;\n",
       "  max-width: 0;\n",
       "  overflow: hidden;\n",
       "  text-align: left;\n",
       "  /* unfitted */\n",
       "  background-color: var(--sklearn-color-unfitted-level-0);\n",
       "}\n",
       "\n",
       "#sk-container-id-1 div.sk-toggleable__content.fitted {\n",
       "  /* fitted */\n",
       "  background-color: var(--sklearn-color-fitted-level-0);\n",
       "}\n",
       "\n",
       "#sk-container-id-1 div.sk-toggleable__content pre {\n",
       "  margin: 0.2em;\n",
       "  border-radius: 0.25em;\n",
       "  color: var(--sklearn-color-text);\n",
       "  /* unfitted */\n",
       "  background-color: var(--sklearn-color-unfitted-level-0);\n",
       "}\n",
       "\n",
       "#sk-container-id-1 div.sk-toggleable__content.fitted pre {\n",
       "  /* unfitted */\n",
       "  background-color: var(--sklearn-color-fitted-level-0);\n",
       "}\n",
       "\n",
       "#sk-container-id-1 input.sk-toggleable__control:checked~div.sk-toggleable__content {\n",
       "  /* Expand drop-down */\n",
       "  max-height: 200px;\n",
       "  max-width: 100%;\n",
       "  overflow: auto;\n",
       "}\n",
       "\n",
       "#sk-container-id-1 input.sk-toggleable__control:checked~label.sk-toggleable__label-arrow:before {\n",
       "  content: \"▾\";\n",
       "}\n",
       "\n",
       "/* Pipeline/ColumnTransformer-specific style */\n",
       "\n",
       "#sk-container-id-1 div.sk-label input.sk-toggleable__control:checked~label.sk-toggleable__label {\n",
       "  color: var(--sklearn-color-text);\n",
       "  background-color: var(--sklearn-color-unfitted-level-2);\n",
       "}\n",
       "\n",
       "#sk-container-id-1 div.sk-label.fitted input.sk-toggleable__control:checked~label.sk-toggleable__label {\n",
       "  background-color: var(--sklearn-color-fitted-level-2);\n",
       "}\n",
       "\n",
       "/* Estimator-specific style */\n",
       "\n",
       "/* Colorize estimator box */\n",
       "#sk-container-id-1 div.sk-estimator input.sk-toggleable__control:checked~label.sk-toggleable__label {\n",
       "  /* unfitted */\n",
       "  background-color: var(--sklearn-color-unfitted-level-2);\n",
       "}\n",
       "\n",
       "#sk-container-id-1 div.sk-estimator.fitted input.sk-toggleable__control:checked~label.sk-toggleable__label {\n",
       "  /* fitted */\n",
       "  background-color: var(--sklearn-color-fitted-level-2);\n",
       "}\n",
       "\n",
       "#sk-container-id-1 div.sk-label label.sk-toggleable__label,\n",
       "#sk-container-id-1 div.sk-label label {\n",
       "  /* The background is the default theme color */\n",
       "  color: var(--sklearn-color-text-on-default-background);\n",
       "}\n",
       "\n",
       "/* On hover, darken the color of the background */\n",
       "#sk-container-id-1 div.sk-label:hover label.sk-toggleable__label {\n",
       "  color: var(--sklearn-color-text);\n",
       "  background-color: var(--sklearn-color-unfitted-level-2);\n",
       "}\n",
       "\n",
       "/* Label box, darken color on hover, fitted */\n",
       "#sk-container-id-1 div.sk-label.fitted:hover label.sk-toggleable__label.fitted {\n",
       "  color: var(--sklearn-color-text);\n",
       "  background-color: var(--sklearn-color-fitted-level-2);\n",
       "}\n",
       "\n",
       "/* Estimator label */\n",
       "\n",
       "#sk-container-id-1 div.sk-label label {\n",
       "  font-family: monospace;\n",
       "  font-weight: bold;\n",
       "  display: inline-block;\n",
       "  line-height: 1.2em;\n",
       "}\n",
       "\n",
       "#sk-container-id-1 div.sk-label-container {\n",
       "  text-align: center;\n",
       "}\n",
       "\n",
       "/* Estimator-specific */\n",
       "#sk-container-id-1 div.sk-estimator {\n",
       "  font-family: monospace;\n",
       "  border: 1px dotted var(--sklearn-color-border-box);\n",
       "  border-radius: 0.25em;\n",
       "  box-sizing: border-box;\n",
       "  margin-bottom: 0.5em;\n",
       "  /* unfitted */\n",
       "  background-color: var(--sklearn-color-unfitted-level-0);\n",
       "}\n",
       "\n",
       "#sk-container-id-1 div.sk-estimator.fitted {\n",
       "  /* fitted */\n",
       "  background-color: var(--sklearn-color-fitted-level-0);\n",
       "}\n",
       "\n",
       "/* on hover */\n",
       "#sk-container-id-1 div.sk-estimator:hover {\n",
       "  /* unfitted */\n",
       "  background-color: var(--sklearn-color-unfitted-level-2);\n",
       "}\n",
       "\n",
       "#sk-container-id-1 div.sk-estimator.fitted:hover {\n",
       "  /* fitted */\n",
       "  background-color: var(--sklearn-color-fitted-level-2);\n",
       "}\n",
       "\n",
       "/* Specification for estimator info (e.g. \"i\" and \"?\") */\n",
       "\n",
       "/* Common style for \"i\" and \"?\" */\n",
       "\n",
       ".sk-estimator-doc-link,\n",
       "a:link.sk-estimator-doc-link,\n",
       "a:visited.sk-estimator-doc-link {\n",
       "  float: right;\n",
       "  font-size: smaller;\n",
       "  line-height: 1em;\n",
       "  font-family: monospace;\n",
       "  background-color: var(--sklearn-color-background);\n",
       "  border-radius: 1em;\n",
       "  height: 1em;\n",
       "  width: 1em;\n",
       "  text-decoration: none !important;\n",
       "  margin-left: 1ex;\n",
       "  /* unfitted */\n",
       "  border: var(--sklearn-color-unfitted-level-1) 1pt solid;\n",
       "  color: var(--sklearn-color-unfitted-level-1);\n",
       "}\n",
       "\n",
       ".sk-estimator-doc-link.fitted,\n",
       "a:link.sk-estimator-doc-link.fitted,\n",
       "a:visited.sk-estimator-doc-link.fitted {\n",
       "  /* fitted */\n",
       "  border: var(--sklearn-color-fitted-level-1) 1pt solid;\n",
       "  color: var(--sklearn-color-fitted-level-1);\n",
       "}\n",
       "\n",
       "/* On hover */\n",
       "div.sk-estimator:hover .sk-estimator-doc-link:hover,\n",
       ".sk-estimator-doc-link:hover,\n",
       "div.sk-label-container:hover .sk-estimator-doc-link:hover,\n",
       ".sk-estimator-doc-link:hover {\n",
       "  /* unfitted */\n",
       "  background-color: var(--sklearn-color-unfitted-level-3);\n",
       "  color: var(--sklearn-color-background);\n",
       "  text-decoration: none;\n",
       "}\n",
       "\n",
       "div.sk-estimator.fitted:hover .sk-estimator-doc-link.fitted:hover,\n",
       ".sk-estimator-doc-link.fitted:hover,\n",
       "div.sk-label-container:hover .sk-estimator-doc-link.fitted:hover,\n",
       ".sk-estimator-doc-link.fitted:hover {\n",
       "  /* fitted */\n",
       "  background-color: var(--sklearn-color-fitted-level-3);\n",
       "  color: var(--sklearn-color-background);\n",
       "  text-decoration: none;\n",
       "}\n",
       "\n",
       "/* Span, style for the box shown on hovering the info icon */\n",
       ".sk-estimator-doc-link span {\n",
       "  display: none;\n",
       "  z-index: 9999;\n",
       "  position: relative;\n",
       "  font-weight: normal;\n",
       "  right: .2ex;\n",
       "  padding: .5ex;\n",
       "  margin: .5ex;\n",
       "  width: min-content;\n",
       "  min-width: 20ex;\n",
       "  max-width: 50ex;\n",
       "  color: var(--sklearn-color-text);\n",
       "  box-shadow: 2pt 2pt 4pt #999;\n",
       "  /* unfitted */\n",
       "  background: var(--sklearn-color-unfitted-level-0);\n",
       "  border: .5pt solid var(--sklearn-color-unfitted-level-3);\n",
       "}\n",
       "\n",
       ".sk-estimator-doc-link.fitted span {\n",
       "  /* fitted */\n",
       "  background: var(--sklearn-color-fitted-level-0);\n",
       "  border: var(--sklearn-color-fitted-level-3);\n",
       "}\n",
       "\n",
       ".sk-estimator-doc-link:hover span {\n",
       "  display: block;\n",
       "}\n",
       "\n",
       "/* \"?\"-specific style due to the `<a>` HTML tag */\n",
       "\n",
       "#sk-container-id-1 a.estimator_doc_link {\n",
       "  float: right;\n",
       "  font-size: 1rem;\n",
       "  line-height: 1em;\n",
       "  font-family: monospace;\n",
       "  background-color: var(--sklearn-color-background);\n",
       "  border-radius: 1rem;\n",
       "  height: 1rem;\n",
       "  width: 1rem;\n",
       "  text-decoration: none;\n",
       "  /* unfitted */\n",
       "  color: var(--sklearn-color-unfitted-level-1);\n",
       "  border: var(--sklearn-color-unfitted-level-1) 1pt solid;\n",
       "}\n",
       "\n",
       "#sk-container-id-1 a.estimator_doc_link.fitted {\n",
       "  /* fitted */\n",
       "  border: var(--sklearn-color-fitted-level-1) 1pt solid;\n",
       "  color: var(--sklearn-color-fitted-level-1);\n",
       "}\n",
       "\n",
       "/* On hover */\n",
       "#sk-container-id-1 a.estimator_doc_link:hover {\n",
       "  /* unfitted */\n",
       "  background-color: var(--sklearn-color-unfitted-level-3);\n",
       "  color: var(--sklearn-color-background);\n",
       "  text-decoration: none;\n",
       "}\n",
       "\n",
       "#sk-container-id-1 a.estimator_doc_link.fitted:hover {\n",
       "  /* fitted */\n",
       "  background-color: var(--sklearn-color-fitted-level-3);\n",
       "}\n",
       "</style><div id=\"sk-container-id-1\" class=\"sk-top-container\"><div class=\"sk-text-repr-fallback\"><pre>GradientBoostingClassifier(learning_rate=0.2, max_depth=7, n_estimators=200,\n",
       "                           random_state=1)</pre><b>In a Jupyter environment, please rerun this cell to show the HTML representation or trust the notebook. <br />On GitHub, the HTML representation is unable to render, please try loading this page with nbviewer.org.</b></div><div class=\"sk-container\" hidden><div class=\"sk-item\"><div class=\"sk-estimator fitted sk-toggleable\"><input class=\"sk-toggleable__control sk-hidden--visually\" id=\"sk-estimator-id-1\" type=\"checkbox\" checked><label for=\"sk-estimator-id-1\" class=\"sk-toggleable__label fitted sk-toggleable__label-arrow fitted\">&nbsp;&nbsp;GradientBoostingClassifier<a class=\"sk-estimator-doc-link fitted\" rel=\"noreferrer\" target=\"_blank\" href=\"https://scikit-learn.org/1.4/modules/generated/sklearn.ensemble.GradientBoostingClassifier.html\">?<span>Documentation for GradientBoostingClassifier</span></a><span class=\"sk-estimator-doc-link fitted\">i<span>Fitted</span></span></label><div class=\"sk-toggleable__content fitted\"><pre>GradientBoostingClassifier(learning_rate=0.2, max_depth=7, n_estimators=200,\n",
       "                           random_state=1)</pre></div> </div></div></div></div>"
      ],
      "text/plain": [
       "GradientBoostingClassifier(learning_rate=0.2, max_depth=7, n_estimators=200,\n",
       "                           random_state=1)"
      ]
     },
     "execution_count": 248,
     "metadata": {},
     "output_type": "execute_result"
    }
   ],
   "source": [
    "best_model"
   ]
  },
  {
   "cell_type": "code",
   "execution_count": 255,
   "id": "0fa8b8e9-a651-49f4-8f76-5f585b30b695",
   "metadata": {},
   "outputs": [],
   "source": [
    "X_test=df_lda.copy()"
   ]
  },
  {
   "cell_type": "code",
   "execution_count": 256,
   "id": "c10445e9-026e-4d01-9d4e-05fef6adfe40",
   "metadata": {},
   "outputs": [
    {
     "name": "stdout",
     "output_type": "stream",
     "text": [
      "<class 'pandas.core.frame.DataFrame'>\n",
      "RangeIndex: 64851 entries, 0 to 64850\n",
      "Data columns (total 27 columns):\n",
      " #   Column               Non-Null Count  Dtype  \n",
      "---  ------               --------------  -----  \n",
      " 0   Sex                  64851 non-null  float64\n",
      " 1   Study Type           64851 non-null  float64\n",
      " 2   Study Design         64851 non-null  int32  \n",
      " 3   healthy_volunteers   64851 non-null  int32  \n",
      " 4   adult                64851 non-null  int32  \n",
      " 5   child                64851 non-null  int32  \n",
      " 6   older_adult          64851 non-null  int32  \n",
      " 7   Duration_Days        64851 non-null  float64\n",
      " 8   condition_1          64851 non-null  float64\n",
      " 9   condition_2          64851 non-null  float64\n",
      " 10  condition_3          64851 non-null  float64\n",
      " 11  condition_4          64851 non-null  float64\n",
      " 12  condition_5          64851 non-null  float64\n",
      " 13  condition_6          64851 non-null  float64\n",
      " 14  DEVICE               64851 non-null  float64\n",
      " 15  PROCEDURE            64851 non-null  float64\n",
      " 16  RADIATION            64851 non-null  float64\n",
      " 17  DRUG                 64851 non-null  float64\n",
      " 18  BIOLOGICAL           64851 non-null  float64\n",
      " 19  OTHER                64851 non-null  float64\n",
      " 20  Allocation           64851 non-null  float64\n",
      " 21  Intervention Model   64851 non-null  float64\n",
      " 22  Masking              64851 non-null  float64\n",
      " 23  Primary Purpose      64851 non-null  float64\n",
      " 24  Observational Model  64851 non-null  float64\n",
      " 25  Study Title_vectors  64851 non-null  float64\n",
      " 26  participants         64851 non-null  int32  \n",
      "dtypes: float64(21), int32(6)\n",
      "memory usage: 11.9 MB\n"
     ]
    }
   ],
   "source": [
    "X_test.info()"
   ]
  },
  {
   "cell_type": "code",
   "execution_count": 257,
   "id": "c88fc923-74de-4825-b83a-7c92e8247bb3",
   "metadata": {},
   "outputs": [],
   "source": [
    "\n",
    "new_order = ['Sex', 'adult', 'older_adult','child','healthy_volunteers','Study Type','Study Design','condition_1','condition_2','condition_3','condition_4','condition_5','condition_6',\n",
    "            'DEVICE','PROCEDURE','RADIATION','DRUG','BIOLOGICAL','OTHER','Study Title_vectors','Duration_Days','Allocation','Intervention Model',\n",
    "            'Masking','Primary Purpose','Observational Model','participants']\n",
    "\n",
    "# Reorder columns using reindex()\n",
    "df_reordered = X_test.reindex(columns=new_order)\n"
   ]
  },
  {
   "cell_type": "code",
   "execution_count": 271,
   "id": "c996ee29-7b7e-4085-a033-fbef3990f9d8",
   "metadata": {},
   "outputs": [],
   "source": [
    "X_test=df_reordered.copy()"
   ]
  },
  {
   "cell_type": "code",
   "execution_count": 272,
   "id": "d7f67f20-2da8-4f19-ae07-59aee1dd587b",
   "metadata": {},
   "outputs": [],
   "source": [
    "predictions = best_model.predict(X_test) \n",
    "\n",
    "# Add the predictions to the test data\n",
    "X_test['Predictions'] = predictions\n"
   ]
  },
  {
   "cell_type": "code",
   "execution_count": 287,
   "id": "f2e2f28f-c512-4ad9-ba0e-c7cfca5490dc",
   "metadata": {},
   "outputs": [],
   "source": [
    "X_test['Predictions'] = X_test['Predictions'].map({0: 'Completed', 1: 'Not Completed'})"
   ]
  },
  {
   "cell_type": "code",
   "execution_count": 289,
   "id": "2705d48e-84bd-481b-a02f-7a95f6bb9c5c",
   "metadata": {},
   "outputs": [],
   "source": [
    "X_test.to_csv('predictions_test.csv',index=False)"
   ]
  },
  {
   "cell_type": "code",
   "execution_count": 291,
   "id": "1edffd65-caa8-49fc-a78b-a954299b46c2",
   "metadata": {},
   "outputs": [
    {
     "data": {
      "text/plain": [
       "Predictions\n",
       "Completed        47461\n",
       "Not Completed    17390\n",
       "Name: count, dtype: int64"
      ]
     },
     "execution_count": 291,
     "metadata": {},
     "output_type": "execute_result"
    }
   ],
   "source": [
    "X_test['Predictions'].value_counts()"
   ]
  },
  {
   "cell_type": "code",
   "execution_count": null,
   "id": "cf598ae8-487f-4e55-8b33-2769cca52b81",
   "metadata": {},
   "outputs": [],
   "source": []
  }
 ],
 "metadata": {
  "kernelspec": {
   "display_name": "Python 3 (ipykernel)",
   "language": "python",
   "name": "python3"
  },
  "language_info": {
   "codemirror_mode": {
    "name": "ipython",
    "version": 3
   },
   "file_extension": ".py",
   "mimetype": "text/x-python",
   "name": "python",
   "nbconvert_exporter": "python",
   "pygments_lexer": "ipython3",
   "version": "3.12.6"
  }
 },
 "nbformat": 4,
 "nbformat_minor": 5
}
